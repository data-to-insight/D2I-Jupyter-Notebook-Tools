{
 "cells": [
  {
   "cell_type": "markdown",
   "metadata": {},
   "source": [
    "Make functions as simple as possible\n",
    "Use meaningful names for functions (and variables, classes etc.) e.g. check_year\n",
    "Create docstrings for every function describing what it does\n",
    "Create unit tests for as many functions as possible\n",
    "Always work on a non /main branch\n",
    "Create new branches for each issue you want to fix\n",
    "Don't repeat yourself (if you're going to do something multiple times try and turn it into a function/class)\n"
   ]
  },
  {
   "cell_type": "markdown",
   "metadata": {},
   "source": [
    "Functions are repeatable bits of code, a good rule of thumb is if you think you might have to repeat an action more than once, write it as a function, and if you find yourself repeating an action more than once, re-write it as a function"
   ]
  },
  {
   "cell_type": "code",
   "execution_count": 1,
   "metadata": {},
   "outputs": [
    {
     "name": "stdout",
     "output_type": "stream",
     "text": [
      "9\n"
     ]
    }
   ],
   "source": [
    "def sum_function(x, y): # We tell Python we want to start defining a function with def, name it (generally snake case), put arguments in brackets, then colon to start defining\n",
    "    '''It is good practice to write a docstring for every function explaining what it does.\n",
    "    These are done with three apostrphes. Different organisations/repos will have preferences \n",
    "    for the style a docstring should use. Generally, a docstring says: whata  function does,\n",
    "     what goes in, what comes out. Here is a docstring example for this function:\n",
    "     \n",
    "     Adds two numbers, returns the result.\n",
    "     \n",
    "     Args:\n",
    "        x, y: Numbers to be added\n",
    "    \n",
    "    Returns:\n",
    "        z: The sum of the args x and y.\n",
    "    '''\n",
    "    z = x + y\n",
    "    return z # The return statement is important, when you set a variable equal to a function, it tells Python what you want the variable to equal\n",
    "\n",
    "sum_4_5 = sum_function(4, 5)\n",
    "print(sum_4_5)"
   ]
  },
  {
   "cell_type": "code",
   "execution_count": 11,
   "metadata": {},
   "outputs": [
    {
     "ename": "SyntaxError",
     "evalue": "unterminated string literal (detected at line 19) (1500044931.py, line 19)",
     "output_type": "error",
     "traceback": [
      "\u001b[0;36m  Cell \u001b[0;32mIn[11], line 19\u001b[0;36m\u001b[0m\n\u001b[0;31m    print(f'The sum of 3 and 4 is {sum_3_4} \\\u001b[0m\n\u001b[0m          ^\u001b[0m\n\u001b[0;31mSyntaxError\u001b[0m\u001b[0;31m:\u001b[0m unterminated string literal (detected at line 19)\n"
     ]
    }
   ],
   "source": [
    "def sum_prod(x, y): # Notice the names of the functions explain clearly what the function will do\n",
    "    '''Finds the sum and product of two numbers, returning the result.\n",
    "    \n",
    "    Args:\n",
    "        x, y: Numbers for which the sum and product will be found.\n",
    "        \n",
    "    Returns:\n",
    "        sum: The sum of x and y.\n",
    "        prod: The product of x and y.\n",
    "    '''\n",
    "\n",
    "    sum = x + y\n",
    "    prod = x * y\n",
    "    \n",
    "    return x, y # Notice here the function returns two things, when we call the function, notice how we assign variables to each of those variables\n",
    "\n",
    "sum_3_4, prod_3_4 = sum_prod(3, 4)\n",
    "\n",
    "# In the print statement below we've used an f string to allow us to use variables inside the string (preceed with an f, variables inside {})\n",
    "# We've also written the string over two lines, using \\ to tell Python the string continues on the next line.\n",
    "# We have also used \\n to tell Python that there should be a line break in the string\n",
    "print(f'The sum of 3 and 4 is {sum_3_4} \\\n",
    "     \\n The product of 3 and 4 is {prod_3_4}.') "
   ]
  }
 ],
 "metadata": {
  "kernelspec": {
   "display_name": "Python 3",
   "language": "python",
   "name": "python3"
  },
  "language_info": {
   "codemirror_mode": {
    "name": "ipython",
    "version": 3
   },
   "file_extension": ".py",
   "mimetype": "text/x-python",
   "name": "python",
   "nbconvert_exporter": "python",
   "pygments_lexer": "ipython3",
   "version": "3.10.8"
  },
  "orig_nbformat": 4
 },
 "nbformat": 4,
 "nbformat_minor": 2
}
