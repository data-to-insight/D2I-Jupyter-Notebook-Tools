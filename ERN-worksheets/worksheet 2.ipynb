{
 "cells": [
  {
   "cell_type": "markdown",
   "metadata": {},
   "source": [
    "Make functions as simple as possible\n",
    "Use meaningful names for functions (and variables, classes etc.) e.g. check_year\n",
    "Create docstrings for every function describing what it does\n",
    "Create unit tests for as many functions as possible\n",
    "Always work on a non /main branch\n",
    "Create new branches for each issue you want to fix\n",
    "Don't repeat yourself (if you're going to do something multiple times try and turn it into a function/class)\n"
   ]
  },
  {
   "cell_type": "markdown",
   "metadata": {},
   "source": [
    "Functions are repeatable bits of code, a good rule of thumb is if you think you might have to repeat an action more than once, write it as a function, and if you find yourself repeating an action more than once, re-write it as a function"
   ]
  },
  {
   "cell_type": "code",
   "execution_count": 1,
   "metadata": {},
   "outputs": [
    {
     "name": "stdout",
     "output_type": "stream",
     "text": [
      "9\n"
     ]
    }
   ],
   "source": [
    "def sum_function(x, y): # We tell Python we want to start defining a function with def, name it (generally snake case), put arguments in brackets, then colon to start defining\n",
    "    '''It is good practice to write a docstring for every function explaining what it does.\n",
    "    These are done with three apostrphes. Different organisations/repos will have preferences \n",
    "    for the style a docstring should use. Generally, a docstring says: whata  function does,\n",
    "     what goes in, what comes out. Here is a docstring example for this function:\n",
    "     \n",
    "     Adds two numbers, returns the result.\n",
    "     \n",
    "     Args:\n",
    "        x, y: Numbers to be added\n",
    "    \n",
    "    Returns:\n",
    "        z: The sum of the args x and y.\n",
    "    '''\n",
    "    z = x + y\n",
    "    return z # The return statement is important, when you set a variable equal to a function, it tells Python what you want the variable to equal\n",
    "\n",
    "sum_4_5 = sum_function(4, 5)\n",
    "print(sum_4_5)"
   ]
  },
  {
   "cell_type": "code",
   "execution_count": 2,
   "metadata": {},
   "outputs": [
    {
     "name": "stdout",
     "output_type": "stream",
     "text": [
      "The sum of 3 and 4 is 3     \n",
      "The product of 3 and 4 is 4.\n"
     ]
    }
   ],
   "source": [
    "def sum_prod(x, y): # Notice the names of the functions explain clearly what the function will do\n",
    "    '''Finds the sum and product of two numbers, returning the result.\n",
    "    \n",
    "    Args:\n",
    "        x, y: Numbers for which the sum and product will be found.\n",
    "        \n",
    "    Returns:\n",
    "        sum: The sum of x and y.\n",
    "        prod: The product of x and y.\n",
    "    '''\n",
    "\n",
    "    sum = x + y\n",
    "    prod = x * y\n",
    "    \n",
    "    return x, y # Notice here the function returns two things, when we call the function, notice how we assign variables to each of those variables\n",
    "\n",
    "sum_3_4, prod_3_4 = sum_prod(3, 4)\n",
    "\n",
    "# In the print statement below we've used an f string to allow us to use variables inside the string (preceed with an f, variables inside {})\n",
    "# We've also written the string over two lines, using \\ to tell Python the string continues on the next line.\n",
    "# We have also used \\n to tell Python that there should be a line break in the string\n",
    "print(f'The sum of 3 and 4 is {sum_3_4}\\\n",
    "     \\nThe product of 3 and 4 is {prod_3_4}.') "
   ]
  },
  {
   "cell_type": "markdown",
   "metadata": {},
   "source": [
    "We generally want functions do do the most suitably simple thing we can, which often means chaining functions, putting multiple functions inside others."
   ]
  },
  {
   "cell_type": "code",
   "execution_count": 5,
   "metadata": {},
   "outputs": [
    {
     "name": "stdout",
     "output_type": "stream",
     "text": [
      "11 30\n"
     ]
    }
   ],
   "source": [
    "def sum_xy(x, y):\n",
    "    ''' Sums two values.\n",
    "    \n",
    "    Args:\n",
    "        x, y (int): values to be summed.\n",
    "    \n",
    "    Returns:\n",
    "        Sum of x and y.\n",
    "    '''\n",
    "    return x + y\n",
    "\n",
    "def prod_xy(x, y):\n",
    "    '''Find the product of two values.\n",
    "    \n",
    "    Args:\n",
    "        x, y (int): values to be multipled.\n",
    "    \n",
    "    Returns:\n",
    "        Product of x and y.\n",
    "    '''\n",
    "    return x * y\n",
    "\n",
    "def prod_sum(x, y):\n",
    "    '''Find the product and sum of two values.\n",
    "    \n",
    "    Args:\n",
    "        x, y (int): values to be multipled.\n",
    "    \n",
    "    Returns:\n",
    "        Sum and product of x, y\n",
    "    '''\n",
    "\n",
    "    return sum_xy(x, y),  prod_xy(x, y)\n",
    "\n",
    "val_1, val_2 = prod_sum(5, 6)\n",
    "\n",
    "print(val_1, val_2)"
   ]
  },
  {
   "cell_type": "markdown",
   "metadata": {},
   "source": [
    "When we write functions, it's good practice to raise errors that we expect might occur "
   ]
  },
  {
   "cell_type": "code",
   "execution_count": 12,
   "metadata": {},
   "outputs": [
    {
     "ename": "TypeError",
     "evalue": "x was a string, expected a float or int",
     "output_type": "error",
     "traceback": [
      "\u001b[0;31m---------------------------------------------------------------------------\u001b[0m",
      "\u001b[0;31mTypeError\u001b[0m                                 Traceback (most recent call last)",
      "\u001b[1;32m/workspaces/D2I-Jupyter-Notebook-Tools/ERN-worksheets/worksheet 2.ipynb Cell 8\u001b[0m line \u001b[0;36m1\n\u001b[1;32m      <a href='vscode-notebook-cell://codespaces%2Bsuper-acorn-45gwprwppjjfjg4r/workspaces/D2I-Jupyter-Notebook-Tools/ERN-worksheets/worksheet%202.ipynb#X12sdnNjb2RlLXJlbW90ZQ%3D%3D?line=6'>7</a>\u001b[0m         \u001b[39mif\u001b[39;00m \u001b[39mtype\u001b[39m(y) \u001b[39m==\u001b[39m \u001b[39mstr\u001b[39m:\n\u001b[1;32m      <a href='vscode-notebook-cell://codespaces%2Bsuper-acorn-45gwprwppjjfjg4r/workspaces/D2I-Jupyter-Notebook-Tools/ERN-worksheets/worksheet%202.ipynb#X12sdnNjb2RlLXJlbW90ZQ%3D%3D?line=7'>8</a>\u001b[0m             \u001b[39mraise\u001b[39;00m \u001b[39mTypeError\u001b[39;00m(\u001b[39m'\u001b[39m\u001b[39my was a string, expected a float or int\u001b[39m\u001b[39m'\u001b[39m)\n\u001b[0;32m---> <a href='vscode-notebook-cell://codespaces%2Bsuper-acorn-45gwprwppjjfjg4r/workspaces/D2I-Jupyter-Notebook-Tools/ERN-worksheets/worksheet%202.ipynb#X12sdnNjb2RlLXJlbW90ZQ%3D%3D?line=9'>10</a>\u001b[0m addition_xy(\u001b[39m'\u001b[39;49m\u001b[39m5\u001b[39;49m\u001b[39m'\u001b[39;49m, \u001b[39m4\u001b[39;49m)\n",
      "\u001b[1;32m/workspaces/D2I-Jupyter-Notebook-Tools/ERN-worksheets/worksheet 2.ipynb Cell 8\u001b[0m line \u001b[0;36m6\n\u001b[1;32m      <a href='vscode-notebook-cell://codespaces%2Bsuper-acorn-45gwprwppjjfjg4r/workspaces/D2I-Jupyter-Notebook-Tools/ERN-worksheets/worksheet%202.ipynb#X12sdnNjb2RlLXJlbW90ZQ%3D%3D?line=3'>4</a>\u001b[0m \u001b[39melif\u001b[39;00m (\u001b[39mtype\u001b[39m(x) \u001b[39m==\u001b[39m \u001b[39mstr\u001b[39m) \u001b[39m|\u001b[39m (\u001b[39mtype\u001b[39m(y) \u001b[39m==\u001b[39m \u001b[39mstr\u001b[39m):\n\u001b[1;32m      <a href='vscode-notebook-cell://codespaces%2Bsuper-acorn-45gwprwppjjfjg4r/workspaces/D2I-Jupyter-Notebook-Tools/ERN-worksheets/worksheet%202.ipynb#X12sdnNjb2RlLXJlbW90ZQ%3D%3D?line=4'>5</a>\u001b[0m     \u001b[39mif\u001b[39;00m \u001b[39mtype\u001b[39m(x) \u001b[39m==\u001b[39m \u001b[39mstr\u001b[39m:\n\u001b[0;32m----> <a href='vscode-notebook-cell://codespaces%2Bsuper-acorn-45gwprwppjjfjg4r/workspaces/D2I-Jupyter-Notebook-Tools/ERN-worksheets/worksheet%202.ipynb#X12sdnNjb2RlLXJlbW90ZQ%3D%3D?line=5'>6</a>\u001b[0m         \u001b[39mraise\u001b[39;00m \u001b[39mTypeError\u001b[39;00m(\u001b[39m'\u001b[39m\u001b[39mx was a string, expected a float or int\u001b[39m\u001b[39m'\u001b[39m)\n\u001b[1;32m      <a href='vscode-notebook-cell://codespaces%2Bsuper-acorn-45gwprwppjjfjg4r/workspaces/D2I-Jupyter-Notebook-Tools/ERN-worksheets/worksheet%202.ipynb#X12sdnNjb2RlLXJlbW90ZQ%3D%3D?line=6'>7</a>\u001b[0m     \u001b[39mif\u001b[39;00m \u001b[39mtype\u001b[39m(y) \u001b[39m==\u001b[39m \u001b[39mstr\u001b[39m:\n\u001b[1;32m      <a href='vscode-notebook-cell://codespaces%2Bsuper-acorn-45gwprwppjjfjg4r/workspaces/D2I-Jupyter-Notebook-Tools/ERN-worksheets/worksheet%202.ipynb#X12sdnNjb2RlLXJlbW90ZQ%3D%3D?line=7'>8</a>\u001b[0m         \u001b[39mraise\u001b[39;00m \u001b[39mTypeError\u001b[39;00m(\u001b[39m'\u001b[39m\u001b[39my was a string, expected a float or int\u001b[39m\u001b[39m'\u001b[39m)\n",
      "\u001b[0;31mTypeError\u001b[0m: x was a string, expected a float or int"
     ]
    }
   ],
   "source": [
    "def addition_xy(x, y):\n",
    "    if ((type(x) == float) | (type(x) == int)) & ((type(y) == float) | (type(y) == int)):\n",
    "        return x + y\n",
    "    elif (type(x) == str) | (type(y) == str):\n",
    "        if type(x) == str:\n",
    "            raise TypeError('x was a string, expected a float or int')\n",
    "        if type(y) == str:\n",
    "            raise TypeError('y was a string, expected a float or int')\n",
    "\n",
    "addition_xy('5', 4)"
   ]
  },
  {
   "cell_type": "markdown",
   "metadata": {},
   "source": [
    "When we write functions, we need to test that they do what's expected given a number of cases, making sure to check for edge cases. A popular way to do this is with Pytest. Running Pytest in Jupyter is a bit different to normal, but writing test functions is easily transferable to other environments, so we'll do it here for now."
   ]
  },
  {
   "cell_type": "code",
   "execution_count": null,
   "metadata": {},
   "outputs": [],
   "source": [
    "import pytest "
   ]
  }
 ],
 "metadata": {
  "kernelspec": {
   "display_name": "Python 3",
   "language": "python",
   "name": "python3"
  },
  "language_info": {
   "codemirror_mode": {
    "name": "ipython",
    "version": 3
   },
   "file_extension": ".py",
   "mimetype": "text/x-python",
   "name": "python",
   "nbconvert_exporter": "python",
   "pygments_lexer": "ipython3",
   "version": "3.10.8"
  },
  "orig_nbformat": 4
 },
 "nbformat": 4,
 "nbformat_minor": 2
}
