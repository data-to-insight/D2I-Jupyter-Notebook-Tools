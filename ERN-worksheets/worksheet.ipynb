{
 "cells": [
  {
   "cell_type": "markdown",
   "metadata": {},
   "source": [
    "In Python, lots of things are done using variables. We can store data in variables in many ways, including individual items of data, lists of data, dictionaries, and dataframes. We can also store more complicated things like classes and operations, we won't worry about the complex things now though. Let's first of all look at how variables can store individual items of data, and some of the quirks of that."
   ]
  },
  {
   "cell_type": "code",
   "execution_count": 1,
   "metadata": {},
   "outputs": [
    {
     "name": "stdout",
     "output_type": "stream",
     "text": [
      "15\n",
      "2.0\n",
      "<class 'float'>\n",
      "<class 'int'>\n"
     ]
    }
   ],
   "source": [
    "x = 5\n",
    "y = 10\n",
    "z = x + y\n",
    "print(z) # print is a function that, for our simple purposes, will show you in the terminal (or on the page in Jupyter) the data stored in a variable\n",
    "j = y / x\n",
    "print(j)\n",
    "print(type(j)) # printing the type of a variable tells us what data is stored in it, floats are numbers with decimals\n",
    "j = int(j)\n",
    "print((type(j))) # we can also convert j to an integer, and check its worked by printing its new type"
   ]
  },
  {
   "cell_type": "code",
   "execution_count": 2,
   "metadata": {},
   "outputs": [
    {
     "name": "stdout",
     "output_type": "stream",
     "text": [
      "<class 'str'>\n",
      "WillRunning\n",
      "My name is Will, and I like Running.\n"
     ]
    }
   ],
   "source": [
    "name = 'Will' # This is a string, we use a string to tell Python the data stored should be text, not code or numbers. As will be seen, strings act differently to floats/ints\n",
    "print(type(name))\n",
    "hobby = 'Running'\n",
    "long_string = name + hobby\n",
    "print(long_string) # As we can see, addition of strings concats those strings\n",
    "# The below is an 'f string' which allows us to insert variables INSIDE a string\n",
    "phrase = f'My name is {name}, and I like {hobby}.' \n",
    "# String behaviour and f strings can be useful when we want to join up variables of strings, really useful when making dynamic titles for visualisations\n",
    "print(phrase)"
   ]
  },
  {
   "cell_type": "code",
   "execution_count": 3,
   "metadata": {},
   "outputs": [
    {
     "name": "stdout",
     "output_type": "stream",
     "text": [
      "y name is\n",
      "heres_a_file\n"
     ]
    }
   ],
   "source": [
    "string_slice = phrase[1:10] # strings are interesting as we can easily select certain parts of them by selecting a range in square brackets\n",
    "# When using square brackets to slice a range, the number to the left is INCLUSIVE, the number to the right is EXCLUSIVE\n",
    "# You'll notice this new string starts at y, why? In most instances, most things in Pythonc ount from 0 as the first index location.\n",
    "print(string_slice)\n",
    "filename = 'heres_a_file.csv'\n",
    "shortened_name = filename[:-4] # We can also start the count from the end of the string, here -4 means I want my last character to be 4 from the end.\n",
    "# When we don't put a number on one side of the colon, it means 'take everything this side of the range', so string[4:] would mean take everything\n",
    "# after the 4th character\n",
    "print(shortened_name)"
   ]
  },
  {
   "cell_type": "markdown",
   "metadata": {},
   "source": [
    "Lets have a look at lists now. We can initialise a list by using square brackets and assigning them to a variable. We seperate elements of a list with commas. We can put pretty much whatever we want in a list: ints, strings, dictionaries, other lists, a whole range of things. A full list of list methods can be found here: https://docs.python.org/3/tutorial/datastructures.html"
   ]
  },
  {
   "cell_type": "code",
   "execution_count": 4,
   "metadata": {},
   "outputs": [
    {
     "name": "stdout",
     "output_type": "stream",
     "text": [
      "<class 'list'>\n",
      "['red', 'blue', 'green']\n",
      "['red', 'blue', 'green', 'purple']\n",
      "['red', 'blue', 'green', 'purple', ['turquoise', 'teal']]\n",
      "['red', 'blue', 'green', 'purple', ['turquoise', 'teal'], 'turquoise', 'teal']\n",
      "['purple', ['turquoise', 'teal'], 'turquoise', 'teal']\n",
      "['red', 'blue', 'green', 'purple', ['turquoise', 'teal'], 'turquoise']\n"
     ]
    }
   ],
   "source": [
    "list_1 = [] # Even though there's nothing in here, it's a list, we can check by printing type(list_1)\n",
    "print(type(list_1))\n",
    "\n",
    "colours_list = ['red', 'blue', 'green']\n",
    "print(colours_list)\n",
    "\n",
    "colours_list.append('purple') # The append method adds whatever is being appended to a list as one item in a list\n",
    "print(colours_list)\n",
    "\n",
    "extra_colours = ['turquoise', 'teal']\n",
    "colours_list.append(extra_colours)\n",
    "print(colours_list) # You can see here it's appended the whole list extra_colours as one item in the list\n",
    "\n",
    "# Instead, we can extend a to have each element of a list as a new element in another list with the .extend() method\n",
    "colours_list.extend(extra_colours)\n",
    "print(colours_list)\n",
    "\n",
    "print(colours_list[3:7]) # We can also access elements in a list the same way we can strings\n",
    "\n",
    "colours_list.remove('teal') # We can remove list elements using.remove\n",
    "print(colours_list)\n"
   ]
  },
  {
   "cell_type": "code",
   "execution_count": 5,
   "metadata": {},
   "outputs": [
    {
     "name": "stdout",
     "output_type": "stream",
     "text": [
      "[1, 2, 3, 4, 5, 6]\n",
      "[6, 5, 4, 3, 2, 1]\n",
      "[2, 3, 3, 4, 5]\n",
      "['amber', 'blue', 'green', 'red']\n"
     ]
    }
   ],
   "source": [
    "numbers_list = [2,3,4,5,1,6]\n",
    "numbers_list.sort() # we can sort lists too, here using a method\n",
    "print(numbers_list) \n",
    "numbers_list.sort(reverse=True)\n",
    "print(numbers_list) \n",
    "\n",
    "sorted_list = sorted([3,2,3,4,5]) # Here we sort a list using a function and returning it to a new variable\n",
    "print(sorted_list)\n",
    "\n",
    "colours_list = ['red', 'blue', 'green', 'amber']\n",
    "sorted_colours = sorted(colours_list, key=str.lower)\n",
    "print(sorted_colours)\n",
    "\n"
   ]
  },
  {
   "cell_type": "markdown",
   "metadata": {},
   "source": [
    "Now lets look at dictionaries. dictionaries may initially seem a little confusing, and not overly helpful, but they are an incredibly powerful tool. Dictionaries allow us to store things in key:value pairs, where, generally, the key is a string or a number, keys must be unique within a dictionary and must be immutable objects (objects that can't be changed, like lists), and the value is... pretty much whatever we want it to be. We build a list using curly brackets {}, seperating key:value pairs with colons, and entries with commas."
   ]
  },
  {
   "cell_type": "code",
   "execution_count": 6,
   "metadata": {},
   "outputs": [
    {
     "name": "stdout",
     "output_type": "stream",
     "text": [
      "{'Will': 'teal', 'Andy': ['Purple', 'Green', 'Azure'], 'Annie': {'Mondays': 'Red', 'Sundays': 'Orange', 'Other days': 'Black'}}\n",
      "['Will', 'Andy', 'Annie']\n",
      "dict_items([('Will', 'teal'), ('Andy', ['Purple', 'Green', 'Azure']), ('Annie', {'Mondays': 'Red', 'Sundays': 'Orange', 'Other days': 'Black'})])\n",
      "dict_keys(['Will', 'Andy', 'Annie'])\n",
      "dict_values(['teal', ['Purple', 'Green', 'Azure'], {'Mondays': 'Red', 'Sundays': 'Orange', 'Other days': 'Black'}])\n"
     ]
    }
   ],
   "source": [
    "favourite_colours = {'Will':'teal',\n",
    "                     'Andy':['Purple', 'Green', 'Azure'],\n",
    "                     'Annie':{'Mondays':'Red',\n",
    "                              'Sundays':'Orange',\n",
    "                              'Other days':'Black'}}\n",
    "print(favourite_colours) # Here you can see I've stored strongs, lists, and even entire dictionaries inside strings\n",
    "print(list(favourite_colours)) # list(d) will print the keys, in order from a dictionary\n",
    "print(favourite_colours.items()) # Prints all key:value pairs\n",
    "print(favourite_colours.keys()) # Prints all keys\n",
    "print(favourite_colours.values()) # Prints all values\n",
    "\n",
    "\n"
   ]
  },
  {
   "cell_type": "code",
   "execution_count": 7,
   "metadata": {},
   "outputs": [
    {
     "name": "stdout",
     "output_type": "stream",
     "text": [
      "teal\n",
      "{'Will': 'teal', 'Andy': ['Purple', 'Green', 'Azure'], 'Annie': {'Mondays': 'Red', 'Sundays': 'Orange', 'Other days': 'Black'}, 'Naiomi': 'Yellow'}\n",
      "False\n"
     ]
    }
   ],
   "source": [
    "print(favourite_colours['Will']) # We can access the values associated with a key by passing it between square brackets after the dictionary's name\n",
    "\n",
    "favourite_colours['Naiomi'] = 'Yellow' # We can also add/update key value pairs in a similar way\n",
    "print(favourite_colours)\n",
    "\n",
    "print('Mo' in favourite_colours) # We can check if a key is in a dict or not like so"
   ]
  },
  {
   "cell_type": "markdown",
   "metadata": {},
   "source": [
    "Now we'll look at dataframes which are probably going to be the most powerful ways of storing, manipulating, and using data for us. Dataframes is one of the key ways of working with tabular data in Python. To use them, we need to import the package that has them to our workspace. It's called pandas. Every time we use the package, we'd have to tell Python we want to, bu calling 'pandas' but this is a bit long to do over and over, so the accepted way is to import pandas as pd, and we can use pd as short for pandas. This will become clear as we go.\n",
    "\n",
    "Dataframes can be made in lots of ways, we can build them from scratch using things like lists and dictionaries, we can read in data from files like CSVs and Excel files, and we can even use extra packages like SQLAlchemy to query SQL databases directly into dataframes. For now, we'll build up our skills by hard coding them from scratch, first using dicitonaries. In this case, we will make a dictionary, with each key being a column, and all the values in lists being the values in that column per row."
   ]
  },
  {
   "cell_type": "code",
   "execution_count": 8,
   "metadata": {},
   "outputs": [
    {
     "name": "stdout",
     "output_type": "stream",
     "text": [
      "  here's a column  Here's another and another\n",
      "0           Val 1               4         foo\n",
      "1               2               5         bar\n",
      "2           Val 3               6         baz\n",
      "  letter word  number\n",
      "0      A  Foo       1\n",
      "1      B  Bar       2\n",
      "2      C  Baz       3\n"
     ]
    }
   ],
   "source": [
    "import pandas as pd\n",
    "\n",
    "d = {\"here's a column\":['Val 1', 2, 'Val 3'], # Notice here we made a string, but the string had an apostrophe in, to make sure the apostrophe was inside the string, we used double quotes\n",
    "     \"Here's another\":[4, 5, 6],\n",
    "     \"and another\":['foo', 'bar', 'baz']}\n",
    "\n",
    "df_1  = pd.DataFrame(d)\n",
    "print(df_1)\n",
    "\n",
    "df_2 = pd.DataFrame([  # Perhaps a more intuituve way of building a df, one dict per row\n",
    "    {'letter':'A',\n",
    "     'word':'Foo',\n",
    "     'number':1},\n",
    "     {'letter':'B',\n",
    "     'word':'Bar',\n",
    "     'number':2},\n",
    "     {'letter':'C',\n",
    "     'word':'Baz',\n",
    "     'number':3},\n",
    "])\n",
    "\n",
    "print(df_2)\n"
   ]
  },
  {
   "cell_type": "markdown",
   "metadata": {},
   "source": [
    "We will often want to interrogate data in dfs, a good way to start is by using the .info() method, .dtypes is also useful to find out what type of data is stored in a column. .head(n)/.tail(n) will print the top/bottom n rows respectively. A full list of Pandas methods can be found here: https://pandas.pydata.org/pandas-docs/stable/user_guide/basics.html"
   ]
  },
  {
   "cell_type": "code",
   "execution_count": 9,
   "metadata": {},
   "outputs": [
    {
     "name": "stdout",
     "output_type": "stream",
     "text": [
      "<class 'pandas.core.frame.DataFrame'>\n",
      "RangeIndex: 3 entries, 0 to 2\n",
      "Data columns (total 3 columns):\n",
      " #   Column  Non-Null Count  Dtype \n",
      "---  ------  --------------  ----- \n",
      " 0   letter  3 non-null      object\n",
      " 1   word    3 non-null      object\n",
      " 2   number  3 non-null      int64 \n",
      "dtypes: int64(1), object(2)\n",
      "memory usage: 200.0+ bytes\n",
      "None\n",
      "letter    object\n",
      "word      object\n",
      "number     int64\n",
      "dtype: object\n",
      "  letter word  number\n",
      "2      C  Baz       3\n"
     ]
    }
   ],
   "source": [
    "print(df_2.info())\n",
    "print(df_2.dtypes)\n",
    "print(df_2.tail(1))\n"
   ]
  },
  {
   "cell_type": "code",
   "execution_count": 12,
   "metadata": {},
   "outputs": [
    {
     "name": "stdout",
     "output_type": "stream",
     "text": [
      "letter          ABC\n",
      "word      FooBarBaz\n",
      "number            6\n",
      "dtype: object\n",
      "2.0\n",
      "0    1\n",
      "1    3\n",
      "2    6\n",
      "Name: number, dtype: int64\n",
      "[1, 3]\n"
     ]
    }
   ],
   "source": [
    "print(df_2.sum()) # See how it sums strings, exactly as we did earlier?\n",
    "print(df_2['number'].mean()) # You obviously can't take the mean of strings, so lets look at just the number column, we access using square braces\n",
    "print(df_2['number'].cumsum()) # cumalative sum is also useful\n",
    "print([df_2['number'].min(), df_2.number.max()]) # Min and max. Notice we can access a column using . notation rather than square braces if we want, though square braces is more common"
   ]
  },
  {
   "cell_type": "code",
   "execution_count": 15,
   "metadata": {},
   "outputs": [
    {
     "name": "stdout",
     "output_type": "stream",
     "text": [
      "  letter word  number  product 3 multiple of 3\n",
      "0      A  Foo       1          3           Yes\n",
      "1      B  Bar       2          6           Yes\n",
      "2      C  Baz       3          9            No\n",
      "  letter word  number  product 3 multiple of 3\n",
      "0      A  Foo       1          3           Yes\n",
      "1      B  Bar       2          6           Yes\n",
      "2      C  Baz       3          9            No\n"
     ]
    }
   ],
   "source": [
    "df_2['product 3'] = df_2['number'] * 3 # we can also perform actions on columns easily, for example, multiplying each row in the number column by 3 to make a new column\n",
    "print(df_2)\n",
    "\n",
    "def multiple_of_3(x):\n",
    "    if x % 3:\n",
    "        return 'Yes'\n",
    "    else:\n",
    "        return 'No'\n",
    "    \n",
    "df_2['multiple of 3'] = df_2['number'].map(multiple_of_3) # mapping is really useful if we want to perform an action for every row that changes based on value sin rows\n",
    "print(df_2)"
   ]
  }
 ],
 "metadata": {
  "kernelspec": {
   "display_name": "Python 3",
   "language": "python",
   "name": "python3"
  },
  "language_info": {
   "codemirror_mode": {
    "name": "ipython",
    "version": 3
   },
   "file_extension": ".py",
   "mimetype": "text/x-python",
   "name": "python",
   "nbconvert_exporter": "python",
   "pygments_lexer": "ipython3",
   "version": "3.0.0"
  },
  "orig_nbformat": 4
 },
 "nbformat": 4,
 "nbformat_minor": 2
}
