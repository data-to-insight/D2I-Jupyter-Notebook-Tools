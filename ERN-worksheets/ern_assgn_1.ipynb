{
 "cells": [
  {
   "cell_type": "code",
   "execution_count": null,
   "metadata": {},
   "outputs": [],
   "source": [
    "# You should expect to have to Google how to do things for every assignment.\n",
    "# This is because a really important part of coding is knowing how to search for answers.\n",
    "# Don't expect to know how to solve problems already.\n",
    "\n",
    "# Using an appropriate name, initialise an empty dicitonary which you will store the outcome of some sums in.\n",
    "# Then, setting 7 as x and 5 as y, find:\n",
    "# x + y\n",
    "# x - y\n",
    "# x squared\n",
    "# y squared\n",
    "# x to the power y\n",
    "# Assigning each to a variable with an appropriate name.\n",
    "# Finally, add each of these answers as entries in your dicitonary and print the dictionary."
   ]
  },
  {
   "cell_type": "code",
   "execution_count": null,
   "metadata": {},
   "outputs": [],
   "source": [
    "# Assume a credit card number is '4444444444444444', store this as a string with an appropriate name.\n",
    "# Slice the string to only show the last four digits with an appropriate name.\n",
    "# Manipulate the sliced variable so that it appears with an appropriate number of Xs before the last 4 digits\n",
    "# Giving this new string an appropriate name, print it.\n",
    "# Your print readout should look like 'XXXXXXXXXXXX4444'\n",
    "# At no point should you make a string from scratch that is just 'XXXXXXXXXXXX4444', that defeats the point of the exercise"
   ]
  },
  {
   "cell_type": "code",
   "execution_count": null,
   "metadata": {},
   "outputs": [],
   "source": []
  }
 ],
 "metadata": {
  "language_info": {
   "name": "python"
  }
 },
 "nbformat": 4,
 "nbformat_minor": 2
}
