{
 "cells": [
  {
   "cell_type": "code",
   "execution_count": null,
   "metadata": {},
   "outputs": [],
   "source": [
    "# This assignment focuses on dataframes\n",
    "# First off, using a method of your choice, make a dataframe with the columns:\n",
    "# EmployeeID, Age, Salary, Job Title\n",
    "# Fill this out with arbitrary but sensible inputs for 5 rows.\n",
    "# Ensure age and salary are stored as the right type of data for numbers, and that there's a good range of salaries"
   ]
  },
  {
   "cell_type": "code",
   "execution_count": null,
   "metadata": {},
   "outputs": [],
   "source": [
    "# Use pandas methods to find the maximum and minimum salaries and ages\n",
    "# Find the sum of all the salaries using pandas methods\n",
    "# Find the mean age \n",
    "# A little more tricky: find the longest name and print it, and its length\n",
    "# Assign to an appropriately named variable a slice of the dataframe where all the salaries are above the median\n",
    "# To a different appropriately named variable, slice the dataframe to have only those above the median age who also have a letter (of your choice) at least once in their name"
   ]
  }
 ],
 "metadata": {
  "language_info": {
   "name": "python"
  }
 },
 "nbformat": 4,
 "nbformat_minor": 2
}
