{
 "cells": [
  {
   "cell_type": "code",
   "execution_count": null,
   "metadata": {},
   "outputs": [],
   "source": [
    "# This assignment focuses on dataframes\n",
    "# First off, using a method of your choice, make a dataframe with the columns:\n",
    "# EmployeeID, Age, Salary, Job Title\n",
    "# Fill this out with arbitrary but sensible inputs for 5 rows.\n",
    "# Ensure age and salary are stored as floats, and that there's a good range"
   ]
  },
  {
   "cell_type": "code",
   "execution_count": null,
   "metadata": {},
   "outputs": [],
   "source": [
    "# Use pandas methods to find the maximum and minimum salaries and ages\n",
    "# Find the sum of all the salaries using pandas methods\n",
    "# Find the mean age \n",
    "# A little more tricky: find the longest name and print it, and its length"
   ]
  }
 ],
 "metadata": {
  "language_info": {
   "name": "python"
  }
 },
 "nbformat": 4,
 "nbformat_minor": 2
}
