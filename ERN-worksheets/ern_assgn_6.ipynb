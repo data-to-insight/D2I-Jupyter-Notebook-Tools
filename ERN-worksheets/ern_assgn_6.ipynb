{
 "cells": [
  {
   "cell_type": "code",
   "execution_count": null,
   "metadata": {},
   "outputs": [],
   "source": [
    "# Write a function that accepts a list of numbers as the argument\n",
    "# have it check that the list only contains numbers, if it doesn't have it return an error\n",
    "# Have the function randomize the order of the list and check whether the new, random order of the list has sorted the list into ascending order \n",
    "# Have it keep repeating the previous line until it has randomly sorted the list into order\n",
    "# Finally, print the new, sorted list and check it's worked.\n",
    "# To check if a list is sorted, you would really have to write another fucntion inside your function that checks that each element in the list is smaller than the previous one\n",
    "# However, as this is a beginner exercise, I'll let you check if <randomly sorted list> == sorted(<input list>)\n",
    "\n",
    "# This is a real (but silly) sorting method called either BOGOSORT or stupid-sort, but try not to look up how it's done, just give it a go"
   ]
  },
  {
   "cell_type": "code",
   "execution_count": null,
   "metadata": {},
   "outputs": [],
   "source": [
    "# The extension exercise for this is to write your own function to check if the randomly sorted list is sorted, rather than comparing it to the already sorted list"
   ]
  }
 ],
 "metadata": {
  "kernelspec": {
   "display_name": "Python 3",
   "language": "python",
   "name": "python3"
  },
  "language_info": {
   "codemirror_mode": {
    "name": "ipython",
    "version": 3
   },
   "file_extension": ".py",
   "mimetype": "text/x-python",
   "name": "python",
   "nbconvert_exporter": "python",
   "pygments_lexer": "ipython3",
   "version": "3.10.8"
  }
 },
 "nbformat": 4,
 "nbformat_minor": 2
}
