{
 "cells": [
  {
   "cell_type": "code",
   "execution_count": null,
   "metadata": {},
   "outputs": [],
   "source": [
    "# Remember the exercise from assignment 1 where you had to write code to changea credit card number to display only the 4 last numbers, and the bgeinning as all Xs?\n",
    "# Write a function that takes in any 16 digit number and prints the first 14 chasracters as Xs and the last 4 as the original numbers"
   ]
  },
  {
   "cell_type": "code",
   "execution_count": null,
   "metadata": {},
   "outputs": [],
   "source": [
    "# Now, improve and extend the function to check whether the user has input 16 numbers, if they have put in a different amount of numbers, have it throw an error.\n",
    "# Improve your function again so it can accept a string or an integer (if it can't already)\n"
   ]
  },
  {
   "cell_type": "code",
   "execution_count": null,
   "metadata": {},
   "outputs": [],
   "source": [
    "# Write a function that takes two strings as arguments, checks if the two strings are anagrams, and prints an answer of the form:\n",
    "# <word 1> is an anagram of <word 2>\n",
    "# or\n",
    "# <word 1> is not an anagram of <word 2>"
   ]
  }
 ],
 "metadata": {
  "kernelspec": {
   "display_name": "Python 3",
   "language": "python",
   "name": "python3"
  },
  "language_info": {
   "name": "python",
   "version": "3.10.8"
  }
 },
 "nbformat": 4,
 "nbformat_minor": 2
}
