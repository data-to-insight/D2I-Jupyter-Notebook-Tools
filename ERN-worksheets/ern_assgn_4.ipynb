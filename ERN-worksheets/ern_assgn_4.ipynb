{
 "cells": [
  {
   "cell_type": "code",
   "execution_count": null,
   "metadata": {},
   "outputs": [],
   "source": [
    "# Write a function that generates the fibonacci sequence up to a set number of terms"
   ]
  },
  {
   "cell_type": "code",
   "execution_count": null,
   "metadata": {},
   "outputs": [],
   "source": [
    "# Extend the fibonacci function previously given to take two starting numbers and, using them, generate a fibonacci-like sequence up to a set number of terms."
   ]
  },
  {
   "cell_type": "code",
   "execution_count": null,
   "metadata": {},
   "outputs": [],
   "source": [
    "# Write a function named capital_indexes. The function takes a single parameter, which is a string. \n",
    "# Your function should return a list of all the indexes in the string that have capital letters.\n",
    "\n",
    "# For example, calling capital_indexes(\"HeLlO\") should return the list [0, 2, 4]."
   ]
  }
 ],
 "metadata": {
  "kernelspec": {
   "display_name": "Python 3",
   "language": "python",
   "name": "python3"
  },
  "language_info": {
   "name": "python",
   "version": "3.10.8"
  }
 },
 "nbformat": 4,
 "nbformat_minor": 2
}
