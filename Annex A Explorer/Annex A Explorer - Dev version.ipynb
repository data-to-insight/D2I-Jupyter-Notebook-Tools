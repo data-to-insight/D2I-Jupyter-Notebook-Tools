{
 "cells": [
  {
   "cell_type": "markdown",
   "metadata": {},
   "source": [
    "This Jupyter notebook features python code that allows you to ingest data from the ChAT into a Python environment, which allows for very quick and powerful analysis and visualisation. A primary goal of this notebook is to be set up such that you can change very few variables (such as where the ChAT of interest is stored locally) to get the visualisations you want. Another key goal is to provide a frameowrk of Python code that you can manipulate and play with to get a feel for how Python works, and start using it to generate your own insights and visualisations. One thing you may note when reading through this notebook is just how customizable everything is, with just a little know-how. In almost every instance of the notebook, the code that's there, particularly given variables, is placeholder code that works, but which is meant to be changed based on what you want to do! This is particularly the case with the example variables that are passed to the visualisation functions towards the end of the notebook.\n",
    "\n",
    "How the notebook proceeds:\n",
    "\n",
    "Firstly the sheets of the ChAT necessary for ChAT report style visualisations are read in, this is done in a way that allows the user to input the name and file location of their own ChAT reports by changing a few lines of code.\n",
    "\n",
    "The notebook then performs some basic data cleaning, cutting unnecessary rows and columns, which is a very basic illustration of how Python can be used to automate this type of work.\n",
    "\n",
    "Following this, some very simple calculations are performed. This illustrates how Python can do the work done by the ChAT relatively easily, and very quickly.\n",
    "\n",
    "After this, functions are defined for some of the key graphs/visualisations in the ChAT. These are defined as functions, rather than writing the visualisation each time, to allow the user to easily visualise different bits of data in the ChAT, and to allow visualisations to be reproduced multiple times with different data by adding single lines of code rather than multiple ones. Writing the functions the first time may seem long winded, but allowing them to be re-used makes creating further visualisations very very quick. These visualisations contain both simple code to produce the most basic possible visualisation with the inputted data, but also some of more complex code that is used to more closely reproduce the visualisations in the ChAT report.\n",
    "\n",
    "Once the functions are defined, example variables are passed to the functions to produce visualisations. The exmaple variables are taken from the Early Help section of the ChAT and the outputs are similar, without being exactly the same, to ensure the code doesn't become too unwieldy. So long as your ChAT has been ingested correctly, this should work out of the box. Along with the ingest part of the code, changing the variables passed to the visualisation functions is the most simple thing to do in terms of getting your own output from this notebook. Largely, all it requires you to know is what sheet (List 1 through 11 of the ChAT) your data is on, what column the key data is in, and what you want to title the visualisation.\n",
    "\n",
    "At the end of the notebook, ChAT style visualisations are created which can easily be copied and pasted into a report or powerpoint.\n",
    "\n",
    "Following this introduction, the Markup cells explain what the code in the following Code cells does. The code itself is then heavily commented to make reading it easier, and to make trying it yourself, or changing it, very easy too.\n",
    "\n",
    "\n",
    "Future work:\n",
    "The option to read straight from the Annex A, like the Annex A loader, rather than the ChAT. This would speed up ingest. This requires adding some calculations to the visualisation functions to avoid relying on calculations already performed in the ChAT as this notebook sometimes does.\n",
    "\n",
    "Work out how to automate report generation without additional libraries/packages.\n",
    "\n",
    "Add print statements for runtimes to demonstrate the speed of python."
   ]
  },
  {
   "cell_type": "markdown",
   "metadata": {},
   "source": [
    "The following code imports the packages necessary for the notebook, and sets the location to read the ChAT from on your local computer.\n",
    "\n",
    "Import os allows the notebook to access files on your operating system. \n",
    "\n",
    "Following this, os.chdir (operating system DOT change directory), followed by the filepath where the files you want to use are stored, tells Python where to look for files and allows you to read files into the notebook directly. If you note the URL bar at the top of the screen, it should say something like localhost:8888, that means you're running Python locally, so any files you read in Python are not being uploaded anywhere.\n",
    "\n",
    "chat = 'xxxx.xlsx' (in this case chat = 'CHaT_6.9.xlsx'), creates the variable  called chat. This essentially means every time you write chat in your python code, python reads it as 'xxxx.xslx'. If you pass it the filename of the ChAT file in the directory you have told Python to look in, we can use this later to get python to read the file in. The location of the ChAT file is set as a variable, although it could be written in full where you call it, to improve readability and to make adjusting code easier. This is common in Python.\n",
    "\n"
   ]
  },
  {
   "cell_type": "code",
   "execution_count": null,
   "metadata": {},
   "outputs": [],
   "source": [
    "import os\n",
    "import pandas as pd\n",
    "import numpy as np\n",
    "\n",
    "from pandas.plotting import table \n",
    "\n",
    "import matplotlib.pyplot as plt\n",
    "import seaborn as sns\n",
    "\n",
    "os.chdir(r'YOUR FILEPATH HERE')\n",
    "chat = 'YOUR FILENAME HERE.xlsx'"
   ]
  },
  {
   "cell_type": "markdown",
   "metadata": {},
   "source": [
    "This cell reads in the data from the ChAT for the specified sheets List 1-11 (this can be changed by changing the ListNum variable  to include only the sheets you want). There are a number of ways of importing in the sheets. One is to iterate through the ChAT, pulling a sheet at a time into individual dataframes. The other is to iteratively create a list of names of the sheets you want to read, and only read the excel file once to pull out those sheets. Given that the ChAT is so large, this second option is much quicker. This second option gives us a dictionary of the data frames created with the key:value pair corresponding to the sheet name in the chat, so, the dictionary key List 1 gives us the data frame corresponding to the excel sheet on the ChAT list 1. This means that when, in the notebook, you want to call data from a particular list, youll need to access the dataframe containing the data from that list form the dictionary containing the dataframes. This dictionary is called df (short for dataframes). Let me make it more simple: the way this code works is to read every sheet from List 1-11 from the ChAT into its own dataframe. This set of dataframes, one corresponding to each list, is stored in a dictionary, just like one excel workbook contains lots of sheets. In this notebook, to call on a dataframe from the dictionary, say List 1 we use df['List 1']. Every time we use df['List 1'] and and then perform some action, we are performing it there, for instance df['List 1]['Child Unique ID'] would access the Child unique ID column of the List 1 sheet.\n",
    "\n",
    "The following code first initialises a variable called ListNum where you store the number of lists you want to read from the ChAT. Then, using a for loop, we use ListNum to get the names of every wheet in the ChAT we want to read. This might seem unnecessary, but it allows us to simply change the number of lists we want to read in a couple of digits, rather than writing out the name of ever list we want e.g.: List 1, List 2, etc.\n",
    "\n",
    "After this, the dictionary of the List dataframes, df, is created, reading the excel data from the ChAT using the list of Lists previously specified. The datframes drop the first row of the excel sheet as these contain information that messes up the dataframes such as the name of the list and the date the information covers. Also, the ChAT stores some empty values as dashes, in addition to empty cells, buy Python doesn't automatically read these as empty, so na_values is set to include - as NaNs (Not a Number) so python knows to store them as empty, not as dashes. However, setting na_values tells python that ALL of the na_values are what you have set them as, to include standard empty cells as NaNs, we also need to set keep_default_na = True. This way, every empty cell, AND every - is read as an NaN. \n",
    "\n",
    "Following this, the dictionary of dataframes is iterated through to clean it up  bit. Because of the way the ChAT works, values are calculated for 5000 rows on every sheet, even ones with no data. This means that every dataframe taken from the ChAT has lots of rows with no data, but which still have the output of various calculations, namely, the errors. Also, some collumns are empty. Noting that the empty rows of data seem to only have extra values in one column, the Errors column, rows are dropped with a threshold of 2, meaning that every row which doesn't have at least two bits of data is dropped. In other words, every row that only has an Error value and nothing else is dropped. Collumns are also dropped with how='all' meaning that columns are only dropped where no data is present in the row. It is important to get the threshold and how correct so you don't drop too rows with hdata you want in them."
   ]
  },
  {
   "cell_type": "code",
   "execution_count": null,
   "metadata": {},
   "outputs": [],
   "source": [
    "\n",
    "ListNum = 11 #number of lists you want to read from the ChAT\n",
    "sheets = [] #initialises a list to store the names of the lists in\n",
    "for i in range(ListNum): #this loop dynamically creates a name of sheet names to read from the ChAT based on the entry in ListNum\n",
    "    sheets.append('List '+str(i+1))#Making the sheet names appropriately must be i+1 because range(ListNum) starts at 0\n",
    "    \n",
    "    \n",
    "#reads the specified lists into a dictionary of dataframes, updates NaN values to include dashes as NaNs in addition to standard\n",
    "df = pd.read_excel(chat, sheet_name=sheets, skiprows=1, na_values='-', keep_default_na=True)\n",
    "\n",
    "\n",
    "#iterates through the dicitonary of dataframes, cleaning them up by dropping useless rows and empty columns  \n",
    "for i in sheets:\n",
    "    df[i] = df[i].dropna(thresh=2)\n",
    "    df[i] = df[i].dropna(how = 'all', axis=1)\n",
    "    \n",
    "    "
   ]
  },
  {
   "cell_type": "markdown",
   "metadata": {},
   "source": [
    "Now it's time to do some of the calculations from the ChAT using the dataframes we've made. You'll need to know which list the data comes from if you want to change it. These calculations are pretty simple and self explanatory, and are only really meant as examples. The examples include key operations and methods that will often be used with dataframes such as finding their length, and slicing them according to set criteria."
   ]
  },
  {
   "cell_type": "code",
   "execution_count": null,
   "metadata": {
    "scrolled": true
   },
   "outputs": [],
   "source": [
    "#prints the words total contacts, and a string of the value of total contacts which is necessary to concat\n",
    "TotalContacts = len(df['List 1']) #len counts the length something, in this instance, the length of the List 1 dataframe\n",
    "print('Total contacts = ' + str(TotalContacts)) #TotalContacts must be printed as a string to correctly concat\n",
    "\n",
    "#applying .mean() to a column of a dataframe outputs the mean value of that column, in this instance, distinct contacts\n",
    "AverageContacts = df['List 1']['Contacts per child (distinct count)'].mean() #mean number of contacts per child\n",
    "print('Mean contacts = ' + str(AverageContacts))\n",
    "\n",
    "#.nunique() gives us the number of unique data-points in some data, in this instance, the number of Unique Child IDs\n",
    "TotalEH = df['List 2']['Child Unique ID'].nunique() \n",
    "print('Total number of children with EH = ' +  str(TotalEH))\n",
    "\n",
    "#counts the number of males and females with EH contacts by slicing the dataframe by gender and counting their length\n",
    "#the following code returns the length of the Gender group column of List 2, where the values are a) Male and b) Female\n",
    "#it does this by slicing according to those rules (e.g. == 'a) Male') and getting the length\n",
    "EHBoys = len(df['List 2'][df['List 2']['Gender group'] == 'a) Male'])\n",
    "EHGirls = len(df['List 2'][df['List 2']['Gender group'] == 'b) Female'])\n",
    "\n",
    "print('Total EH Boys/Girls = ' + str(EHBoys) + '/' + str(EHGirls)) \n",
    "\n"
   ]
  },
  {
   "cell_type": "markdown",
   "metadata": {},
   "source": [
    "Now we've seen how to do some basic calculations, it's going to be much more important to produce the type of visualisations we se ein the ChAT report. We'll do this by writing functions that allow us to input variables multiple times, rather than writing the formula for the visualisation every time. First off, the male/female, back-to-back, bar charts from the ChAT. Getting the basic counts of males and females is easy, we can just use seaborn countplots, formatting the charts back-to-back like in the ChAT is harder."
   ]
  },
  {
   "cell_type": "code",
   "execution_count": null,
   "metadata": {},
   "outputs": [],
   "source": [
    "\n",
    "#Pulling out all the data where the child's gender is specified as born\n",
    "\n",
    "def StackPlot(ListName, Column, Title):\n",
    "    '''Creates a male/female back-to-back countplot for specified data as seen in the ChAT\n",
    "    ListName is the list the data is stored in\n",
    "    Column is the column that needs to be counted'''\n",
    "    \n",
    "    #separates male and female data, this also drops rows with unborn children like the ChAT\n",
    "    #reads in ListName variable from the function so this will plot the graph for any of the 11 ChAT lists\n",
    "    dataM=df[ListName][df[ListName]['Gender'] == 'Male'] #dataframe of just data for males\n",
    "    dataF=df[ListName][df[ListName]['Gender'] == 'Female'] #just data for females\n",
    "\n",
    "    #boy/girl counts for titles to match ChAT\n",
    "    #counts the length of male/female dataframes to give numbers of each\n",
    "    CountBoys = len(dataM) \n",
    "    CountGirls = len(dataF)\n",
    "    \n",
    "    #calculates percentages of boys to girls for the plot titles\n",
    "    Gpercent = round((CountGirls /(CountBoys+CountGirls))*100)\n",
    "    Bpercent = round((CountBoys /(CountBoys+CountGirls))*100)\n",
    "    \n",
    "    #set-up the figure for the different graph axes to go on, with two columns, specifying size, that they have the same\n",
    "    #y values, and there is no space between them\n",
    "    fig, (ax1, ax2) = plt.subplots(ncols=2, figsize=(10, 5), sharey=True, gridspec_kw={'wspace': 0})\n",
    "    \n",
    "    #creates a countplot of the female dataframe dataF, reading in Column from the function as the y data\n",
    "    sns.countplot(data=dataF, y=Column, ax=ax2, color='Orange', alpha=0.6) #colour set to orange and alpha set to resemble ChAT\n",
    "    ax2.yaxis.set_label_position('right') #sets where the axis label is\n",
    "    ax2.set_title('Female ('+ str(CountGirls) +'/' + str(Gpercent) +'%)', loc='left') #title, including number and percent of girls calculated above\n",
    "\n",
    "    #male data and remove labels and ticks for formatting, largely same as above\n",
    "    sns.countplot(data=dataM, y=Column, ax=ax1, color='Orange')\n",
    "    ax1.invert_xaxis()  # reverse the direction\n",
    "    ax1.tick_params(labelleft=False, left=False) #removes ticks that the other graph has already added\n",
    "    ax1.set_ylabel('') #removes y labels we already have\n",
    "    ax1.set_title('Male ('+ str(CountBoys) +'/' + str(Bpercent)  +'%)', loc='right')\n",
    "\n",
    "    fig.suptitle(Title) #reads in title from function\n",
    "    plt.tight_layout() \n",
    "    plt.show() #shows the plot\n",
    "    \n"
   ]
  },
  {
   "cell_type": "markdown",
   "metadata": {},
   "source": [
    "Next off is the donut charts seen in the ChAT. Like the back-to-back chart, the function allows us to put in the name of the List sheet from the ChAT, the name of the column we are examining, and the title we want. It also calculates the answers the graph should include We turn an ordinary pie chart into a nice donut chart by adding a white circle to the centre, and we overlay additonal information to the centre, here we overlay counts which match the percentages from the chart."
   ]
  },
  {
   "cell_type": "code",
   "execution_count": null,
   "metadata": {},
   "outputs": [],
   "source": [
    "def Donut(ListName, Column, Title):\n",
    "    '''Creates a donut chart with some data points in the middle and percentages on the outside'''\n",
    " \n",
    "    #data for the chart, counts the number of each unique variable in a column of the dataframe using Column and ListName input\n",
    "    Counts=df[ListName][Column].value_counts()\n",
    "    \n",
    "    #Works out the text for the center of the donut, same as above but stores as dataframe for displaying nicely \n",
    "    CenterText = df[ListName][Column].value_counts().to_frame() #getting the count values for the centre\n",
    "    \n",
    "    #uses .unique to find the possible outcomes for the donut to add labels to the donut \n",
    "    PossibleAnswers = df[ListName][Column].unique() #getting the possible answers for the labels\n",
    "\n",
    "    \n",
    "    #creates the figure and plots a seaborn pie chart using specified ChAT-like colours, rounds percentages, uses Possible answers as labels\n",
    "    fig, ax1 = plt.subplots()\n",
    "    ax1.pie(Counts, colors=['#D1D1D1','#B874FC'], autopct='%1.0f%%', pctdistance=0.85, labels=PossibleAnswers)\n",
    "    \n",
    "    #adds center text to the donut, with ha (horizontal alignment) and va (vertical alignment) center\n",
    "    ax1.text(0., 0., CenterText.to_string(header=False), horizontalalignment='center', verticalalignment='center')\n",
    "    \n",
    "    \n",
    "    #draws a white circle for the center of the pie chart to make it a donut and then places it in the center\n",
    "    centre_circle = plt.Circle((0, 0), 0.60, fc='white') #draws the circle\n",
    "    fig = plt.gcf()\n",
    "    fig.gca().add_artist(centre_circle) #adds the circle to the figure\n",
    "    \n",
    "    \n",
    "    fig.suptitle(Title) #titles using input title\n",
    "    plt.show()\n",
    "\n",
    "#commented out test: \n",
    "#EHRefList = Donut('List 2', 'Appears on referral list', 'EH Cases that also appear on the Referrals list')"
   ]
  },
  {
   "cell_type": "markdown",
   "metadata": {},
   "source": [
    "Now let's create a function for the ChAT bar chart used to display sources of things like assessments and referrals. Firstly this creates a dataframe which gives the percentages a source appears, to match the data given on th ChAT, which is then used later to iteratively place those percentages on the bar chart."
   ]
  },
  {
   "cell_type": "code",
   "execution_count": null,
   "metadata": {},
   "outputs": [],
   "source": [
    "def SourceBar(ListName, Column, Title):\n",
    "    '''creates a ChAT-like graph that's used to show sources of reports and contacts'''\n",
    "    \n",
    "    #initialises the countplot graph using function input values, and orders them according to size\n",
    "    fig= sns.countplot(data=df[ListName], x=Column, color='#7ED6D2', order=df[ListName][Column].value_counts().index)\n",
    "    \n",
    "    \n",
    "    #removes unnecessary labels by passing them blank strings\n",
    "    fig.set_xlabel(\"\")\n",
    "    fig.set_ylabel(\"\")\n",
    "    \n",
    "    #because of the jerry-rigged method of adding percentages to the chart, title placement doesn't work right\n",
    "    #this gives specific xy coordinates for the title, size, and rotation. It also rotates the y-ticks to be readable.\n",
    "    plt.title(Title, x=-0.1, y=-1, fontsize=16, rotation = 90)\n",
    "    plt.yticks(rotation=90)\n",
    "    \n",
    "    #creates a dataframe of rounded percentages of sources to be added to the bar chart to closer match the ChAT\n",
    "    #This isn't necessary but includes information the ChAT does\n",
    "    SourceByPercent=df[ListName][Column].value_counts(normalize=True) #new dataframe with counts of instances of unique variables and normalises\n",
    "    SourceByPercent = SourceByPercent.rename_axis('Sources').reset_index(name='Percents') #renames index and column for ease\n",
    "    SourceByPercent['Percents'] = round(SourceByPercent['Percents']*100, 1) #returns normalised values as rounded percentages\n",
    "    \n",
    "    \n",
    "    #jerry-rigged code to place percentages of each source on top of the bars of the chart\n",
    "    #uses a for loop to place each one as a patch\n",
    "    i=-1 #necessary to start at 0\n",
    "    for p in fig.patches:\n",
    "             i=i+1\n",
    "            #accesses SourceByPercent by index location mathcing i and returns percentage as string to be annotate\n",
    "            #gets height and location of top of bar for annotation and places va ha center, rotates\n",
    "             fig.annotate(str(SourceByPercent['Percents'].iloc[i])+'%', (p.get_x() + p.get_width() / 2., p.get_height()),\n",
    "                 ha='center', va='center', fontsize=10, color='black', xytext=(0, 15), rotation =90,\n",
    "                 textcoords='offset points')\n",
    "\n",
    "    #rotates x tick labels        \n",
    "    for i in fig.get_xticklabels():\n",
    "        i.set_rotation(90)\n",
    "    \n",
    "    \n",
    "    fig,plt.show()\n",
    "\n",
    "#commented out test:\n",
    "#EHAssSource = SourceBar('List 2', 'Organisation completing assessment', 'Organisation completing assessment')   "
   ]
  },
  {
   "cell_type": "markdown",
   "metadata": {},
   "source": [
    "The ChAT includes graphs showing how many people have had more than one contact/episode/referral. This would bea very simple countplot, if we didn't care how it looked. However, we do. As standard, bars are not shown where the number of incidences is zero, but this doesnt match the chat, and, in some instances, ends up with a big square bar of height 1, width 1, which looks silly. So, to fix this, we've had to generate a new dataframe with counts for different numbers of instances so we can show bars with zero instances."
   ]
  },
  {
   "cell_type": "code",
   "execution_count": null,
   "metadata": {},
   "outputs": [],
   "source": [
    "def MultiplesGraph(ListName, Column, Title, YTicks):\n",
    "    '''sets up a graph that is used to show how many people have has each of a number of incidences'''\n",
    "    \n",
    "    \n",
    "    #setting up the counts of number of cases, each x returns a float of the number of cases mathcing conditions\n",
    "    x2 = len(df[ListName][df[ListName][Column] == 2])\n",
    "    x3 = len(df[ListName][df[ListName][Column] == 3])\n",
    "    x4 = len(df[ListName][df[ListName][Column] == 4])\n",
    "    x5 = len(df[ListName][df[ListName][Column] >= 5])\n",
    "    #creates a dictionary matching strings of incident numbers, and counts associated with them\n",
    "    lst = {'2':x2, '3':x3, '4':x4, '>5':x5}\n",
    "    #turns that dictionary into a dataframe to more easily make a barplot\n",
    "    dta = pd.DataFrame(list(lst.items()), columns = ['Number','Count'])\n",
    "\n",
    "    #the graph\n",
    "    fig = sns.barplot(data=dta, x='Number', y='Count', color='#7ED6D2')\n",
    "    \n",
    "    #allows user to input a suitable number of y-ticks based on data size using finction variables\n",
    "    #change these according to what looks best on the output\n",
    "    fig.set(yticks=range(YTicks+1))\n",
    "    \n",
    "    #graph settings like title taken from function variables\n",
    "    fig.set_title(Title)\n",
    "    fig.set_xlabel(Column)\n",
    "    fig.set_ylabel('')\n",
    "    \n",
    "    \n",
    "    plt.show()\n",
    "\n",
    "    #commented out test:\n",
    "#MultiplesGraph('List 2', 'EH per child (distinct count)', 'Children with multiple records in period', 4)"
   ]
  },
  {
   "cell_type": "markdown",
   "metadata": {},
   "source": [
    "The final visualisation on the first few pages used of the ChAT is the data baout ethnic backgrounds. It's pretty simple, pandas allows us to use matplotlib to plot a dataframe as a figure, for easy copy pasting."
   ]
  },
  {
   "cell_type": "code",
   "execution_count": null,
   "metadata": {},
   "outputs": [],
   "source": [
    "def EthnicBackgrounds(ListName, Title):\n",
    "    '''creates a dataframe of ethnic backgrounds and plots the dataframe as an image for sharing'''\n",
    "    \n",
    "    #creates a dataframe of the different ethnic groups, providing a normalised count of each\n",
    "    backgrounds = df[ListName]['Ethnic group'].value_counts(normalize=True).to_frame()\n",
    "    backgrounds['Ethnic group'] = round(backgrounds['Ethnic group']*100) #returns normalised values as rounded percentages\n",
    "    backgrounds.index.names = ['Background'] #renames the index \n",
    "    \n",
    "    #attempts to provide data on non-reported backgrounds, needs to be fixed\n",
    "    NoRecord = {'Not Recorded':101-backgrounds['Ethnic group'].sum()}\n",
    "\n",
    "    #plots the dataframe as a figure for sharing\n",
    "    ax = plt.subplot(111, frame_on=False) # no visible frame\n",
    "    ax.xaxis.set_visible(False)  # hide the x axis\n",
    "    ax.yaxis.set_visible(False)  # hide the y axis\n",
    "    ax.set_title=(Title)\n",
    "    table(ax, backgrounds)  \n",
    "    \n",
    "    plt.show('mytable.png') #presents the table as a png\n",
    "    \n",
    "#commented out test:    \n",
    "#EthnicBackgrounds('List 2', 'Ethnic Backgrounds (EH)')"
   ]
  },
  {
   "cell_type": "markdown",
   "metadata": {},
   "source": [
    "In the cell below, the visualisations defined in functions earlier have the correct inputs to rectreate the information given in the Early Help page of the ChAT. The functions below can be repeated again with different inputs to get other key ChAT visualisations. For instance, we could create the contacts report from the ChAT by using the information relevant to List 1."
   ]
  },
  {
   "cell_type": "code",
   "execution_count": null,
   "metadata": {},
   "outputs": [],
   "source": [
    "#Early help cases visualisations\n",
    "EHCases = StackPlot('List 2', 'Age of Child (Years)', 'Early Help Cases (Total =' + str(TotalEH) +')')\n",
    "EHRefList = Donut('List 2', 'Appears on referral list', 'EH Cases that also appear on the Referrals list')\n",
    "EHAssSource = SourceBar('List 2', 'Organisation completing assessment', 'Organisation completing assessment')\n",
    "MultiplesGraph('List 2', 'EH per child (distinct count)', 'Children with multiple records in period', 4)\n",
    "EthnicBackgrounds('List 2', 'Ethnic Backgrounds (EH)')\n",
    "\n",
    "\n"
   ]
  },
  {
   "cell_type": "markdown",
   "metadata": {},
   "source": [
    "It is entirely possible to use Python, and a notebook like this, to produce an automated report or dashboard where you would change the inputs (E.G. A new ChAT file, or the visualisations you wanted) and a nicely formatted report would come out, just like in the ChAT or Cut the ChAT. However, given that it isn't always easy to get Python/Jupyter/Anaconda installed at all on an LA machine, it's best to work on the assumption, for now, that you wont be able to istall non-standard packages like Jupyter Dashboard, Dash, or Panel for this. As this is the case, a number of things can be done. The first is simply to copy and paste your output visualisations to a word document or powerpoint for presentation if all you want is the visualisations. It's also possible to share the entire notebook, complete with code, to better explain what you did, and why. Jupyter also has a presentation/slide tool where you can present code and run it in real time."
   ]
  },
  {
   "cell_type": "code",
   "execution_count": null,
   "metadata": {},
   "outputs": [],
   "source": []
  }
 ],
 "metadata": {
  "kernelspec": {
   "display_name": "Python 3",
   "language": "python",
   "name": "python3"
  },
  "language_info": {
   "codemirror_mode": {
    "name": "ipython",
    "version": 3
   },
   "file_extension": ".py",
   "mimetype": "text/x-python",
   "name": "python",
   "nbconvert_exporter": "python",
   "pygments_lexer": "ipython3",
   "version": "3.8.5"
  }
 },
 "nbformat": 4,
 "nbformat_minor": 4
}
