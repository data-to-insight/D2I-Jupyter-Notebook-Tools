{
 "cells": [
  {
   "cell_type": "code",
   "execution_count": 44,
   "metadata": {},
   "outputs": [
    {
     "name": "stderr",
     "output_type": "stream",
     "text": [
      "/home/codespace/.python/current/lib/python3.10/site-packages/openpyxl/worksheet/_reader.py:329: UserWarning:\n",
      "\n",
      "Data Validation extension is not supported and will be removed\n",
      "\n"
     ]
    }
   ],
   "source": [
    "import pandas as pd\n",
    "\n",
    "df = pd.read_excel('/workspaces/D2I-Jupyter-Notebook-Tools/p2a_analysis/Mega matrix_MERGED_05.10.23.xlsx', sheet_name='All data items')"
   ]
  },
  {
   "cell_type": "code",
   "execution_count": 45,
   "metadata": {},
   "outputs": [
    {
     "name": "stdout",
     "output_type": "stream",
     "text": [
      "<class 'pandas.core.frame.DataFrame'>\n",
      "RangeIndex: 1602 entries, 0 to 1601\n",
      "Data columns (total 60 columns):\n",
      " #   Column                                                                                                                             Non-Null Count  Dtype  \n",
      "---  ------                                                                                                                             --------------  -----  \n",
      " 0   Data category                                                                                                                      1602 non-null   object \n",
      " 1   Item number                                                                                                                        1574 non-null   object \n",
      " 2   Data Item                                                                                                                          1573 non-null   object \n",
      " 3   Collected in all four LAs but not Annex A or 903                                                                                   1601 non-null   object \n",
      " 4   On Annex A, 903, Both or Neither?                                                                                                  1574 non-null   object \n",
      " 5   Annex A text                                                                                                                       38 non-null     object \n",
      " 6   903 text                                                                                                                           57 non-null     object \n",
      " 7   Croydon text                                                                                                                       839 non-null    object \n",
      " 8   Croydon options                                                                                                                    228 non-null    object \n",
      " 9   Croydon forms                                                                                                                      830 non-null    object \n",
      " 10  Were Croydon users asked about this item?                                                                                          839 non-null    object \n",
      " 11  Number of Croydon interviewed data inputters who did not find the data item useful over total data inputters asked about question  76 non-null     object \n",
      " 12  Reason(s) it was found not to be helpful by Croydon data inputter(s)                                                               76 non-null     object \n",
      " 13  If Croydon data inputters did not find the data item useful, why not? - Tags                                                       76 non-null     object \n",
      " 14  If Croydon data inputters were split, why did some think it WAS helpful?                                                           48 non-null     object \n",
      " 15  Croydon Data Consumer(s) feedback                                                                                                  50 non-null     object \n",
      " 16  Croydon Data Consumer(s) feedback - Tags                                                                                           49 non-null     object \n",
      " 17  Croydon Main reason for recording data item                                                                                        778 non-null    object \n",
      " 18  Croydon Secondary reason for recording data item (if applicable)                                                                   478 non-null    object \n",
      " 19  Croydon comments                                                                                                                   8 non-null      object \n",
      " 20  Essex Text                                                                                                                         434 non-null    object \n",
      " 21  Essex options                                                                                                                      100 non-null    object \n",
      " 22  Essex forms                                                                                                                        434 non-null    object \n",
      " 23  Were Essex users asked about this item?                                                                                            434 non-null    object \n",
      " 24  Number of interviewed users who did not find the data item useful over total users asked about question                            65 non-null     object \n",
      " 25  Reason given by users for not finding it useful                                                                                    63 non-null     object \n",
      " 26  If data inputters did not find the data item useful, why not? - Tags                                                               63 non-null     object \n",
      " 27  If some users find the data item unhelpful, why do others find it helpful?                                                         61 non-null     object \n",
      " 28  Data consumer(s) feedback                                                                                                          50 non-null     object \n",
      " 29  Data Consumer(s) feedback - Tags                                                                                                   48 non-null     object \n",
      " 30  Essex Main reason for recording local data item                                                                                    417 non-null    object \n",
      " 31  Essex Secondary reason for recording local data item (if applicable)                                                               120 non-null    object \n",
      " 32  Essex comments                                                                                                                     0 non-null      float64\n",
      " 33  Sutton Text                                                                                                                        574 non-null    object \n",
      " 34  Sutton options                                                                                                                     127 non-null    object \n",
      " 35  Sutton forms                                                                                                                       572 non-null    object \n",
      " 36  Were Sutton users asked about this item?                                                                                           574 non-null    object \n",
      " 37  Number of interviewed users who did not find the data item useful over total users asked about question.1                          37 non-null     object \n",
      " 38  Reasons users find the item not useful                                                                                             37 non-null     object \n",
      " 39  If data inputters did not find the data item useful, why not? - Tags.1                                                             37 non-null     object \n",
      " 40  If users found the item not useful, reasons others found it useful                                                                 22 non-null     object \n",
      " 41  Data consumer(s) feedback.1                                                                                                        29 non-null     object \n",
      " 42  Data Consumer(s) feedback - Tags.1                                                                                                 28 non-null     object \n",
      " 43  Sutton Main reason for recording local data item                                                                                   524 non-null    object \n",
      " 44  Sutton Secondary reason for recording local data item (if applicable)                                                              172 non-null    object \n",
      " 45  Sutton comments                                                                                                                    0 non-null      float64\n",
      " 46  Camden Text                                                                                                                        476 non-null    object \n",
      " 47  Camden Options                                                                                                                     355 non-null    object \n",
      " 48  Camden Forms                                                                                                                       473 non-null    object \n",
      " 49  Were Camden users asked about this question?                                                                                       476 non-null    object \n",
      " 50  Number of interviewed users who did not find the data item useful over total users asked about question.2                          79 non-null     object \n",
      " 51  Reason(s) it was found not to be helpful by data inputter                                                                          79 non-null     object \n",
      " 52  If data inputters did not find the data item useful, why not? - Tags.2                                                             79 non-null     object \n",
      " 53  If user's were split, why did data inputter(s) think it WAS helpful                                                                57 non-null     object \n",
      " 54  Data Consumer(s) feedback                                                                                                          51 non-null     object \n",
      " 55  Data Consumer(s) feedback - Tags.2                                                                                                 51 non-null     object \n",
      " 56  Camden Main reason for recording local data item                                                                                   422 non-null    object \n",
      " 57  Camden Secondary reason for recording local data item (if applicable)                                                              61 non-null     object \n",
      " 58  Camden comments                                                                                                                    2 non-null      object \n",
      " 59  Were users asked about this item in any LA\n",
      "(select from dropdown)                                                                  1601 non-null   object \n",
      "dtypes: float64(2), object(58)\n",
      "memory usage: 751.1+ KB\n",
      "None\n"
     ]
    }
   ],
   "source": [
    "print(df.info())"
   ]
  },
  {
   "cell_type": "code",
   "execution_count": 46,
   "metadata": {},
   "outputs": [
    {
     "name": "stdout",
     "output_type": "stream",
     "text": [
      "Croydon Main reason for recording data item\n",
      "1. For social work practitioners and/or the child/YP                         678\n",
      "2. For management oversight of case decisions and accountability purposes    100\n",
      "Name: count, dtype: int64\n",
      "Essex Main reason for recording local data item\n",
      "1. For social work practitioners and/or the child/YP                         385\n",
      "2. For management oversight of case decisions and accountability purposes     24\n",
      "3. For LA reporting purposes and generating performance indicators             5\n",
      "4. For statutory data requirements outside of the Annex A or 903 returns       3\n",
      "Name: count, dtype: int64\n",
      "Sutton Main reason for recording local data item\n",
      "1. For social work practitioners and/or the child/YP                         424\n",
      "2. For management oversight of case decisions and accountability purposes     78\n",
      "3. For LA reporting purposes and generating performance indicators            21\n",
      "4. For statutory data requirements outside of the Annex A or 903 returns       1\n",
      "Name: count, dtype: int64\n",
      "Camden Main reason for recording local data item\n",
      "1. For social work practitioners and/or the child/YP                         303\n",
      "2. For management oversight of case decisions and accountability purposes     62\n",
      "3. For LA reporting purposes and generating performance indicators            53\n",
      "4. For statutory data requirements outside of the Annex A or 903 returns       4\n",
      "Name: count, dtype: int64\n"
     ]
    }
   ],
   "source": [
    "# 8\tWhat are the top two ‘main reasons’ why LAs collect ‘local data’? \n",
    "cols = ['Croydon Main reason for recording data item',\n",
    "        'Essex Main reason for recording local data item',\n",
    "        'Sutton Main reason for recording local data item',\n",
    "        'Camden Main reason for recording local data item']\n",
    "\n",
    "df_reasons = df[['Item number', \n",
    "                 'Croydon Main reason for recording data item', \n",
    "                 #'Croydon Secondary reason for recording data item (if applicable)',\n",
    "                 'Essex Main reason for recording local data item',\n",
    "                 #'Essex Secondary reason for recording local data item (if applicable)',\n",
    "                 'Sutton Main reason for recording local data item',\n",
    "                 #'Sutton Secondary reason for recording local data item (if applicable)',\n",
    "                 'Camden Main reason for recording local data item',\n",
    "                 #'Camden Secondary reason for recording local data item (if applicable)'\n",
    "                 ]]\n",
    "\n",
    "#df_reasons.info()\n",
    "\n",
    "for column in df_reasons.columns:\n",
    "    if column != 'Item number':\n",
    "        print(df[column].value_counts())"
   ]
  },
  {
   "cell_type": "code",
   "execution_count": 47,
   "metadata": {},
   "outputs": [
    {
     "name": "stdout",
     "output_type": "stream",
     "text": [
      "<class 'pandas.core.frame.DataFrame'>\n",
      "Index: 39 entries, 1 to 1049\n",
      "Data columns (total 5 columns):\n",
      " #   Column                                            Non-Null Count  Dtype \n",
      "---  ------                                            --------------  ----- \n",
      " 0   Item number                                       39 non-null     object\n",
      " 1   Croydon Main reason for recording data item       39 non-null     object\n",
      " 2   Essex Main reason for recording local data item   39 non-null     object\n",
      " 3   Sutton Main reason for recording local data item  39 non-null     object\n",
      " 4   Camden Main reason for recording local data item  39 non-null     object\n",
      "dtypes: object(5)\n",
      "memory usage: 1.8+ KB\n",
      "None\n",
      "<class 'pandas.core.frame.DataFrame'>\n",
      "Index: 25 entries, 1 to 1049\n",
      "Data columns (total 5 columns):\n",
      " #   Column                                            Non-Null Count  Dtype \n",
      "---  ------                                            --------------  ----- \n",
      " 0   Item number                                       25 non-null     object\n",
      " 1   Croydon Main reason for recording data item       25 non-null     object\n",
      " 2   Essex Main reason for recording local data item   25 non-null     object\n",
      " 3   Sutton Main reason for recording local data item  25 non-null     object\n",
      " 4   Camden Main reason for recording local data item  25 non-null     object\n",
      "dtypes: object(5)\n",
      "memory usage: 1.2+ KB\n",
      "None\n",
      "<class 'pandas.core.frame.DataFrame'>\n",
      "Index: 0 entries\n",
      "Data columns (total 5 columns):\n",
      " #   Column                                            Non-Null Count  Dtype \n",
      "---  ------                                            --------------  ----- \n",
      " 0   Item number                                       0 non-null      object\n",
      " 1   Croydon Main reason for recording data item       0 non-null      object\n",
      " 2   Essex Main reason for recording local data item   0 non-null      object\n",
      " 3   Sutton Main reason for recording local data item  0 non-null      object\n",
      " 4   Camden Main reason for recording local data item  0 non-null      object\n",
      "dtypes: object(5)\n",
      "memory usage: 0.0+ bytes\n",
      "None\n",
      "<class 'pandas.core.frame.DataFrame'>\n",
      "Index: 0 entries\n",
      "Data columns (total 5 columns):\n",
      " #   Column                                            Non-Null Count  Dtype \n",
      "---  ------                                            --------------  ----- \n",
      " 0   Item number                                       0 non-null      object\n",
      " 1   Croydon Main reason for recording data item       0 non-null      object\n",
      " 2   Essex Main reason for recording local data item   0 non-null      object\n",
      " 3   Sutton Main reason for recording local data item  0 non-null      object\n",
      " 4   Camden Main reason for recording local data item  0 non-null      object\n",
      "dtypes: object(5)\n",
      "memory usage: 0.0+ bytes\n",
      "None\n",
      "<class 'pandas.core.frame.DataFrame'>\n",
      "Index: 0 entries\n",
      "Data columns (total 5 columns):\n",
      " #   Column                                            Non-Null Count  Dtype \n",
      "---  ------                                            --------------  ----- \n",
      " 0   Item number                                       0 non-null      object\n",
      " 1   Croydon Main reason for recording data item       0 non-null      object\n",
      " 2   Essex Main reason for recording local data item   0 non-null      object\n",
      " 3   Sutton Main reason for recording local data item  0 non-null      object\n",
      " 4   Camden Main reason for recording local data item  0 non-null      object\n",
      "dtypes: object(5)\n",
      "memory usage: 0.0+ bytes\n",
      "None\n",
      "<class 'pandas.core.frame.DataFrame'>\n",
      "Index: 25 entries, 1 to 1049\n",
      "Data columns (total 5 columns):\n",
      " #   Column                                            Non-Null Count  Dtype \n",
      "---  ------                                            --------------  ----- \n",
      " 0   Item number                                       25 non-null     object\n",
      " 1   Croydon Main reason for recording data item       25 non-null     object\n",
      " 2   Essex Main reason for recording local data item   25 non-null     object\n",
      " 3   Sutton Main reason for recording local data item  25 non-null     object\n",
      " 4   Camden Main reason for recording local data item  25 non-null     object\n",
      "dtypes: object(5)\n",
      "memory usage: 1.2+ KB\n",
      "None\n"
     ]
    }
   ],
   "source": [
    "# 9 Is there a correlation between the four LAs ‘main reasons’ for recording data as ‘local data’? \n",
    "# Do all four collect item x for the same reason\n",
    "# How many times do 3 collect for one reason, and a third for another?\n",
    "\n",
    "df_all_ask = df_reasons.dropna()\n",
    "print(df_all_ask.info())\n",
    "# There are 39 times where data is collected for local reasons across all 4 LAs\n",
    "\n",
    "df_1_match = df_reasons[(df_reasons['Camden Main reason for recording local data item'].str.contains('1') == True) &\n",
    "                        (df_reasons['Croydon Main reason for recording data item'].str.contains('1') == True) &\n",
    "                        (df_reasons['Sutton Main reason for recording local data item'].str.contains('1') == True) &\n",
    "                        (df_reasons['Essex Main reason for recording local data item'].str.contains('1') == True)]\n",
    "print(df_1_match.info())\n",
    "# There are 25 times where all 4 LAs collect for reason 1\n",
    "\n",
    "df_2_match = df_reasons[(df_reasons['Camden Main reason for recording local data item'].str.contains('2') == True) &\n",
    "                        (df_reasons['Croydon Main reason for recording data item'].str.contains('2') == True) &\n",
    "                        (df_reasons['Sutton Main reason for recording local data item'].str.contains('2') == True) &\n",
    "                        (df_reasons['Essex Main reason for recording local data item'].str.contains('2') == True)]\n",
    "print(df_2_match.info())\n",
    "\n",
    "df_3_match = df_reasons[(df_reasons['Camden Main reason for recording local data item'].str.contains('3') == True) &\n",
    "                        (df_reasons['Croydon Main reason for recording data item'].str.contains('3') == True) &\n",
    "                        (df_reasons['Sutton Main reason for recording local data item'].str.contains('3') == True) &\n",
    "                        (df_reasons['Essex Main reason for recording local data item'].str.contains('3') == True)]\n",
    "print(df_3_match.info())\n",
    "\n",
    "df_4_match = df_reasons[(df_reasons['Camden Main reason for recording local data item'].str.contains('4') == True) &\n",
    "                        (df_reasons['Croydon Main reason for recording data item'].str.contains('4') == True) &\n",
    "                        (df_reasons['Sutton Main reason for recording local data item'].str.contains('4') == True) &\n",
    "                        (df_reasons['Essex Main reason for recording local data item'].str.contains('4') == True)]\n",
    "print(df_3_match.info())\n",
    "\n",
    "df_all_match = pd.concat([df_1_match, df_2_match, df_3_match, df_4_match])\n",
    "print(df_all_match.info())\n",
    "df_all_match.to_csv('reasons_all_match.csv')"
   ]
  },
  {
   "cell_type": "code",
   "execution_count": 48,
   "metadata": {},
   "outputs": [
    {
     "name": "stdout",
     "output_type": "stream",
     "text": [
      "100\n",
      "1\n",
      "0\n"
     ]
    },
    {
     "name": "stdout",
     "output_type": "stream",
     "text": [
      "0\n",
      "152\n"
     ]
    }
   ],
   "source": [
    "df_stripped = df_reasons[cols].apply(lambda x: x.str[:1])\n",
    "\n",
    "df_1_3 = df_reasons[((df_reasons['Camden Main reason for recording local data item'].str.contains('1') == True) &\n",
    "                        (df_reasons['Croydon Main reason for recording data item'].str.contains('1') == True) &\n",
    "                        (df_reasons['Sutton Main reason for recording local data item'].str.contains('1') == True) &\n",
    "                        ~(df_reasons['Essex Main reason for recording local data item'].str.contains('1') == True)) |\n",
    "                    ((df_reasons['Camden Main reason for recording local data item'].str.contains('1') == True) &\n",
    "                        (df_reasons['Croydon Main reason for recording data item'].str.contains('1') == True) &\n",
    "                        (df_reasons['Essex Main reason for recording local data item'].str.contains('1') == True) &\n",
    "                        ~(df_reasons['Sutton Main reason for recording local data item'].str.contains('1') == True)) |\n",
    "                        ((df_reasons['Camden Main reason for recording local data item'].str.contains('1') == True) &\n",
    "                        (df_reasons['Essex Main reason for recording local data item'].str.contains('1') == True) &\n",
    "                        (df_reasons['Sutton Main reason for recording local data item'].str.contains('1') == True) &\n",
    "                        ~(df_reasons['Croydon Main reason for recording data item'].str.contains('1') == True)) |\n",
    "                        ((df_reasons['Croydon Main reason for recording data item'].str.contains('1') == True) &\n",
    "                        (df_reasons['Sutton Main reason for recording local data item'].str.contains('1') == True) &\n",
    "                        (df_reasons['Essex Main reason for recording local data item'].str.contains('1') == True) &\n",
    "                        ~(df_reasons['Camden Main reason for recording local data item'].str.contains('1') == True))\n",
    "                    ]\n",
    "print(len(df_1_3))\n",
    "\n",
    "df_2_3 = df_reasons[((df_reasons['Camden Main reason for recording local data item'].str.contains('2') == True) &\n",
    "                        (df_reasons['Croydon Main reason for recording data item'].str.contains('2') == True) &\n",
    "                        (df_reasons['Sutton Main reason for recording local data item'].str.contains('2') == True) &\n",
    "                        ~(df_reasons['Essex Main reason for recording local data item'].str.contains('2') == True)) |\n",
    "                    ((df_reasons['Camden Main reason for recording local data item'].str.contains('2') == True) &\n",
    "                        (df_reasons['Croydon Main reason for recording data item'].str.contains('2') == True) &\n",
    "                        (df_reasons['Essex Main reason for recording local data item'].str.contains('2') == True) &\n",
    "                        ~(df_reasons['Sutton Main reason for recording local data item'].str.contains('2') == True)) |\n",
    "                        ((df_reasons['Camden Main reason for recording local data item'].str.contains('2') == True) &\n",
    "                        (df_reasons['Essex Main reason for recording local data item'].str.contains('2') == True) &\n",
    "                        (df_reasons['Sutton Main reason for recording local data item'].str.contains('2') == True) &\n",
    "                        ~(df_reasons['Croydon Main reason for recording data item'].str.contains('2') == True)) |\n",
    "                        ((df_reasons['Croydon Main reason for recording data item'].str.contains('2') == True) &\n",
    "                        (df_reasons['Sutton Main reason for recording local data item'].str.contains('2') == True) &\n",
    "                        (df_reasons['Essex Main reason for recording local data item'].str.contains('2') == True) &\n",
    "                        ~(df_reasons['Camden Main reason for recording local data item'].str.contains('2') == True))\n",
    "                    ]\n",
    "print(len(df_2_3))\n",
    "\n",
    "df_3_3 = df_reasons[((df_reasons['Camden Main reason for recording local data item'].str.contains('3') == True) &\n",
    "                        (df_reasons['Croydon Main reason for recording data item'].str.contains('3') == True) &\n",
    "                        (df_reasons['Sutton Main reason for recording local data item'].str.contains('3') == True) &\n",
    "                        ~(df_reasons['Essex Main reason for recording local data item'].str.contains('3') == True)) |\n",
    "                    ((df_reasons['Camden Main reason for recording local data item'].str.contains('3') == True) &\n",
    "                        (df_reasons['Croydon Main reason for recording data item'].str.contains('3') == True) &\n",
    "                        (df_reasons['Essex Main reason for recording local data item'].str.contains('3') == True) &\n",
    "                        ~(df_reasons['Sutton Main reason for recording local data item'].str.contains('3') == True)) |\n",
    "                        ((df_reasons['Camden Main reason for recording local data item'].str.contains('3') == True) &\n",
    "                        (df_reasons['Essex Main reason for recording local data item'].str.contains('3') == True) &\n",
    "                        (df_reasons['Sutton Main reason for recording local data item'].str.contains('3') == True) &\n",
    "                        ~(df_reasons['Croydon Main reason for recording data item'].str.contains('3') == True)) |\n",
    "                        ((df_reasons['Croydon Main reason for recording data item'].str.contains('3') == True) &\n",
    "                        (df_reasons['Sutton Main reason for recording local data item'].str.contains('3') == True) &\n",
    "                        (df_reasons['Essex Main reason for recording local data item'].str.contains('3') == True) &\n",
    "                        ~(df_reasons['Camden Main reason for recording local data item'].str.contains('3') == True))\n",
    "                    ]\n",
    "print(len(df_3_3))\n",
    "\n",
    "df_4_3 = df_reasons[((df_reasons['Camden Main reason for recording local data item'].str.contains('4') == True) &\n",
    "                        (df_reasons['Croydon Main reason for recording data item'].str.contains('4') == True) &\n",
    "                        (df_reasons['Sutton Main reason for recording local data item'].str.contains('4') == True) &\n",
    "                        ~(df_reasons['Essex Main reason for recording local data item'].str.contains('4') == True)) |\n",
    "                    ((df_reasons['Camden Main reason for recording local data item'].str.contains('4') == True) &\n",
    "                        (df_reasons['Croydon Main reason for recording data item'].str.contains('4') == True) &\n",
    "                        (df_reasons['Essex Main reason for recording local data item'].str.contains('4') == True) &\n",
    "                        ~(df_reasons['Sutton Main reason for recording local data item'].str.contains('4') == True)) |\n",
    "                        ((df_reasons['Camden Main reason for recording local data item'].str.contains('4') == True) &\n",
    "                        (df_reasons['Essex Main reason for recording local data item'].str.contains('4') == True) &\n",
    "                        (df_reasons['Sutton Main reason for recording local data item'].str.contains('4') == True) &\n",
    "                        ~(df_reasons['Croydon Main reason for recording data item'].str.contains('4') == True)) |\n",
    "                        ((df_reasons['Croydon Main reason for recording data item'].str.contains('4') == True) &\n",
    "                        (df_reasons['Sutton Main reason for recording local data item'].str.contains('4') == True) &\n",
    "                        (df_reasons['Essex Main reason for recording local data item'].str.contains('4') == True) &\n",
    "                        ~(df_reasons['Camden Main reason for recording local data item'].str.contains('4') == True))\n",
    "                    ]\n",
    "print(len(df_4_3))\n",
    "\n",
    "df_3_all = pd.concat([df_1_3, df_2_3, df_3_3, df_4_3])\n",
    "\n",
    "df_3_local = df_reasons.dropna(thresh=4)\n",
    "print(len(df_3_local))\n",
    "df_3_local\n",
    "df_1_3_nona = df_1_3.dropna()\n",
    "df_2_3_nona = df_2_3.dropna()\n",
    "df_3_nona = pd.concat([df_1_3_nona, df_2_3_nona])\n",
    "df_3_nona.to_csv('reason_matches_3_nona.csv')\n",
    "df_3_all.to_csv('reason_matches_exactly_3_LAs.csv')"
   ]
  },
  {
   "cell_type": "code",
   "execution_count": 49,
   "metadata": {},
   "outputs": [
    {
     "name": "stdout",
     "output_type": "stream",
     "text": [
      "235\n"
     ]
    }
   ],
   "source": [
    "# 10.\tIs there a correlation between data consumers’ reasons they find ‘not helpful’ data items useful, and LAs reasons for collecting data? What can we learn?\n",
    "df_reasons_tags = df[['Item number', \n",
    "                 'Croydon Main reason for recording data item', \n",
    "                 'If Croydon data inputters did not find the data item useful, why not? - Tags',\n",
    "                 'Essex Main reason for recording local data item',\n",
    "                 'If data inputters did not find the data item useful, why not? - Tags',\n",
    "                 'Sutton Main reason for recording local data item',\n",
    "                 'If data inputters did not find the data item useful, why not? - Tags.1',\n",
    "                 'Camden Main reason for recording local data item',\n",
    "                 'If data inputters did not find the data item useful, why not? - Tags.2'\n",
    "                 ]]\n",
    "\n",
    "df_reasons_tags = df_reasons_tags[(df_reasons_tags['If Croydon data inputters did not find the data item useful, why not? - Tags'].notna()) |\n",
    "                                  (df_reasons_tags['If data inputters did not find the data item useful, why not? - Tags'].notna()) |\n",
    "                                  (df_reasons_tags['If data inputters did not find the data item useful, why not? - Tags.1'].notna()) |\n",
    "                                  (df_reasons_tags['If data inputters did not find the data item useful, why not? - Tags.2'].notna()) ]\n",
    "\n",
    "print(len(df_reasons_tags))"
   ]
  },
  {
   "cell_type": "code",
   "execution_count": 50,
   "metadata": {},
   "outputs": [
    {
     "name": "stdout",
     "output_type": "stream",
     "text": [
      "                                                                                                       Item number\n",
      "Croydon Main reason for recording data item        If Croydon data inputters did not find the data...             \n",
      "1. For social work practitioners and/or the chi... Duplication                                                   7\n",
      "                                                   Language/Guidance/Design                                     19\n",
      "                                                   Not relevant                                                 14\n",
      "                                                   Useful only to the child                                      6\n",
      "                                                   Useful to someone else in LA                                  2\n",
      "2. For management oversight of case decisions a... Duplication                                                  10\n",
      "                                                   Language/Guidance/Design                                      3\n",
      "                                                   Not relevant                                                  1\n",
      "                                                   Useful to someone else in LA                                  8\n",
      "                                                                                                       Item number\n",
      "Essex Main reason for recording local data item    If data inputters did not find the data item us...             \n",
      "1. For social work practitioners and/or the chi... Duplication                                                  17\n",
      "                                                   Language/Guidance/Design                                     15\n",
      "                                                   Not relevant                                                  9\n",
      "                                                   Not relevant                                                  1\n",
      "                                                   Prepopulated                                                  1\n",
      "                                                   Useful to someone else in LA                                  4\n",
      "2. For management oversight of case decisions a... Duplication                                                   1\n",
      "                                                   Useful to someone else in LA                                  1\n",
      "                                                                                                       Item number\n",
      "Sutton Main reason for recording local data item   If data inputters did not find the data item us...             \n",
      "1. For social work practitioners and/or the chi... Duplication                                                   9\n",
      "                                                   Language/Guidance/Design                                     13\n",
      "                                                   Not relevant                                                  7\n",
      "2. For management oversight of case decisions a... Duplication                                                   1\n",
      "                                                   Language/Guidance/Design                                      1\n",
      "                                                   Useful to someone else in LA                                  1\n",
      "3. For LA reporting purposes and generating per... Language/Guidance/Design                                      1\n",
      "                                                                                                       Item number\n",
      "Camden Main reason for recording local data item   If data inputters did not find the data item us...             \n",
      "1. For social work practitioners and/or the chi...                                                               1\n",
      "                                                   Duplication                                                  26\n",
      "                                                   Language/Guidance/Design                                     13\n",
      "                                                   Not relevant                                                  7\n",
      "                                                   Prepopulated                                                  5\n",
      "                                                   Useful to someone else in LA                                  2\n",
      "2. For management oversight of case decisions a... Duplication                                                   1\n",
      "                                                   Not relevant                                                  1\n",
      "                                                   Useful to someone else in LA                                  3\n",
      "3. For LA reporting purposes and generating per... Duplication                                                   4\n",
      "                                                   Language/Guidance/Design                                      1\n",
      "                                                   Not relevant                                                  2\n",
      "                                                   Useful to someone else in LA                                  2\n",
      "4. For statutory data requirements outside of t... Prepopulated                                                  1\n"
     ]
    }
   ],
   "source": [
    "\n",
    "croydon_tags = df_reasons_tags.iloc[:,[0,1,2]]\n",
    "croydon_tags = croydon_tags[croydon_tags.iloc[:,2].notna()]\n",
    "#print(croydon_tags.iloc[:,2].value_counts())\n",
    "croydon_group = croydon_tags.groupby(['Croydon Main reason for recording data item', \n",
    "                      'If Croydon data inputters did not find the data item useful, why not? - Tags']).count()\n",
    "\n",
    "\n",
    "essex_tags = df_reasons_tags.iloc[:,[0,3,4]]\n",
    "essex_tags = essex_tags[essex_tags.iloc[:,2].notna()]\n",
    "#print(essex_tags.iloc[:,2].value_counts())\n",
    "essex_group = essex_tags.groupby(['Essex Main reason for recording local data item', \n",
    "                      'If data inputters did not find the data item useful, why not? - Tags']).count()\n",
    "\n",
    "sutton_tags = df_reasons_tags.iloc[:,[0,5,6]]\n",
    "sutton_tags = sutton_tags[sutton_tags.iloc[:,2].notna()]\n",
    "#print(sutton_tags.iloc[:,2].value_counts())\n",
    "sutton_group = sutton_tags.groupby(['Sutton Main reason for recording local data item', \n",
    "                      'If data inputters did not find the data item useful, why not? - Tags.1']).count()\n",
    "\n",
    "camden_tags = df_reasons_tags.iloc[:,[0,7,8]]\n",
    "camden_tags = camden_tags[camden_tags.iloc[:,2].notna()]\n",
    "#print(camden_tags.iloc[:,2].value_counts())\n",
    "camden_group = camden_tags.groupby(['Camden Main reason for recording local data item', \n",
    "                      'If data inputters did not find the data item useful, why not? - Tags.2']).count()\n",
    "\n",
    "print(croydon_group)\n",
    "print(essex_group)\n",
    "print(sutton_group)\n",
    "print(camden_group)\n",
    "\n",
    "all_groups = pd.concat([croydon_group, essex_group, sutton_group, camden_group])\n",
    "all_groups.to_csv('all_groups.csv')"
   ]
  },
  {
   "cell_type": "code",
   "execution_count": 51,
   "metadata": {},
   "outputs": [],
   "source": [
    "# Chi squared test\n",
    "# If it's for reasons 1-4, is there a correlation between it being found helpful or not? (if it's for a given reason, is it statistically likely to be found not helpful)\n",
    "# Given that it's unhelpful, is it statistically likely to be collected for a given reason (if it's unhelpful, is it more likely to be 1-4) - this probably isn't causal,\n",
    "# can we normalise for the total number of things collected for each reason in total.\n",
    "# Given that it's unhelpful, is there a statistically significant chance it's found to be not helpful for a given reason?\n",
    "# Given that it's found unhelpful for a given reason, is it statistically likely to be collected for a given reason?\n",
    "\n",
    "# re-present numbers as percentage of total instances\n",
    "# it would be interesting to know, proportionally, how many unhelpful questions there are from categories 1 and 2 as deemed by social work practitioners"
   ]
  },
  {
   "cell_type": "code",
   "execution_count": 56,
   "metadata": {},
   "outputs": [],
   "source": [
    "prac_cons_croy = df[['If Croydon data inputters did not find the data item useful, why not? - Tags', 'Croydon Data Consumer(s) feedback - Tags']].dropna(thresh=2)\n",
    "pc_croy_df = prac_cons_croy\n",
    "pc_croy_df['la'] = 'croydon'\n",
    "\n",
    "prac_cons_croy = prac_cons_croy.groupby(\n",
    "    ['Croydon Data Consumer(s) feedback - Tags', 'If Croydon data inputters did not find the data item useful, why not? - Tags']\n",
    "    ).size()\n",
    "pc_croy_df.rename(columns={'If Croydon data inputters did not find the data item useful, why not? - Tags':'practitioner reason',\n",
    "                           'Croydon Data Consumer(s) feedback - Tags':'consumer reason'}, inplace=True)\n",
    "# prac_cons_croy\n",
    "# print(prac_cons_croy.groupby(['Croydon Data Consumer(s) feedback - Tags', 'If Croydon data inputters did not find the data item useful, why not? - Tags']).size())\n",
    "# #print(prac_cons_croy.dropna(thresh=2))\n",
    "\n",
    "prac_cons_ess = df[['If data inputters did not find the data item useful, why not? - Tags', 'Data Consumer(s) feedback - Tags']].dropna(thresh=2)\n",
    "pc_ess_df = prac_cons_ess\n",
    "pc_ess_df['la'] = 'essex'\n",
    "prac_cons_ess = prac_cons_ess.groupby(\n",
    "    ['Data Consumer(s) feedback - Tags', 'If data inputters did not find the data item useful, why not? - Tags']\n",
    "    ).size()\n",
    "pc_ess_df.rename(columns={'If data inputters did not find the data item useful, why not? - Tags':'practitioner reason',\n",
    "                           'Data Consumer(s) feedback - Tags':'consumer reason'}, inplace=True)\n",
    "\n",
    "prac_cons_sutt = df[['If data inputters did not find the data item useful, why not? - Tags.1', 'Data Consumer(s) feedback - Tags.1']].dropna(thresh=2)\n",
    "pc_sutt_df = prac_cons_sutt\n",
    "pc_sutt_df['la'] = 'sutton'\n",
    "prac_cons_sutt= prac_cons_sutt.groupby(\n",
    "    ['Data Consumer(s) feedback - Tags.1', 'If data inputters did not find the data item useful, why not? - Tags.1']\n",
    "    ).size()\n",
    "pc_sutt_df.rename(columns={'If data inputters did not find the data item useful, why not? - Tags.1':'practitioner reason',\n",
    "                           'Data Consumer(s) feedback - Tags.1':'consumer reason'}, inplace=True)\n",
    "\n",
    "prac_cons_cam = df[['If data inputters did not find the data item useful, why not? - Tags.2', 'Data Consumer(s) feedback - Tags.2']].dropna(thresh=2)\n",
    "pc_cam_df = prac_cons_cam\n",
    "pc_cam_df['la'] = 'camden'\n",
    "prac_cons_cam = prac_cons_cam.groupby(\n",
    "    ['Data Consumer(s) feedback - Tags.2', 'If data inputters did not find the data item useful, why not? - Tags.2']\n",
    "    ).size()\n",
    "pc_cam_df.rename(columns={'If data inputters did not find the data item useful, why not? - Tags.2':'practitioner reason',\n",
    "                           'Data Consumer(s) feedback - Tags.2':'consumer reason'}, inplace=True)\n",
    "\n",
    "\n",
    "\n",
    "# reasons_total = prac_cons_croy.merge(prac_cons_ess, how='outer', on='index')\n",
    "\n",
    "reasons_dict = {'croydon':prac_cons_croy,\n",
    "                'essex':prac_cons_ess,\n",
    "                'sutton':prac_cons_sutt,\n",
    "                'camden':prac_cons_cam}\n",
    "\n",
    "for k,v in reasons_dict.items():\n",
    "    v.to_csv(f'{k}_reasons.csv')\n"
   ]
  },
  {
   "cell_type": "code",
   "execution_count": 53,
   "metadata": {},
   "outputs": [
    {
     "data": {
      "text/html": [
       "<div>\n",
       "<style scoped>\n",
       "    .dataframe tbody tr th:only-of-type {\n",
       "        vertical-align: middle;\n",
       "    }\n",
       "\n",
       "    .dataframe tbody tr th {\n",
       "        vertical-align: top;\n",
       "    }\n",
       "\n",
       "    .dataframe thead th {\n",
       "        text-align: right;\n",
       "    }\n",
       "</style>\n",
       "<table border=\"1\" class=\"dataframe\">\n",
       "  <thead>\n",
       "    <tr style=\"text-align: right;\">\n",
       "      <th></th>\n",
       "      <th></th>\n",
       "      <th>0</th>\n",
       "    </tr>\n",
       "    <tr>\n",
       "      <th>Croydon Data Consumer(s) feedback - Tags</th>\n",
       "      <th>If Croydon data inputters did not find the data item useful, why not? - Tags</th>\n",
       "      <th></th>\n",
       "    </tr>\n",
       "  </thead>\n",
       "  <tbody>\n",
       "    <tr>\n",
       "      <th>Agree - needs to be looked at</th>\n",
       "      <th>Language/Guidance/Design</th>\n",
       "      <td>1</td>\n",
       "    </tr>\n",
       "    <tr>\n",
       "      <th>Agree - needs to be looked at</th>\n",
       "      <th>Language/Guidance/Design</th>\n",
       "      <td>2</td>\n",
       "    </tr>\n",
       "    <tr>\n",
       "      <th rowspan=\"3\" valign=\"top\">Practice / Training</th>\n",
       "      <th>Duplication</th>\n",
       "      <td>4</td>\n",
       "    </tr>\n",
       "    <tr>\n",
       "      <th>Language/Guidance/Design</th>\n",
       "      <td>15</td>\n",
       "    </tr>\n",
       "    <tr>\n",
       "      <th>Not relevant</th>\n",
       "      <td>10</td>\n",
       "    </tr>\n",
       "    <tr>\n",
       "      <th rowspan=\"3\" valign=\"top\">Useful for understanding the case</th>\n",
       "      <th>Duplication</th>\n",
       "      <td>3</td>\n",
       "    </tr>\n",
       "    <tr>\n",
       "      <th>Language/Guidance/Design</th>\n",
       "      <td>2</td>\n",
       "    </tr>\n",
       "    <tr>\n",
       "      <th>Not relevant</th>\n",
       "      <td>1</td>\n",
       "    </tr>\n",
       "    <tr>\n",
       "      <th rowspan=\"5\" valign=\"top\">Useful to LA</th>\n",
       "      <th>Duplication</th>\n",
       "      <td>1</td>\n",
       "    </tr>\n",
       "    <tr>\n",
       "      <th>Language/Guidance/Design</th>\n",
       "      <td>1</td>\n",
       "    </tr>\n",
       "    <tr>\n",
       "      <th>Not relevant</th>\n",
       "      <td>1</td>\n",
       "    </tr>\n",
       "    <tr>\n",
       "      <th>Useful only to the child</th>\n",
       "      <td>7</td>\n",
       "    </tr>\n",
       "    <tr>\n",
       "      <th>Useful to someone else in LA</th>\n",
       "      <td>1</td>\n",
       "    </tr>\n",
       "  </tbody>\n",
       "</table>\n",
       "</div>"
      ],
      "text/plain": [
       "                                                                                              0\n",
       "Croydon Data Consumer(s) feedback - Tags If Croydon data inputters did not find the data...    \n",
       "Agree - needs to be looked at            Language/Guidance/Design                             1\n",
       "Agree - needs to be looked at            Language/Guidance/Design                             2\n",
       "Practice / Training                      Duplication                                          4\n",
       "                                         Language/Guidance/Design                            15\n",
       "                                         Not relevant                                        10\n",
       "Useful for understanding the case        Duplication                                          3\n",
       "                                         Language/Guidance/Design                             2\n",
       "                                         Not relevant                                         1\n",
       "Useful to LA                             Duplication                                          1\n",
       "                                         Language/Guidance/Design                             1\n",
       "                                         Not relevant                                         1\n",
       "                                         Useful only to the child                             7\n",
       "                                         Useful to someone else in LA                         1"
      ]
     },
     "execution_count": 53,
     "metadata": {},
     "output_type": "execute_result"
    }
   ],
   "source": [
    "croy_size = pd.DataFrame(prac_cons_croy)\n",
    "croy_ess = pd.DataFrame(prac_cons_ess)\n",
    "croy_sutt = pd.DataFrame(prac_cons_sutt)\n",
    "croy_cam = pd.DataFrame(prac_cons_cam)\n",
    "\n",
    "croy_size\n",
    "\n",
    "\n",
    "#total_df = croy_size.merge(croy_ess, how='outer', on='index')#.merge(croy_sutt, how='outer', on='index').merge(croy_cam, how='outer', on='index')"
   ]
  },
  {
   "cell_type": "code",
   "execution_count": 57,
   "metadata": {},
   "outputs": [
    {
     "data": {
      "text/html": [
       "<div>\n",
       "<style scoped>\n",
       "    .dataframe tbody tr th:only-of-type {\n",
       "        vertical-align: middle;\n",
       "    }\n",
       "\n",
       "    .dataframe tbody tr th {\n",
       "        vertical-align: top;\n",
       "    }\n",
       "\n",
       "    .dataframe thead th {\n",
       "        text-align: right;\n",
       "    }\n",
       "</style>\n",
       "<table border=\"1\" class=\"dataframe\">\n",
       "  <thead>\n",
       "    <tr style=\"text-align: right;\">\n",
       "      <th></th>\n",
       "      <th>practitioner reason</th>\n",
       "      <th>consumer reason</th>\n",
       "      <th>la</th>\n",
       "    </tr>\n",
       "  </thead>\n",
       "  <tbody>\n",
       "    <tr>\n",
       "      <th>11</th>\n",
       "      <td>Language/Guidance/Design</td>\n",
       "      <td>Practice / Training</td>\n",
       "      <td>croydon</td>\n",
       "    </tr>\n",
       "    <tr>\n",
       "      <th>25</th>\n",
       "      <td>Not relevant</td>\n",
       "      <td>Useful to LA</td>\n",
       "      <td>croydon</td>\n",
       "    </tr>\n",
       "    <tr>\n",
       "      <th>39</th>\n",
       "      <td>Language/Guidance/Design</td>\n",
       "      <td>Practice / Training</td>\n",
       "      <td>croydon</td>\n",
       "    </tr>\n",
       "    <tr>\n",
       "      <th>66</th>\n",
       "      <td>Duplication</td>\n",
       "      <td>Useful for understanding the case</td>\n",
       "      <td>croydon</td>\n",
       "    </tr>\n",
       "    <tr>\n",
       "      <th>67</th>\n",
       "      <td>Duplication</td>\n",
       "      <td>Useful for understanding the case</td>\n",
       "      <td>croydon</td>\n",
       "    </tr>\n",
       "    <tr>\n",
       "      <th>...</th>\n",
       "      <td>...</td>\n",
       "      <td>...</td>\n",
       "      <td>...</td>\n",
       "    </tr>\n",
       "    <tr>\n",
       "      <th>1312</th>\n",
       "      <td>Useful to someone else in LA</td>\n",
       "      <td>Useful to LA</td>\n",
       "      <td>camden</td>\n",
       "    </tr>\n",
       "    <tr>\n",
       "      <th>1355</th>\n",
       "      <td>Language/Guidance/Design</td>\n",
       "      <td>Agree - needs to be looked at</td>\n",
       "      <td>camden</td>\n",
       "    </tr>\n",
       "    <tr>\n",
       "      <th>1358</th>\n",
       "      <td>Language/Guidance/Design</td>\n",
       "      <td>Agree - needs to be looked at</td>\n",
       "      <td>camden</td>\n",
       "    </tr>\n",
       "    <tr>\n",
       "      <th>1474</th>\n",
       "      <td>Duplication</td>\n",
       "      <td>Practice / Training</td>\n",
       "      <td>camden</td>\n",
       "    </tr>\n",
       "    <tr>\n",
       "      <th>1475</th>\n",
       "      <td>Duplication</td>\n",
       "      <td>Practice / Training</td>\n",
       "      <td>camden</td>\n",
       "    </tr>\n",
       "  </tbody>\n",
       "</table>\n",
       "<p>176 rows × 3 columns</p>\n",
       "</div>"
      ],
      "text/plain": [
       "               practitioner reason                    consumer reason       la\n",
       "11        Language/Guidance/Design                Practice / Training  croydon\n",
       "25                    Not relevant                       Useful to LA  croydon\n",
       "39        Language/Guidance/Design                Practice / Training  croydon\n",
       "66                     Duplication  Useful for understanding the case  croydon\n",
       "67                     Duplication  Useful for understanding the case  croydon\n",
       "...                            ...                                ...      ...\n",
       "1312  Useful to someone else in LA                       Useful to LA   camden\n",
       "1355      Language/Guidance/Design      Agree - needs to be looked at   camden\n",
       "1358      Language/Guidance/Design      Agree - needs to be looked at   camden\n",
       "1474                   Duplication                Practice / Training   camden\n",
       "1475                   Duplication                Practice / Training   camden\n",
       "\n",
       "[176 rows x 3 columns]"
      ]
     },
     "execution_count": 57,
     "metadata": {},
     "output_type": "execute_result"
    }
   ],
   "source": [
    "all_pc_df = pd.concat([pc_croy_df, pc_ess_df, pc_sutt_df, pc_cam_df])\n",
    "all_pc_df"
   ]
  },
  {
   "cell_type": "code",
   "execution_count": 58,
   "metadata": {},
   "outputs": [
    {
     "data": {
      "application/vnd.plotly.v1+json": {
       "config": {
        "plotlyServerURL": "https://plot.ly"
       },
       "data": [
        {
         "coloraxis": "coloraxis",
         "hovertemplate": "consumer reason=%{x}<br>practitioner reason=%{y}<br>count=%{z}<extra></extra>",
         "name": "",
         "type": "histogram2d",
         "x": [
          "Practice / Training",
          "Useful to LA",
          "Practice / Training",
          "Useful for understanding the case",
          "Useful for understanding the case",
          "Useful for understanding the case",
          "Practice / Training",
          "Practice / Training",
          "Practice / Training",
          "Practice / Training",
          "Practice / Training",
          "Agree - needs to be looked at",
          "Practice / Training",
          "Practice / Training",
          "Practice / Training",
          "Practice / Training",
          "Practice / Training",
          "Practice / Training",
          "Practice / Training",
          "Practice / Training",
          "Practice / Training",
          "Useful to LA",
          "Useful to LA",
          "Useful to LA",
          "Useful to LA",
          "Useful to LA",
          "Useful to LA",
          "Useful to LA",
          "Useful for understanding the case",
          "Useful to LA",
          "Practice / Training",
          "Practice / Training",
          "Practice / Training",
          "Practice / Training",
          "Practice / Training",
          "Practice / Training",
          "Practice / Training",
          "Practice / Training",
          "Practice / Training",
          "Practice / Training",
          "Practice / Training",
          "Agree - needs to be looked at ",
          "Agree - needs to be looked at ",
          "Useful for understanding the case",
          "Practice / Training",
          "Useful to LA",
          "Useful to LA",
          "Practice / Training",
          "Useful for understanding the case",
          "Agree - needs to be looked at",
          "Useful for understanding the case ",
          "Agree - needs to be looked at",
          "Agree - needs to be looked at",
          "Useful to LA",
          "Agree - needs to be looked at",
          "Agree - needs to be looked at",
          "Agree - needs to be looked at",
          "Agree - needs to be looked at",
          "Duplication",
          "Agree - needs to be looked at",
          "Duplication",
          "Duplication",
          "Duplication",
          "Useful to LA",
          "Practice / Training",
          "Duplication",
          "Useful to LA",
          "Agree - needs to be looked at",
          "Duplication",
          "Duplication",
          "Agree - needs to be looked at",
          "Practice / Training",
          "Agree - needs to be looked at",
          "Agree - needs to be looked at",
          "Practice / Training",
          "Agree - needs to be looked at",
          "Agree - needs to be looked at",
          "Useful to LA",
          "Useful to LA",
          "Useful to LA",
          "Useful to LA",
          "Useful to LA",
          "Useful to LA",
          "Useful to LA",
          "Useful to LA",
          "Agree - needs to be looked at",
          "Agree - needs to be looked at",
          "Useful to LA",
          "Useful to LA",
          "Practice / Training",
          "Useful to LA",
          "Practice / Training",
          "Practice / Training",
          "Practice / Training",
          "Practice / Training",
          "Agree - needs to be looked at",
          "Useful to LA",
          "Agree - needs to be looked at",
          "Practice / Training",
          "Practice / Training",
          "Duplication",
          "Duplication",
          "Agree - needs to be looked at",
          "Agree - needs to be looked at",
          "Practice / Training",
          "Useful to LA",
          "Useful to LA",
          "Practice / Training",
          "Practice / Training",
          "Practice / Training",
          "Agree - needs to be looked at",
          "Useful for understanding the case",
          "Useful for understanding the case",
          "Practice / Training",
          "Agree - needs to be looked at",
          "Agree - needs to be looked at",
          "Practice / Training",
          "Practice / Training",
          "Practice / Training",
          "Agree - needs to be looked at",
          "Practice / Training",
          "Practice / Training",
          "Practice / Training",
          "Practice / Training",
          "Practice / Training",
          "Practice / Training",
          "Practice / Training",
          "Agree - needs to be looked at",
          "Agree - needs to be looked at",
          "Useful to LA",
          "Useful to LA",
          "Duplication",
          "Practice / Training",
          "Agree - needs to be looked at",
          "Agree - needs to be looked at ",
          "Practice / Training",
          "Practice / Training",
          "Practice / Training",
          "Practice / Training",
          "Useful for understanding the case ",
          "Useful for understanding the case ",
          "Practice / Training",
          "Practice / Training",
          "Practice / Training",
          "Practice / Training",
          "Practice / Training",
          "Agree - needs to be looked at",
          "Agree - needs to be looked at",
          "Agree - needs to be looked at",
          "Agree - needs to be looked at",
          "Agree - needs to be looked at",
          "Practice / Training",
          "Practice / Training",
          "Practice / Training",
          "Practice / Training",
          "Practice / Training",
          "Practice / Training",
          "Practice / Training",
          "Practice / Training",
          "Practice / Training",
          "Practice / Training",
          "Agree - needs to be looked at",
          "Practice / Training",
          "Practice / Training",
          "Practice / Training",
          "Agree - needs to be looked at ",
          "Agree - needs to be looked at ",
          "Useful for understanding the case",
          "Useful for understanding the case",
          "Useful for understanding the case",
          "Practice / Training",
          "Useful to LA",
          "Agree - needs to be looked at",
          "Agree - needs to be looked at",
          "Practice / Training",
          "Practice / Training"
         ],
         "xaxis": "x",
         "xbingroup": "x",
         "y": [
          "Language/Guidance/Design",
          "Not relevant",
          "Language/Guidance/Design",
          "Duplication",
          "Duplication",
          "Duplication",
          "Not relevant",
          "Language/Guidance/Design",
          "Not relevant",
          "Not relevant",
          "Not relevant",
          "Language/Guidance/Design",
          "Duplication",
          "Duplication",
          "Duplication",
          "Not relevant",
          "Not relevant",
          "Not relevant",
          "Language/Guidance/Design",
          "Not relevant",
          "Language/Guidance/Design",
          "Useful only to the child ",
          "Useful only to the child ",
          "Useful only to the child ",
          "Useful only to the child ",
          "Useful only to the child ",
          "Useful only to the child ",
          "Useful only to the child ",
          "Language/Guidance/Design",
          "Useful to someone else in LA",
          "Language/Guidance/Design",
          "Language/Guidance/Design",
          "Language/Guidance/Design",
          "Language/Guidance/Design",
          "Language/Guidance/Design",
          "Language/Guidance/Design",
          "Language/Guidance/Design",
          "Language/Guidance/Design",
          "Not relevant",
          "Not relevant",
          "Language/Guidance/Design",
          "Language/Guidance/Design",
          "Language/Guidance/Design",
          "Language/Guidance/Design",
          "Language/Guidance/Design",
          "Language/Guidance/Design",
          "Duplication",
          "Duplication",
          "Not relevant",
          "Duplication",
          "Duplication",
          "Duplication",
          "Duplication",
          "Not relevant",
          "Duplication",
          "Duplication",
          "Duplication",
          "Language/Guidance/Design",
          "Duplication",
          "Duplication",
          "Not relevant",
          "Not relevant",
          "Not relevant",
          "Duplication",
          "Not relevant",
          "Prepopulated",
          "Language/Guidance/Design",
          "Duplication",
          "Duplication",
          "Duplication",
          "Language/Guidance/Design",
          "Duplication",
          "Not relevant ",
          "Language/Guidance/Design",
          "Language/Guidance/Design",
          "Useful to someone else in LA",
          "Language/Guidance/Design",
          "Language/Guidance/Design",
          "Language/Guidance/Design",
          "Language/Guidance/Design",
          "Language/Guidance/Design",
          "Language/Guidance/Design",
          "Language/Guidance/Design",
          "Language/Guidance/Design",
          "Language/Guidance/Design",
          "Language/Guidance/Design",
          "Duplication",
          "Not relevant",
          "Not relevant",
          "Duplication",
          "Useful to someone else in LA",
          "Duplication",
          "Language/Guidance/Design",
          "Duplication",
          "Duplication",
          "Language/Guidance/Design",
          "Language/Guidance/Design",
          "Duplication",
          "Not relevant",
          "Language/Guidance/Design",
          "Duplication",
          "Duplication",
          "Language/Guidance/Design",
          "Language/Guidance/Design",
          "Language/Guidance/Design",
          "Duplication",
          "Not relevant",
          "Language/Guidance/Design",
          "Language/Guidance/Design",
          "Useful to someone else in LA",
          "Duplication",
          "Not relevant",
          "Duplication",
          "Not relevant",
          "Duplication",
          "Not relevant",
          "Duplication",
          "Language/Guidance/Design",
          "Language/Guidance/Design",
          "Language/Guidance/Design",
          "Language/Guidance/Design",
          "Language/Guidance/Design",
          "Language/Guidance/Design",
          "Language/Guidance/Design",
          "Language/Guidance/Design",
          "Prepopulated",
          "Useful to someone else in LA",
          "Duplication",
          "Duplication",
          "Language/Guidance/Design",
          "Useful to someone else in LA",
          "Duplication",
          "Not relevant",
          "Language/Guidance/Design",
          "Duplication",
          "Duplication",
          "Duplication",
          "Not relevant",
          "Language/Guidance/Design",
          "Not relevant",
          "Not relevant",
          "Prepopulated",
          "Prepopulated",
          "Prepopulated",
          "Prepopulated",
          "Prepopulated",
          "Language/Guidance/Design",
          "Language/Guidance/Design",
          "Language/Guidance/Design",
          "Language/Guidance/Design",
          "Language/Guidance/Design",
          "Duplication",
          "Duplication",
          "Duplication",
          "Duplication",
          "Duplication",
          "Duplication",
          "Duplication",
          "Duplication",
          "Duplication",
          "Duplication",
          "Duplication",
          "Duplication",
          "Duplication",
          "Duplication",
          "Duplication",
          "Duplication",
          "Duplication",
          "Duplication",
          "Duplication",
          "Duplication",
          "Useful to someone else in LA",
          "Language/Guidance/Design",
          "Language/Guidance/Design",
          "Duplication",
          "Duplication"
         ],
         "yaxis": "y",
         "ybingroup": "y"
        }
       ],
       "layout": {
        "coloraxis": {
         "colorbar": {
          "title": {
           "text": "count"
          }
         },
         "colorscale": [
          [
           0,
           "#0d0887"
          ],
          [
           0.1111111111111111,
           "#46039f"
          ],
          [
           0.2222222222222222,
           "#7201a8"
          ],
          [
           0.3333333333333333,
           "#9c179e"
          ],
          [
           0.4444444444444444,
           "#bd3786"
          ],
          [
           0.5555555555555556,
           "#d8576b"
          ],
          [
           0.6666666666666666,
           "#ed7953"
          ],
          [
           0.7777777777777778,
           "#fb9f3a"
          ],
          [
           0.8888888888888888,
           "#fdca26"
          ],
          [
           1,
           "#f0f921"
          ]
         ]
        },
        "legend": {
         "tracegroupgap": 0
        },
        "margin": {
         "t": 60
        },
        "template": {
         "data": {
          "bar": [
           {
            "error_x": {
             "color": "#2a3f5f"
            },
            "error_y": {
             "color": "#2a3f5f"
            },
            "marker": {
             "line": {
              "color": "#E5ECF6",
              "width": 0.5
             },
             "pattern": {
              "fillmode": "overlay",
              "size": 10,
              "solidity": 0.2
             }
            },
            "type": "bar"
           }
          ],
          "barpolar": [
           {
            "marker": {
             "line": {
              "color": "#E5ECF6",
              "width": 0.5
             },
             "pattern": {
              "fillmode": "overlay",
              "size": 10,
              "solidity": 0.2
             }
            },
            "type": "barpolar"
           }
          ],
          "carpet": [
           {
            "aaxis": {
             "endlinecolor": "#2a3f5f",
             "gridcolor": "white",
             "linecolor": "white",
             "minorgridcolor": "white",
             "startlinecolor": "#2a3f5f"
            },
            "baxis": {
             "endlinecolor": "#2a3f5f",
             "gridcolor": "white",
             "linecolor": "white",
             "minorgridcolor": "white",
             "startlinecolor": "#2a3f5f"
            },
            "type": "carpet"
           }
          ],
          "choropleth": [
           {
            "colorbar": {
             "outlinewidth": 0,
             "ticks": ""
            },
            "type": "choropleth"
           }
          ],
          "contour": [
           {
            "colorbar": {
             "outlinewidth": 0,
             "ticks": ""
            },
            "colorscale": [
             [
              0,
              "#0d0887"
             ],
             [
              0.1111111111111111,
              "#46039f"
             ],
             [
              0.2222222222222222,
              "#7201a8"
             ],
             [
              0.3333333333333333,
              "#9c179e"
             ],
             [
              0.4444444444444444,
              "#bd3786"
             ],
             [
              0.5555555555555556,
              "#d8576b"
             ],
             [
              0.6666666666666666,
              "#ed7953"
             ],
             [
              0.7777777777777778,
              "#fb9f3a"
             ],
             [
              0.8888888888888888,
              "#fdca26"
             ],
             [
              1,
              "#f0f921"
             ]
            ],
            "type": "contour"
           }
          ],
          "contourcarpet": [
           {
            "colorbar": {
             "outlinewidth": 0,
             "ticks": ""
            },
            "type": "contourcarpet"
           }
          ],
          "heatmap": [
           {
            "colorbar": {
             "outlinewidth": 0,
             "ticks": ""
            },
            "colorscale": [
             [
              0,
              "#0d0887"
             ],
             [
              0.1111111111111111,
              "#46039f"
             ],
             [
              0.2222222222222222,
              "#7201a8"
             ],
             [
              0.3333333333333333,
              "#9c179e"
             ],
             [
              0.4444444444444444,
              "#bd3786"
             ],
             [
              0.5555555555555556,
              "#d8576b"
             ],
             [
              0.6666666666666666,
              "#ed7953"
             ],
             [
              0.7777777777777778,
              "#fb9f3a"
             ],
             [
              0.8888888888888888,
              "#fdca26"
             ],
             [
              1,
              "#f0f921"
             ]
            ],
            "type": "heatmap"
           }
          ],
          "heatmapgl": [
           {
            "colorbar": {
             "outlinewidth": 0,
             "ticks": ""
            },
            "colorscale": [
             [
              0,
              "#0d0887"
             ],
             [
              0.1111111111111111,
              "#46039f"
             ],
             [
              0.2222222222222222,
              "#7201a8"
             ],
             [
              0.3333333333333333,
              "#9c179e"
             ],
             [
              0.4444444444444444,
              "#bd3786"
             ],
             [
              0.5555555555555556,
              "#d8576b"
             ],
             [
              0.6666666666666666,
              "#ed7953"
             ],
             [
              0.7777777777777778,
              "#fb9f3a"
             ],
             [
              0.8888888888888888,
              "#fdca26"
             ],
             [
              1,
              "#f0f921"
             ]
            ],
            "type": "heatmapgl"
           }
          ],
          "histogram": [
           {
            "marker": {
             "pattern": {
              "fillmode": "overlay",
              "size": 10,
              "solidity": 0.2
             }
            },
            "type": "histogram"
           }
          ],
          "histogram2d": [
           {
            "colorbar": {
             "outlinewidth": 0,
             "ticks": ""
            },
            "colorscale": [
             [
              0,
              "#0d0887"
             ],
             [
              0.1111111111111111,
              "#46039f"
             ],
             [
              0.2222222222222222,
              "#7201a8"
             ],
             [
              0.3333333333333333,
              "#9c179e"
             ],
             [
              0.4444444444444444,
              "#bd3786"
             ],
             [
              0.5555555555555556,
              "#d8576b"
             ],
             [
              0.6666666666666666,
              "#ed7953"
             ],
             [
              0.7777777777777778,
              "#fb9f3a"
             ],
             [
              0.8888888888888888,
              "#fdca26"
             ],
             [
              1,
              "#f0f921"
             ]
            ],
            "type": "histogram2d"
           }
          ],
          "histogram2dcontour": [
           {
            "colorbar": {
             "outlinewidth": 0,
             "ticks": ""
            },
            "colorscale": [
             [
              0,
              "#0d0887"
             ],
             [
              0.1111111111111111,
              "#46039f"
             ],
             [
              0.2222222222222222,
              "#7201a8"
             ],
             [
              0.3333333333333333,
              "#9c179e"
             ],
             [
              0.4444444444444444,
              "#bd3786"
             ],
             [
              0.5555555555555556,
              "#d8576b"
             ],
             [
              0.6666666666666666,
              "#ed7953"
             ],
             [
              0.7777777777777778,
              "#fb9f3a"
             ],
             [
              0.8888888888888888,
              "#fdca26"
             ],
             [
              1,
              "#f0f921"
             ]
            ],
            "type": "histogram2dcontour"
           }
          ],
          "mesh3d": [
           {
            "colorbar": {
             "outlinewidth": 0,
             "ticks": ""
            },
            "type": "mesh3d"
           }
          ],
          "parcoords": [
           {
            "line": {
             "colorbar": {
              "outlinewidth": 0,
              "ticks": ""
             }
            },
            "type": "parcoords"
           }
          ],
          "pie": [
           {
            "automargin": true,
            "type": "pie"
           }
          ],
          "scatter": [
           {
            "fillpattern": {
             "fillmode": "overlay",
             "size": 10,
             "solidity": 0.2
            },
            "type": "scatter"
           }
          ],
          "scatter3d": [
           {
            "line": {
             "colorbar": {
              "outlinewidth": 0,
              "ticks": ""
             }
            },
            "marker": {
             "colorbar": {
              "outlinewidth": 0,
              "ticks": ""
             }
            },
            "type": "scatter3d"
           }
          ],
          "scattercarpet": [
           {
            "marker": {
             "colorbar": {
              "outlinewidth": 0,
              "ticks": ""
             }
            },
            "type": "scattercarpet"
           }
          ],
          "scattergeo": [
           {
            "marker": {
             "colorbar": {
              "outlinewidth": 0,
              "ticks": ""
             }
            },
            "type": "scattergeo"
           }
          ],
          "scattergl": [
           {
            "marker": {
             "colorbar": {
              "outlinewidth": 0,
              "ticks": ""
             }
            },
            "type": "scattergl"
           }
          ],
          "scattermapbox": [
           {
            "marker": {
             "colorbar": {
              "outlinewidth": 0,
              "ticks": ""
             }
            },
            "type": "scattermapbox"
           }
          ],
          "scatterpolar": [
           {
            "marker": {
             "colorbar": {
              "outlinewidth": 0,
              "ticks": ""
             }
            },
            "type": "scatterpolar"
           }
          ],
          "scatterpolargl": [
           {
            "marker": {
             "colorbar": {
              "outlinewidth": 0,
              "ticks": ""
             }
            },
            "type": "scatterpolargl"
           }
          ],
          "scatterternary": [
           {
            "marker": {
             "colorbar": {
              "outlinewidth": 0,
              "ticks": ""
             }
            },
            "type": "scatterternary"
           }
          ],
          "surface": [
           {
            "colorbar": {
             "outlinewidth": 0,
             "ticks": ""
            },
            "colorscale": [
             [
              0,
              "#0d0887"
             ],
             [
              0.1111111111111111,
              "#46039f"
             ],
             [
              0.2222222222222222,
              "#7201a8"
             ],
             [
              0.3333333333333333,
              "#9c179e"
             ],
             [
              0.4444444444444444,
              "#bd3786"
             ],
             [
              0.5555555555555556,
              "#d8576b"
             ],
             [
              0.6666666666666666,
              "#ed7953"
             ],
             [
              0.7777777777777778,
              "#fb9f3a"
             ],
             [
              0.8888888888888888,
              "#fdca26"
             ],
             [
              1,
              "#f0f921"
             ]
            ],
            "type": "surface"
           }
          ],
          "table": [
           {
            "cells": {
             "fill": {
              "color": "#EBF0F8"
             },
             "line": {
              "color": "white"
             }
            },
            "header": {
             "fill": {
              "color": "#C8D4E3"
             },
             "line": {
              "color": "white"
             }
            },
            "type": "table"
           }
          ]
         },
         "layout": {
          "annotationdefaults": {
           "arrowcolor": "#2a3f5f",
           "arrowhead": 0,
           "arrowwidth": 1
          },
          "autotypenumbers": "strict",
          "coloraxis": {
           "colorbar": {
            "outlinewidth": 0,
            "ticks": ""
           }
          },
          "colorscale": {
           "diverging": [
            [
             0,
             "#8e0152"
            ],
            [
             0.1,
             "#c51b7d"
            ],
            [
             0.2,
             "#de77ae"
            ],
            [
             0.3,
             "#f1b6da"
            ],
            [
             0.4,
             "#fde0ef"
            ],
            [
             0.5,
             "#f7f7f7"
            ],
            [
             0.6,
             "#e6f5d0"
            ],
            [
             0.7,
             "#b8e186"
            ],
            [
             0.8,
             "#7fbc41"
            ],
            [
             0.9,
             "#4d9221"
            ],
            [
             1,
             "#276419"
            ]
           ],
           "sequential": [
            [
             0,
             "#0d0887"
            ],
            [
             0.1111111111111111,
             "#46039f"
            ],
            [
             0.2222222222222222,
             "#7201a8"
            ],
            [
             0.3333333333333333,
             "#9c179e"
            ],
            [
             0.4444444444444444,
             "#bd3786"
            ],
            [
             0.5555555555555556,
             "#d8576b"
            ],
            [
             0.6666666666666666,
             "#ed7953"
            ],
            [
             0.7777777777777778,
             "#fb9f3a"
            ],
            [
             0.8888888888888888,
             "#fdca26"
            ],
            [
             1,
             "#f0f921"
            ]
           ],
           "sequentialminus": [
            [
             0,
             "#0d0887"
            ],
            [
             0.1111111111111111,
             "#46039f"
            ],
            [
             0.2222222222222222,
             "#7201a8"
            ],
            [
             0.3333333333333333,
             "#9c179e"
            ],
            [
             0.4444444444444444,
             "#bd3786"
            ],
            [
             0.5555555555555556,
             "#d8576b"
            ],
            [
             0.6666666666666666,
             "#ed7953"
            ],
            [
             0.7777777777777778,
             "#fb9f3a"
            ],
            [
             0.8888888888888888,
             "#fdca26"
            ],
            [
             1,
             "#f0f921"
            ]
           ]
          },
          "colorway": [
           "#636efa",
           "#EF553B",
           "#00cc96",
           "#ab63fa",
           "#FFA15A",
           "#19d3f3",
           "#FF6692",
           "#B6E880",
           "#FF97FF",
           "#FECB52"
          ],
          "font": {
           "color": "#2a3f5f"
          },
          "geo": {
           "bgcolor": "white",
           "lakecolor": "white",
           "landcolor": "#E5ECF6",
           "showlakes": true,
           "showland": true,
           "subunitcolor": "white"
          },
          "hoverlabel": {
           "align": "left"
          },
          "hovermode": "closest",
          "mapbox": {
           "style": "light"
          },
          "paper_bgcolor": "white",
          "plot_bgcolor": "#E5ECF6",
          "polar": {
           "angularaxis": {
            "gridcolor": "white",
            "linecolor": "white",
            "ticks": ""
           },
           "bgcolor": "#E5ECF6",
           "radialaxis": {
            "gridcolor": "white",
            "linecolor": "white",
            "ticks": ""
           }
          },
          "scene": {
           "xaxis": {
            "backgroundcolor": "#E5ECF6",
            "gridcolor": "white",
            "gridwidth": 2,
            "linecolor": "white",
            "showbackground": true,
            "ticks": "",
            "zerolinecolor": "white"
           },
           "yaxis": {
            "backgroundcolor": "#E5ECF6",
            "gridcolor": "white",
            "gridwidth": 2,
            "linecolor": "white",
            "showbackground": true,
            "ticks": "",
            "zerolinecolor": "white"
           },
           "zaxis": {
            "backgroundcolor": "#E5ECF6",
            "gridcolor": "white",
            "gridwidth": 2,
            "linecolor": "white",
            "showbackground": true,
            "ticks": "",
            "zerolinecolor": "white"
           }
          },
          "shapedefaults": {
           "line": {
            "color": "#2a3f5f"
           }
          },
          "ternary": {
           "aaxis": {
            "gridcolor": "white",
            "linecolor": "white",
            "ticks": ""
           },
           "baxis": {
            "gridcolor": "white",
            "linecolor": "white",
            "ticks": ""
           },
           "bgcolor": "#E5ECF6",
           "caxis": {
            "gridcolor": "white",
            "linecolor": "white",
            "ticks": ""
           }
          },
          "title": {
           "x": 0.05
          },
          "xaxis": {
           "automargin": true,
           "gridcolor": "white",
           "linecolor": "white",
           "ticks": "",
           "title": {
            "standoff": 15
           },
           "zerolinecolor": "white",
           "zerolinewidth": 2
          },
          "yaxis": {
           "automargin": true,
           "gridcolor": "white",
           "linecolor": "white",
           "ticks": "",
           "title": {
            "standoff": 15
           },
           "zerolinecolor": "white",
           "zerolinewidth": 2
          }
         }
        },
        "xaxis": {
         "anchor": "y",
         "domain": [
          0,
          1
         ],
         "title": {
          "text": "consumer reason"
         }
        },
        "yaxis": {
         "anchor": "x",
         "domain": [
          0,
          1
         ],
         "title": {
          "text": "practitioner reason"
         }
        }
       }
      },
      "text/html": [
       "<div>                            <div id=\"43161660-1e04-43fd-a7fd-c6e4ee3384b8\" class=\"plotly-graph-div\" style=\"height:525px; width:100%;\"></div>            <script type=\"text/javascript\">                require([\"plotly\"], function(Plotly) {                    window.PLOTLYENV=window.PLOTLYENV || {};                                    if (document.getElementById(\"43161660-1e04-43fd-a7fd-c6e4ee3384b8\")) {                    Plotly.newPlot(                        \"43161660-1e04-43fd-a7fd-c6e4ee3384b8\",                        [{\"coloraxis\":\"coloraxis\",\"hovertemplate\":\"consumer reason=%{x}\\u003cbr\\u003epractitioner reason=%{y}\\u003cbr\\u003ecount=%{z}\\u003cextra\\u003e\\u003c\\u002fextra\\u003e\",\"name\":\"\",\"x\":[\"Practice \\u002f Training\",\"Useful to LA\",\"Practice \\u002f Training\",\"Useful for understanding the case\",\"Useful for understanding the case\",\"Useful for understanding the case\",\"Practice \\u002f Training\",\"Practice \\u002f Training\",\"Practice \\u002f Training\",\"Practice \\u002f Training\",\"Practice \\u002f Training\",\"Agree - needs to be looked at\",\"Practice \\u002f Training\",\"Practice \\u002f Training\",\"Practice \\u002f Training\",\"Practice \\u002f Training\",\"Practice \\u002f Training\",\"Practice \\u002f Training\",\"Practice \\u002f Training\",\"Practice \\u002f Training\",\"Practice \\u002f Training\",\"Useful to LA\",\"Useful to LA\",\"Useful to LA\",\"Useful to LA\",\"Useful to LA\",\"Useful to LA\",\"Useful to LA\",\"Useful for understanding the case\",\"Useful to LA\",\"Practice \\u002f Training\",\"Practice \\u002f Training\",\"Practice \\u002f Training\",\"Practice \\u002f Training\",\"Practice \\u002f Training\",\"Practice \\u002f Training\",\"Practice \\u002f Training\",\"Practice \\u002f Training\",\"Practice \\u002f Training\",\"Practice \\u002f Training\",\"Practice \\u002f Training\",\"Agree - needs to be looked at \",\"Agree - needs to be looked at \",\"Useful for understanding the case\",\"Practice \\u002f Training\",\"Useful to LA\",\"Useful to LA\",\"Practice \\u002f Training\",\"Useful for understanding the case\",\"Agree - needs to be looked at\",\"Useful for understanding the case \",\"Agree - needs to be looked at\",\"Agree - needs to be looked at\",\"Useful to LA\",\"Agree - needs to be looked at\",\"Agree - needs to be looked at\",\"Agree - needs to be looked at\",\"Agree - needs to be looked at\",\"Duplication\",\"Agree - needs to be looked at\",\"Duplication\",\"Duplication\",\"Duplication\",\"Useful to LA\",\"Practice \\u002f Training\",\"Duplication\",\"Useful to LA\",\"Agree - needs to be looked at\",\"Duplication\",\"Duplication\",\"Agree - needs to be looked at\",\"Practice \\u002f Training\",\"Agree - needs to be looked at\",\"Agree - needs to be looked at\",\"Practice \\u002f Training\",\"Agree - needs to be looked at\",\"Agree - needs to be looked at\",\"Useful to LA\",\"Useful to LA\",\"Useful to LA\",\"Useful to LA\",\"Useful to LA\",\"Useful to LA\",\"Useful to LA\",\"Useful to LA\",\"Agree - needs to be looked at\",\"Agree - needs to be looked at\",\"Useful to LA\",\"Useful to LA\",\"Practice \\u002f Training\",\"Useful to LA\",\"Practice \\u002f Training\",\"Practice \\u002f Training\",\"Practice \\u002f Training\",\"Practice \\u002f Training\",\"Agree - needs to be looked at\",\"Useful to LA\",\"Agree - needs to be looked at\",\"Practice \\u002f Training\",\"Practice \\u002f Training\",\"Duplication\",\"Duplication\",\"Agree - needs to be looked at\",\"Agree - needs to be looked at\",\"Practice \\u002f Training\",\"Useful to LA\",\"Useful to LA\",\"Practice \\u002f Training\",\"Practice \\u002f Training\",\"Practice \\u002f Training\",\"Agree - needs to be looked at\",\"Useful for understanding the case\",\"Useful for understanding the case\",\"Practice \\u002f Training\",\"Agree - needs to be looked at\",\"Agree - needs to be looked at\",\"Practice \\u002f Training\",\"Practice \\u002f Training\",\"Practice \\u002f Training\",\"Agree - needs to be looked at\",\"Practice \\u002f Training\",\"Practice \\u002f Training\",\"Practice \\u002f Training\",\"Practice \\u002f Training\",\"Practice \\u002f Training\",\"Practice \\u002f Training\",\"Practice \\u002f Training\",\"Agree - needs to be looked at\",\"Agree - needs to be looked at\",\"Useful to LA\",\"Useful to LA\",\"Duplication\",\"Practice \\u002f Training\",\"Agree - needs to be looked at\",\"Agree - needs to be looked at \",\"Practice \\u002f Training\",\"Practice \\u002f Training\",\"Practice \\u002f Training\",\"Practice \\u002f Training\",\"Useful for understanding the case \",\"Useful for understanding the case \",\"Practice \\u002f Training\",\"Practice \\u002f Training\",\"Practice \\u002f Training\",\"Practice \\u002f Training\",\"Practice \\u002f Training\",\"Agree - needs to be looked at\",\"Agree - needs to be looked at\",\"Agree - needs to be looked at\",\"Agree - needs to be looked at\",\"Agree - needs to be looked at\",\"Practice \\u002f Training\",\"Practice \\u002f Training\",\"Practice \\u002f Training\",\"Practice \\u002f Training\",\"Practice \\u002f Training\",\"Practice \\u002f Training\",\"Practice \\u002f Training\",\"Practice \\u002f Training\",\"Practice \\u002f Training\",\"Practice \\u002f Training\",\"Agree - needs to be looked at\",\"Practice \\u002f Training\",\"Practice \\u002f Training\",\"Practice \\u002f Training\",\"Agree - needs to be looked at \",\"Agree - needs to be looked at \",\"Useful for understanding the case\",\"Useful for understanding the case\",\"Useful for understanding the case\",\"Practice \\u002f Training\",\"Useful to LA\",\"Agree - needs to be looked at\",\"Agree - needs to be looked at\",\"Practice \\u002f Training\",\"Practice \\u002f Training\"],\"xaxis\":\"x\",\"xbingroup\":\"x\",\"y\":[\"Language\\u002fGuidance\\u002fDesign\",\"Not relevant\",\"Language\\u002fGuidance\\u002fDesign\",\"Duplication\",\"Duplication\",\"Duplication\",\"Not relevant\",\"Language\\u002fGuidance\\u002fDesign\",\"Not relevant\",\"Not relevant\",\"Not relevant\",\"Language\\u002fGuidance\\u002fDesign\",\"Duplication\",\"Duplication\",\"Duplication\",\"Not relevant\",\"Not relevant\",\"Not relevant\",\"Language\\u002fGuidance\\u002fDesign\",\"Not relevant\",\"Language\\u002fGuidance\\u002fDesign\",\"Useful only to the child \",\"Useful only to the child \",\"Useful only to the child \",\"Useful only to the child \",\"Useful only to the child \",\"Useful only to the child \",\"Useful only to the child \",\"Language\\u002fGuidance\\u002fDesign\",\"Useful to someone else in LA\",\"Language\\u002fGuidance\\u002fDesign\",\"Language\\u002fGuidance\\u002fDesign\",\"Language\\u002fGuidance\\u002fDesign\",\"Language\\u002fGuidance\\u002fDesign\",\"Language\\u002fGuidance\\u002fDesign\",\"Language\\u002fGuidance\\u002fDesign\",\"Language\\u002fGuidance\\u002fDesign\",\"Language\\u002fGuidance\\u002fDesign\",\"Not relevant\",\"Not relevant\",\"Language\\u002fGuidance\\u002fDesign\",\"Language\\u002fGuidance\\u002fDesign\",\"Language\\u002fGuidance\\u002fDesign\",\"Language\\u002fGuidance\\u002fDesign\",\"Language\\u002fGuidance\\u002fDesign\",\"Language\\u002fGuidance\\u002fDesign\",\"Duplication\",\"Duplication\",\"Not relevant\",\"Duplication\",\"Duplication\",\"Duplication\",\"Duplication\",\"Not relevant\",\"Duplication\",\"Duplication\",\"Duplication\",\"Language\\u002fGuidance\\u002fDesign\",\"Duplication\",\"Duplication\",\"Not relevant\",\"Not relevant\",\"Not relevant\",\"Duplication\",\"Not relevant\",\"Prepopulated\",\"Language\\u002fGuidance\\u002fDesign\",\"Duplication\",\"Duplication\",\"Duplication\",\"Language\\u002fGuidance\\u002fDesign\",\"Duplication\",\"Not relevant \",\"Language\\u002fGuidance\\u002fDesign\",\"Language\\u002fGuidance\\u002fDesign\",\"Useful to someone else in LA\",\"Language\\u002fGuidance\\u002fDesign\",\"Language\\u002fGuidance\\u002fDesign\",\"Language\\u002fGuidance\\u002fDesign\",\"Language\\u002fGuidance\\u002fDesign\",\"Language\\u002fGuidance\\u002fDesign\",\"Language\\u002fGuidance\\u002fDesign\",\"Language\\u002fGuidance\\u002fDesign\",\"Language\\u002fGuidance\\u002fDesign\",\"Language\\u002fGuidance\\u002fDesign\",\"Language\\u002fGuidance\\u002fDesign\",\"Duplication\",\"Not relevant\",\"Not relevant\",\"Duplication\",\"Useful to someone else in LA\",\"Duplication\",\"Language\\u002fGuidance\\u002fDesign\",\"Duplication\",\"Duplication\",\"Language\\u002fGuidance\\u002fDesign\",\"Language\\u002fGuidance\\u002fDesign\",\"Duplication\",\"Not relevant\",\"Language\\u002fGuidance\\u002fDesign\",\"Duplication\",\"Duplication\",\"Language\\u002fGuidance\\u002fDesign\",\"Language\\u002fGuidance\\u002fDesign\",\"Language\\u002fGuidance\\u002fDesign\",\"Duplication\",\"Not relevant\",\"Language\\u002fGuidance\\u002fDesign\",\"Language\\u002fGuidance\\u002fDesign\",\"Useful to someone else in LA\",\"Duplication\",\"Not relevant\",\"Duplication\",\"Not relevant\",\"Duplication\",\"Not relevant\",\"Duplication\",\"Language\\u002fGuidance\\u002fDesign\",\"Language\\u002fGuidance\\u002fDesign\",\"Language\\u002fGuidance\\u002fDesign\",\"Language\\u002fGuidance\\u002fDesign\",\"Language\\u002fGuidance\\u002fDesign\",\"Language\\u002fGuidance\\u002fDesign\",\"Language\\u002fGuidance\\u002fDesign\",\"Language\\u002fGuidance\\u002fDesign\",\"Prepopulated\",\"Useful to someone else in LA\",\"Duplication\",\"Duplication\",\"Language\\u002fGuidance\\u002fDesign\",\"Useful to someone else in LA\",\"Duplication\",\"Not relevant\",\"Language\\u002fGuidance\\u002fDesign\",\"Duplication\",\"Duplication\",\"Duplication\",\"Not relevant\",\"Language\\u002fGuidance\\u002fDesign\",\"Not relevant\",\"Not relevant\",\"Prepopulated\",\"Prepopulated\",\"Prepopulated\",\"Prepopulated\",\"Prepopulated\",\"Language\\u002fGuidance\\u002fDesign\",\"Language\\u002fGuidance\\u002fDesign\",\"Language\\u002fGuidance\\u002fDesign\",\"Language\\u002fGuidance\\u002fDesign\",\"Language\\u002fGuidance\\u002fDesign\",\"Duplication\",\"Duplication\",\"Duplication\",\"Duplication\",\"Duplication\",\"Duplication\",\"Duplication\",\"Duplication\",\"Duplication\",\"Duplication\",\"Duplication\",\"Duplication\",\"Duplication\",\"Duplication\",\"Duplication\",\"Duplication\",\"Duplication\",\"Duplication\",\"Duplication\",\"Duplication\",\"Useful to someone else in LA\",\"Language\\u002fGuidance\\u002fDesign\",\"Language\\u002fGuidance\\u002fDesign\",\"Duplication\",\"Duplication\"],\"yaxis\":\"y\",\"ybingroup\":\"y\",\"type\":\"histogram2d\"}],                        {\"template\":{\"data\":{\"histogram2dcontour\":[{\"type\":\"histogram2dcontour\",\"colorbar\":{\"outlinewidth\":0,\"ticks\":\"\"},\"colorscale\":[[0.0,\"#0d0887\"],[0.1111111111111111,\"#46039f\"],[0.2222222222222222,\"#7201a8\"],[0.3333333333333333,\"#9c179e\"],[0.4444444444444444,\"#bd3786\"],[0.5555555555555556,\"#d8576b\"],[0.6666666666666666,\"#ed7953\"],[0.7777777777777778,\"#fb9f3a\"],[0.8888888888888888,\"#fdca26\"],[1.0,\"#f0f921\"]]}],\"choropleth\":[{\"type\":\"choropleth\",\"colorbar\":{\"outlinewidth\":0,\"ticks\":\"\"}}],\"histogram2d\":[{\"type\":\"histogram2d\",\"colorbar\":{\"outlinewidth\":0,\"ticks\":\"\"},\"colorscale\":[[0.0,\"#0d0887\"],[0.1111111111111111,\"#46039f\"],[0.2222222222222222,\"#7201a8\"],[0.3333333333333333,\"#9c179e\"],[0.4444444444444444,\"#bd3786\"],[0.5555555555555556,\"#d8576b\"],[0.6666666666666666,\"#ed7953\"],[0.7777777777777778,\"#fb9f3a\"],[0.8888888888888888,\"#fdca26\"],[1.0,\"#f0f921\"]]}],\"heatmap\":[{\"type\":\"heatmap\",\"colorbar\":{\"outlinewidth\":0,\"ticks\":\"\"},\"colorscale\":[[0.0,\"#0d0887\"],[0.1111111111111111,\"#46039f\"],[0.2222222222222222,\"#7201a8\"],[0.3333333333333333,\"#9c179e\"],[0.4444444444444444,\"#bd3786\"],[0.5555555555555556,\"#d8576b\"],[0.6666666666666666,\"#ed7953\"],[0.7777777777777778,\"#fb9f3a\"],[0.8888888888888888,\"#fdca26\"],[1.0,\"#f0f921\"]]}],\"heatmapgl\":[{\"type\":\"heatmapgl\",\"colorbar\":{\"outlinewidth\":0,\"ticks\":\"\"},\"colorscale\":[[0.0,\"#0d0887\"],[0.1111111111111111,\"#46039f\"],[0.2222222222222222,\"#7201a8\"],[0.3333333333333333,\"#9c179e\"],[0.4444444444444444,\"#bd3786\"],[0.5555555555555556,\"#d8576b\"],[0.6666666666666666,\"#ed7953\"],[0.7777777777777778,\"#fb9f3a\"],[0.8888888888888888,\"#fdca26\"],[1.0,\"#f0f921\"]]}],\"contourcarpet\":[{\"type\":\"contourcarpet\",\"colorbar\":{\"outlinewidth\":0,\"ticks\":\"\"}}],\"contour\":[{\"type\":\"contour\",\"colorbar\":{\"outlinewidth\":0,\"ticks\":\"\"},\"colorscale\":[[0.0,\"#0d0887\"],[0.1111111111111111,\"#46039f\"],[0.2222222222222222,\"#7201a8\"],[0.3333333333333333,\"#9c179e\"],[0.4444444444444444,\"#bd3786\"],[0.5555555555555556,\"#d8576b\"],[0.6666666666666666,\"#ed7953\"],[0.7777777777777778,\"#fb9f3a\"],[0.8888888888888888,\"#fdca26\"],[1.0,\"#f0f921\"]]}],\"surface\":[{\"type\":\"surface\",\"colorbar\":{\"outlinewidth\":0,\"ticks\":\"\"},\"colorscale\":[[0.0,\"#0d0887\"],[0.1111111111111111,\"#46039f\"],[0.2222222222222222,\"#7201a8\"],[0.3333333333333333,\"#9c179e\"],[0.4444444444444444,\"#bd3786\"],[0.5555555555555556,\"#d8576b\"],[0.6666666666666666,\"#ed7953\"],[0.7777777777777778,\"#fb9f3a\"],[0.8888888888888888,\"#fdca26\"],[1.0,\"#f0f921\"]]}],\"mesh3d\":[{\"type\":\"mesh3d\",\"colorbar\":{\"outlinewidth\":0,\"ticks\":\"\"}}],\"scatter\":[{\"fillpattern\":{\"fillmode\":\"overlay\",\"size\":10,\"solidity\":0.2},\"type\":\"scatter\"}],\"parcoords\":[{\"type\":\"parcoords\",\"line\":{\"colorbar\":{\"outlinewidth\":0,\"ticks\":\"\"}}}],\"scatterpolargl\":[{\"type\":\"scatterpolargl\",\"marker\":{\"colorbar\":{\"outlinewidth\":0,\"ticks\":\"\"}}}],\"bar\":[{\"error_x\":{\"color\":\"#2a3f5f\"},\"error_y\":{\"color\":\"#2a3f5f\"},\"marker\":{\"line\":{\"color\":\"#E5ECF6\",\"width\":0.5},\"pattern\":{\"fillmode\":\"overlay\",\"size\":10,\"solidity\":0.2}},\"type\":\"bar\"}],\"scattergeo\":[{\"type\":\"scattergeo\",\"marker\":{\"colorbar\":{\"outlinewidth\":0,\"ticks\":\"\"}}}],\"scatterpolar\":[{\"type\":\"scatterpolar\",\"marker\":{\"colorbar\":{\"outlinewidth\":0,\"ticks\":\"\"}}}],\"histogram\":[{\"marker\":{\"pattern\":{\"fillmode\":\"overlay\",\"size\":10,\"solidity\":0.2}},\"type\":\"histogram\"}],\"scattergl\":[{\"type\":\"scattergl\",\"marker\":{\"colorbar\":{\"outlinewidth\":0,\"ticks\":\"\"}}}],\"scatter3d\":[{\"type\":\"scatter3d\",\"line\":{\"colorbar\":{\"outlinewidth\":0,\"ticks\":\"\"}},\"marker\":{\"colorbar\":{\"outlinewidth\":0,\"ticks\":\"\"}}}],\"scattermapbox\":[{\"type\":\"scattermapbox\",\"marker\":{\"colorbar\":{\"outlinewidth\":0,\"ticks\":\"\"}}}],\"scatterternary\":[{\"type\":\"scatterternary\",\"marker\":{\"colorbar\":{\"outlinewidth\":0,\"ticks\":\"\"}}}],\"scattercarpet\":[{\"type\":\"scattercarpet\",\"marker\":{\"colorbar\":{\"outlinewidth\":0,\"ticks\":\"\"}}}],\"carpet\":[{\"aaxis\":{\"endlinecolor\":\"#2a3f5f\",\"gridcolor\":\"white\",\"linecolor\":\"white\",\"minorgridcolor\":\"white\",\"startlinecolor\":\"#2a3f5f\"},\"baxis\":{\"endlinecolor\":\"#2a3f5f\",\"gridcolor\":\"white\",\"linecolor\":\"white\",\"minorgridcolor\":\"white\",\"startlinecolor\":\"#2a3f5f\"},\"type\":\"carpet\"}],\"table\":[{\"cells\":{\"fill\":{\"color\":\"#EBF0F8\"},\"line\":{\"color\":\"white\"}},\"header\":{\"fill\":{\"color\":\"#C8D4E3\"},\"line\":{\"color\":\"white\"}},\"type\":\"table\"}],\"barpolar\":[{\"marker\":{\"line\":{\"color\":\"#E5ECF6\",\"width\":0.5},\"pattern\":{\"fillmode\":\"overlay\",\"size\":10,\"solidity\":0.2}},\"type\":\"barpolar\"}],\"pie\":[{\"automargin\":true,\"type\":\"pie\"}]},\"layout\":{\"autotypenumbers\":\"strict\",\"colorway\":[\"#636efa\",\"#EF553B\",\"#00cc96\",\"#ab63fa\",\"#FFA15A\",\"#19d3f3\",\"#FF6692\",\"#B6E880\",\"#FF97FF\",\"#FECB52\"],\"font\":{\"color\":\"#2a3f5f\"},\"hovermode\":\"closest\",\"hoverlabel\":{\"align\":\"left\"},\"paper_bgcolor\":\"white\",\"plot_bgcolor\":\"#E5ECF6\",\"polar\":{\"bgcolor\":\"#E5ECF6\",\"angularaxis\":{\"gridcolor\":\"white\",\"linecolor\":\"white\",\"ticks\":\"\"},\"radialaxis\":{\"gridcolor\":\"white\",\"linecolor\":\"white\",\"ticks\":\"\"}},\"ternary\":{\"bgcolor\":\"#E5ECF6\",\"aaxis\":{\"gridcolor\":\"white\",\"linecolor\":\"white\",\"ticks\":\"\"},\"baxis\":{\"gridcolor\":\"white\",\"linecolor\":\"white\",\"ticks\":\"\"},\"caxis\":{\"gridcolor\":\"white\",\"linecolor\":\"white\",\"ticks\":\"\"}},\"coloraxis\":{\"colorbar\":{\"outlinewidth\":0,\"ticks\":\"\"}},\"colorscale\":{\"sequential\":[[0.0,\"#0d0887\"],[0.1111111111111111,\"#46039f\"],[0.2222222222222222,\"#7201a8\"],[0.3333333333333333,\"#9c179e\"],[0.4444444444444444,\"#bd3786\"],[0.5555555555555556,\"#d8576b\"],[0.6666666666666666,\"#ed7953\"],[0.7777777777777778,\"#fb9f3a\"],[0.8888888888888888,\"#fdca26\"],[1.0,\"#f0f921\"]],\"sequentialminus\":[[0.0,\"#0d0887\"],[0.1111111111111111,\"#46039f\"],[0.2222222222222222,\"#7201a8\"],[0.3333333333333333,\"#9c179e\"],[0.4444444444444444,\"#bd3786\"],[0.5555555555555556,\"#d8576b\"],[0.6666666666666666,\"#ed7953\"],[0.7777777777777778,\"#fb9f3a\"],[0.8888888888888888,\"#fdca26\"],[1.0,\"#f0f921\"]],\"diverging\":[[0,\"#8e0152\"],[0.1,\"#c51b7d\"],[0.2,\"#de77ae\"],[0.3,\"#f1b6da\"],[0.4,\"#fde0ef\"],[0.5,\"#f7f7f7\"],[0.6,\"#e6f5d0\"],[0.7,\"#b8e186\"],[0.8,\"#7fbc41\"],[0.9,\"#4d9221\"],[1,\"#276419\"]]},\"xaxis\":{\"gridcolor\":\"white\",\"linecolor\":\"white\",\"ticks\":\"\",\"title\":{\"standoff\":15},\"zerolinecolor\":\"white\",\"automargin\":true,\"zerolinewidth\":2},\"yaxis\":{\"gridcolor\":\"white\",\"linecolor\":\"white\",\"ticks\":\"\",\"title\":{\"standoff\":15},\"zerolinecolor\":\"white\",\"automargin\":true,\"zerolinewidth\":2},\"scene\":{\"xaxis\":{\"backgroundcolor\":\"#E5ECF6\",\"gridcolor\":\"white\",\"linecolor\":\"white\",\"showbackground\":true,\"ticks\":\"\",\"zerolinecolor\":\"white\",\"gridwidth\":2},\"yaxis\":{\"backgroundcolor\":\"#E5ECF6\",\"gridcolor\":\"white\",\"linecolor\":\"white\",\"showbackground\":true,\"ticks\":\"\",\"zerolinecolor\":\"white\",\"gridwidth\":2},\"zaxis\":{\"backgroundcolor\":\"#E5ECF6\",\"gridcolor\":\"white\",\"linecolor\":\"white\",\"showbackground\":true,\"ticks\":\"\",\"zerolinecolor\":\"white\",\"gridwidth\":2}},\"shapedefaults\":{\"line\":{\"color\":\"#2a3f5f\"}},\"annotationdefaults\":{\"arrowcolor\":\"#2a3f5f\",\"arrowhead\":0,\"arrowwidth\":1},\"geo\":{\"bgcolor\":\"white\",\"landcolor\":\"#E5ECF6\",\"subunitcolor\":\"white\",\"showland\":true,\"showlakes\":true,\"lakecolor\":\"white\"},\"title\":{\"x\":0.05},\"mapbox\":{\"style\":\"light\"}}},\"xaxis\":{\"anchor\":\"y\",\"domain\":[0.0,1.0],\"title\":{\"text\":\"consumer reason\"}},\"yaxis\":{\"anchor\":\"x\",\"domain\":[0.0,1.0],\"title\":{\"text\":\"practitioner reason\"}},\"coloraxis\":{\"colorbar\":{\"title\":{\"text\":\"count\"}},\"colorscale\":[[0.0,\"#0d0887\"],[0.1111111111111111,\"#46039f\"],[0.2222222222222222,\"#7201a8\"],[0.3333333333333333,\"#9c179e\"],[0.4444444444444444,\"#bd3786\"],[0.5555555555555556,\"#d8576b\"],[0.6666666666666666,\"#ed7953\"],[0.7777777777777778,\"#fb9f3a\"],[0.8888888888888888,\"#fdca26\"],[1.0,\"#f0f921\"]]},\"legend\":{\"tracegroupgap\":0},\"margin\":{\"t\":60}},                        {\"responsive\": true}                    ).then(function(){\n",
       "                            \n",
       "var gd = document.getElementById('43161660-1e04-43fd-a7fd-c6e4ee3384b8');\n",
       "var x = new MutationObserver(function (mutations, observer) {{\n",
       "        var display = window.getComputedStyle(gd).display;\n",
       "        if (!display || display === 'none') {{\n",
       "            console.log([gd, 'removed!']);\n",
       "            Plotly.purge(gd);\n",
       "            observer.disconnect();\n",
       "        }}\n",
       "}});\n",
       "\n",
       "// Listen for the removal of the full notebook cells\n",
       "var notebookContainer = gd.closest('#notebook-container');\n",
       "if (notebookContainer) {{\n",
       "    x.observe(notebookContainer, {childList: true});\n",
       "}}\n",
       "\n",
       "// Listen for the clearing of the current output cell\n",
       "var outputEl = gd.closest('.output');\n",
       "if (outputEl) {{\n",
       "    x.observe(outputEl, {childList: true});\n",
       "}}\n",
       "\n",
       "                        })                };                });            </script>        </div>"
      ]
     },
     "metadata": {},
     "output_type": "display_data"
    }
   ],
   "source": [
    "import plotly.express as px\n",
    "\n",
    "fig = px.density_heatmap(all_pc_df,\n",
    "                         x='consumer reason',\n",
    "                         y='practitioner reason')\n",
    "\n",
    "fig.show()"
   ]
  },
  {
   "cell_type": "code",
   "execution_count": null,
   "metadata": {},
   "outputs": [],
   "source": [
    "# Asked in 3 LAs\n",
    "df.columns = df.columns.str.lower()\n",
    "no_la_1 = df[(df['sutton text'].isna()) & (df['essex text'].notna()) & (df['croydon text'].notna()) & (df['camden text'].notna())]\n",
    "no_la_2 = df[(df['essex text'].isna()) & (df['sutton text'].notna()) & (df['croydon text'].notna()) & (df['camden text'].notna())]\n",
    "no_la_3 = df[(df['croydon text'].isna()) & (df['essex text'].notna()) & (df['sutton text'].notna()) & (df['camden text'].notna())]\n",
    "no_la_4 = df[(df['camden text'].isna()) & (df['essex text'].notna()) & (df['croydon text'].notna()) & (df['sutton text'].notna())]\n",
    "\n",
    "only_3_df = pd.concat([no_la_1, no_la_2, no_la_3, no_la_4])\n",
    "only_3_df = only_3_df[['item number', \n",
    "                       'data item', \n",
    "                       'croydon main reason for recording data item', \n",
    "                       'essex main reason for recording local data item', \n",
    "                       'sutton main reason for recording local data item', \n",
    "                       'camden main reason for recording local data item']]"
   ]
  },
  {
   "cell_type": "code",
   "execution_count": null,
   "metadata": {},
   "outputs": [],
   "source": [
    "# Only asked in 2 LAs\n",
    "no_la_12 = df[(df['sutton text'].isna()) & (df['essex text'].isna()) & (df['croydon text'].notna()) & (df['camden text'].notna())]\n",
    "no_la_23 = df[(df['essex text'].isna()) & (df['sutton text'].notna()) & (df['croydon text'].isna()) & (df['camden text'].notna())]\n",
    "no_la_34 = df[(df['croydon text'].isna()) & (df['essex text'].notna()) & (df['sutton text'].notna()) & (df['camden text'].isna())]\n",
    "no_la_41 = df[(df['camden text'].isna()) & (df['essex text'].notna()) & (df['croydon text'].notna()) & (df['sutton text'].isna())]\n",
    "no_la_13 = df[(df['camden text'].notna()) & (df['essex text'].notna()) & (df['croydon text'].isna()) & (df['sutton text'].isna())]\n",
    "no_la_24 = df[(df['camden text'].isna()) & (df['essex text'].isna()) & (df['croydon text'].notna()) & (df['sutton text'].notna())]\n",
    "\n",
    "only_2_df = pd.concat([no_la_12, no_la_23, no_la_34, no_la_41, no_la_12, no_la_24])\n",
    "only_2_df = only_2_df[['item number', \n",
    "                       'data item', \n",
    "                       'croydon main reason for recording data item', \n",
    "                       'essex main reason for recording local data item', \n",
    "                       'sutton main reason for recording local data item', \n",
    "                       'camden main reason for recording local data item']]"
   ]
  },
  {
   "cell_type": "code",
   "execution_count": null,
   "metadata": {},
   "outputs": [],
   "source": [
    "# only 1 la\n",
    "\n",
    "yes_la_1 = df[(df['sutton text'].notna()) & (df['essex text'].isna()) & (df['croydon text'].isna()) & (df['camden text'].isna())]\n",
    "yes_la_2 = df[(df['essex text'].notna()) & (df['sutton text'].isna()) & (df['croydon text'].isna()) & (df['camden text'].isna())]\n",
    "yes_la_3 = df[(df['croydon text'].notna()) & (df['essex text'].isna()) & (df['sutton text'].isna()) & (df['camden text'].isna())]\n",
    "yes_la_4 = df[(df['camden text'].notna()) & (df['essex text'].isna()) & (df['croydon text'].isna()) & (df['sutton text'].isna())]\n",
    "\n",
    "only_1_df = pd.concat([yes_la_1, yes_la_2, yes_la_3, yes_la_4])\n",
    "only_1_df = only_1_df[['item number', \n",
    "                       'data item',\n",
    "                       'croydon text', \n",
    "                       'croydon main reason for recording data item', \n",
    "                       'essex text',\n",
    "                       'essex main reason for recording local data item', \n",
    "                       'sutton text',\n",
    "                       'sutton main reason for recording local data item', \n",
    "                       'camden text',\n",
    "                       'camden main reason for recording local data item']]"
   ]
  },
  {
   "cell_type": "code",
   "execution_count": null,
   "metadata": {},
   "outputs": [],
   "source": [
    "only_3_df.to_csv('only_3_df.csv')\n",
    "only_2_df.to_csv('only_2_df.csv')\n",
    "only_1_df.to_csv('only_1_df.csv')"
   ]
  },
  {
   "cell_type": "code",
   "execution_count": null,
   "metadata": {},
   "outputs": [
    {
     "name": "stdout",
     "output_type": "stream",
     "text": [
      "croydon main reason for recording data item\n",
      "1. For social work practitioners and/or the child/YP                         78\n",
      "2. For management oversight of case decisions and accountability purposes     4\n",
      "Name: count, dtype: int64\n",
      "essex main reason for recording local data item\n",
      "1. For social work practitioners and/or the child/YP                         87\n",
      "2. For management oversight of case decisions and accountability purposes     3\n",
      "3. For LA reporting purposes and generating performance indicators            2\n",
      "4. For statutory data requirements outside of the Annex A or 903 returns      1\n",
      "Name: count, dtype: int64\n",
      "sutton main reason for recording local data item\n",
      "1. For social work practitioners and/or the child/YP                         68\n",
      "2. For management oversight of case decisions and accountability purposes    11\n",
      "3. For LA reporting purposes and generating performance indicators            3\n",
      "Name: count, dtype: int64\n",
      "camden main reason for recording local data item\n",
      "1. For social work practitioners and/or the child/YP                         69\n",
      "2. For management oversight of case decisions and accountability purposes     8\n",
      "3. For LA reporting purposes and generating performance indicators            2\n",
      "4. For statutory data requirements outside of the Annex A or 903 returns      1\n",
      "Name: count, dtype: int64\n"
     ]
    }
   ],
   "source": [
    "only_3_croydon_counts = only_3_df['croydon main reason for recording data item'].value_counts()\n",
    "only_3_essex_counts = only_3_df['essex main reason for recording local data item'].value_counts()\n",
    "only_3_sutton_counts = only_3_df['sutton main reason for recording local data item'].value_counts()\n",
    "only_3_camden_counts = only_3_df['camden main reason for recording local data item'].value_counts()\n",
    "\n",
    "print(only_3_croydon_counts)\n",
    "print(only_3_essex_counts)\n",
    "print(only_3_sutton_counts)\n",
    "print(only_3_camden_counts)"
   ]
  },
  {
   "cell_type": "code",
   "execution_count": null,
   "metadata": {},
   "outputs": [
    {
     "name": "stdout",
     "output_type": "stream",
     "text": [
      "croydon main reason for recording data item\n",
      "1. For social work practitioners and/or the child/YP                         209\n",
      "2. For management oversight of case decisions and accountability purposes     37\n",
      "Name: count, dtype: int64\n",
      "essex main reason for recording local data item\n",
      "1. For social work practitioners and/or the child/YP                         83\n",
      "2. For management oversight of case decisions and accountability purposes    10\n",
      "3. For LA reporting purposes and generating performance indicators            1\n",
      "Name: count, dtype: int64\n",
      "sutton main reason for recording local data item\n",
      "1. For social work practitioners and/or the child/YP                         164\n",
      "2. For management oversight of case decisions and accountability purposes     13\n",
      "3. For LA reporting purposes and generating performance indicators            10\n",
      "Name: count, dtype: int64\n",
      "camden main reason for recording local data item\n",
      "1. For social work practitioners and/or the child/YP                         100\n",
      "2. For management oversight of case decisions and accountability purposes     20\n",
      "3. For LA reporting purposes and generating performance indicators             7\n",
      "4. For statutory data requirements outside of the Annex A or 903 returns       1\n",
      "Name: count, dtype: int64\n"
     ]
    }
   ],
   "source": [
    "only_2_croydon_counts = only_2_df['croydon main reason for recording data item'].value_counts()\n",
    "only_2_essex_counts = only_2_df['essex main reason for recording local data item'].value_counts()\n",
    "only_2_sutton_counts = only_2_df['sutton main reason for recording local data item'].value_counts()\n",
    "only_2_camden_counts = only_2_df['camden main reason for recording local data item'].value_counts()\n",
    "\n",
    "print(only_2_croydon_counts)\n",
    "print(only_2_essex_counts)\n",
    "print(only_2_sutton_counts)\n",
    "print(only_2_camden_counts)"
   ]
  },
  {
   "cell_type": "code",
   "execution_count": null,
   "metadata": {},
   "outputs": [
    {
     "name": "stdout",
     "output_type": "stream",
     "text": [
      "croydon main reason for recording data item\n",
      "1. For social work practitioners and/or the child/YP                         390\n",
      "2. For management oversight of case decisions and accountability purposes     67\n",
      "Name: count, dtype: int64\n",
      "essex main reason for recording local data item\n",
      "1. For social work practitioners and/or the child/YP                         157\n",
      "2. For management oversight of case decisions and accountability purposes      9\n",
      "3. For LA reporting purposes and generating performance indicators             2\n",
      "4. For statutory data requirements outside of the Annex A or 903 returns       1\n",
      "Name: count, dtype: int64\n",
      "sutton main reason for recording local data item\n",
      "1. For social work practitioners and/or the child/YP                         167\n",
      "2. For management oversight of case decisions and accountability purposes     42\n",
      "3. For LA reporting purposes and generating performance indicators             8\n",
      "Name: count, dtype: int64\n",
      "camden main reason for recording local data item\n",
      "1. For social work practitioners and/or the child/YP                         120\n",
      "3. For LA reporting purposes and generating performance indicators            44\n",
      "2. For management oversight of case decisions and accountability purposes     35\n",
      "4. For statutory data requirements outside of the Annex A or 903 returns       1\n",
      "Name: count, dtype: int64\n"
     ]
    }
   ],
   "source": [
    "only_1_croydon_counts = only_1_df['croydon main reason for recording data item'].value_counts()\n",
    "only_1_essex_counts = only_1_df['essex main reason for recording local data item'].value_counts()\n",
    "only_1_sutton_counts = only_1_df['sutton main reason for recording local data item'].value_counts()\n",
    "only_1_camden_counts = only_1_df['camden main reason for recording local data item'].value_counts()\n",
    "\n",
    "print(only_1_croydon_counts)\n",
    "print(only_1_essex_counts)\n",
    "print(only_1_sutton_counts)\n",
    "print(only_1_camden_counts)"
   ]
  }
 ],
 "metadata": {
  "kernelspec": {
   "display_name": "Python 3",
   "language": "python",
   "name": "python3"
  },
  "language_info": {
   "codemirror_mode": {
    "name": "ipython",
    "version": 3
   },
   "file_extension": ".py",
   "mimetype": "text/x-python",
   "name": "python",
   "nbconvert_exporter": "python",
   "pygments_lexer": "ipython3",
   "version": "3.10.8"
  }
 },
 "nbformat": 4,
 "nbformat_minor": 2
}
