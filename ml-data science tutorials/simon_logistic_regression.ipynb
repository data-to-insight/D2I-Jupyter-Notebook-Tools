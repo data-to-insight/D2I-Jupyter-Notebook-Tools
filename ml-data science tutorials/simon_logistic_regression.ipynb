{
 "cells": [
  {
   "cell_type": "code",
   "execution_count": 1,
   "metadata": {},
   "outputs": [
    {
     "data": {
      "text/html": [
       "<div>\n",
       "<style scoped>\n",
       "    .dataframe tbody tr th:only-of-type {\n",
       "        vertical-align: middle;\n",
       "    }\n",
       "\n",
       "    .dataframe tbody tr th {\n",
       "        vertical-align: top;\n",
       "    }\n",
       "\n",
       "    .dataframe thead th {\n",
       "        text-align: right;\n",
       "    }\n",
       "</style>\n",
       "<table border=\"1\" class=\"dataframe\">\n",
       "  <thead>\n",
       "    <tr style=\"text-align: right;\">\n",
       "      <th></th>\n",
       "      <th>Pregnancies</th>\n",
       "      <th>Glucose</th>\n",
       "      <th>BloodPressure</th>\n",
       "      <th>SkinThickness</th>\n",
       "      <th>Insulin</th>\n",
       "      <th>BMI</th>\n",
       "      <th>DiabetesPedigreeFunction</th>\n",
       "      <th>Age</th>\n",
       "      <th>Outcome</th>\n",
       "    </tr>\n",
       "  </thead>\n",
       "  <tbody>\n",
       "    <tr>\n",
       "      <th>0</th>\n",
       "      <td>6</td>\n",
       "      <td>148</td>\n",
       "      <td>72</td>\n",
       "      <td>35</td>\n",
       "      <td>0</td>\n",
       "      <td>33.6</td>\n",
       "      <td>0.627</td>\n",
       "      <td>50</td>\n",
       "      <td>1</td>\n",
       "    </tr>\n",
       "    <tr>\n",
       "      <th>1</th>\n",
       "      <td>1</td>\n",
       "      <td>85</td>\n",
       "      <td>66</td>\n",
       "      <td>29</td>\n",
       "      <td>0</td>\n",
       "      <td>26.6</td>\n",
       "      <td>0.351</td>\n",
       "      <td>31</td>\n",
       "      <td>0</td>\n",
       "    </tr>\n",
       "    <tr>\n",
       "      <th>2</th>\n",
       "      <td>8</td>\n",
       "      <td>183</td>\n",
       "      <td>64</td>\n",
       "      <td>0</td>\n",
       "      <td>0</td>\n",
       "      <td>23.3</td>\n",
       "      <td>0.672</td>\n",
       "      <td>32</td>\n",
       "      <td>1</td>\n",
       "    </tr>\n",
       "    <tr>\n",
       "      <th>3</th>\n",
       "      <td>1</td>\n",
       "      <td>89</td>\n",
       "      <td>66</td>\n",
       "      <td>23</td>\n",
       "      <td>94</td>\n",
       "      <td>28.1</td>\n",
       "      <td>0.167</td>\n",
       "      <td>21</td>\n",
       "      <td>0</td>\n",
       "    </tr>\n",
       "    <tr>\n",
       "      <th>4</th>\n",
       "      <td>0</td>\n",
       "      <td>137</td>\n",
       "      <td>40</td>\n",
       "      <td>35</td>\n",
       "      <td>168</td>\n",
       "      <td>43.1</td>\n",
       "      <td>2.288</td>\n",
       "      <td>33</td>\n",
       "      <td>1</td>\n",
       "    </tr>\n",
       "    <tr>\n",
       "      <th>...</th>\n",
       "      <td>...</td>\n",
       "      <td>...</td>\n",
       "      <td>...</td>\n",
       "      <td>...</td>\n",
       "      <td>...</td>\n",
       "      <td>...</td>\n",
       "      <td>...</td>\n",
       "      <td>...</td>\n",
       "      <td>...</td>\n",
       "    </tr>\n",
       "    <tr>\n",
       "      <th>763</th>\n",
       "      <td>10</td>\n",
       "      <td>101</td>\n",
       "      <td>76</td>\n",
       "      <td>48</td>\n",
       "      <td>180</td>\n",
       "      <td>32.9</td>\n",
       "      <td>0.171</td>\n",
       "      <td>63</td>\n",
       "      <td>0</td>\n",
       "    </tr>\n",
       "    <tr>\n",
       "      <th>764</th>\n",
       "      <td>2</td>\n",
       "      <td>122</td>\n",
       "      <td>70</td>\n",
       "      <td>27</td>\n",
       "      <td>0</td>\n",
       "      <td>36.8</td>\n",
       "      <td>0.340</td>\n",
       "      <td>27</td>\n",
       "      <td>0</td>\n",
       "    </tr>\n",
       "    <tr>\n",
       "      <th>765</th>\n",
       "      <td>5</td>\n",
       "      <td>121</td>\n",
       "      <td>72</td>\n",
       "      <td>23</td>\n",
       "      <td>112</td>\n",
       "      <td>26.2</td>\n",
       "      <td>0.245</td>\n",
       "      <td>30</td>\n",
       "      <td>0</td>\n",
       "    </tr>\n",
       "    <tr>\n",
       "      <th>766</th>\n",
       "      <td>1</td>\n",
       "      <td>126</td>\n",
       "      <td>60</td>\n",
       "      <td>0</td>\n",
       "      <td>0</td>\n",
       "      <td>30.1</td>\n",
       "      <td>0.349</td>\n",
       "      <td>47</td>\n",
       "      <td>1</td>\n",
       "    </tr>\n",
       "    <tr>\n",
       "      <th>767</th>\n",
       "      <td>1</td>\n",
       "      <td>93</td>\n",
       "      <td>70</td>\n",
       "      <td>31</td>\n",
       "      <td>0</td>\n",
       "      <td>30.4</td>\n",
       "      <td>0.315</td>\n",
       "      <td>23</td>\n",
       "      <td>0</td>\n",
       "    </tr>\n",
       "  </tbody>\n",
       "</table>\n",
       "<p>768 rows × 9 columns</p>\n",
       "</div>"
      ],
      "text/plain": [
       "     Pregnancies  Glucose  BloodPressure  SkinThickness  Insulin   BMI  \\\n",
       "0              6      148             72             35        0  33.6   \n",
       "1              1       85             66             29        0  26.6   \n",
       "2              8      183             64              0        0  23.3   \n",
       "3              1       89             66             23       94  28.1   \n",
       "4              0      137             40             35      168  43.1   \n",
       "..           ...      ...            ...            ...      ...   ...   \n",
       "763           10      101             76             48      180  32.9   \n",
       "764            2      122             70             27        0  36.8   \n",
       "765            5      121             72             23      112  26.2   \n",
       "766            1      126             60              0        0  30.1   \n",
       "767            1       93             70             31        0  30.4   \n",
       "\n",
       "     DiabetesPedigreeFunction  Age  Outcome  \n",
       "0                       0.627   50        1  \n",
       "1                       0.351   31        0  \n",
       "2                       0.672   32        1  \n",
       "3                       0.167   21        0  \n",
       "4                       2.288   33        1  \n",
       "..                        ...  ...      ...  \n",
       "763                     0.171   63        0  \n",
       "764                     0.340   27        0  \n",
       "765                     0.245   30        0  \n",
       "766                     0.349   47        1  \n",
       "767                     0.315   23        0  \n",
       "\n",
       "[768 rows x 9 columns]"
      ]
     },
     "execution_count": 1,
     "metadata": {},
     "output_type": "execute_result"
    }
   ],
   "source": [
    "import pandas as pd\n",
    "import numpy as np\n",
    "from sklearn.model_selection import train_test_split\n",
    "from sklearn.linear_model import LogisticRegression\n",
    "from sklearn import metrics\n",
    "\n",
    "df = pd.read_csv('/workspaces/D2I-Jupyter-Notebook-Tools/ml-data science tutorials/data/diabetes.csv')\n",
    "\n",
    "df"
   ]
  },
  {
   "cell_type": "code",
   "execution_count": 2,
   "metadata": {},
   "outputs": [],
   "source": [
    "# Select features\n",
    "features = ['Pregnancies',\n",
    "            'Glucose', \n",
    "            'BloodPressure',\n",
    "            'SkinThickness',\n",
    "            'Insulin',\t\n",
    "            'BMI',\n",
    "            'DiabetesPedigreeFunction',\n",
    "            'Age']\n",
    "X = df[features]\n",
    "y = df['Outcome']\n",
    "\n",
    "# Make four different dataframes\n",
    "X_train, X_test, y_train, y_test = train_test_split(X, y, test_size=0.2, random_state=1)"
   ]
  },
  {
   "cell_type": "code",
   "execution_count": 3,
   "metadata": {},
   "outputs": [
    {
     "name": "stderr",
     "output_type": "stream",
     "text": [
      "/home/codespace/.local/lib/python3.10/site-packages/sklearn/linear_model/_logistic.py:460: ConvergenceWarning: lbfgs failed to converge (status=1):\n",
      "STOP: TOTAL NO. of ITERATIONS REACHED LIMIT.\n",
      "\n",
      "Increase the number of iterations (max_iter) or scale the data as shown in:\n",
      "    https://scikit-learn.org/stable/modules/preprocessing.html\n",
      "Please also refer to the documentation for alternative solver options:\n",
      "    https://scikit-learn.org/stable/modules/linear_model.html#logistic-regression\n",
      "  n_iter_i = _check_optimize_result(\n"
     ]
    },
    {
     "data": {
      "text/plain": [
       "array([[89, 10],\n",
       "       [24, 31]])"
      ]
     },
     "execution_count": 3,
     "metadata": {},
     "output_type": "execute_result"
    }
   ],
   "source": [
    "# Initialise model class\n",
    "lr = LogisticRegression(random_state=1)\n",
    "\n",
    "# Fit model to data (train)\n",
    "lr.fit(X_train, y_train)\n",
    "\n",
    "# Predict using model (test)\n",
    "y_pred = lr.predict(X_test)\n",
    "\n",
    "# Create confusion matrix\n",
    "cnf_matrix = metrics.confusion_matrix(y_test, y_pred)\n",
    "cnf_matrix"
   ]
  },
  {
   "cell_type": "code",
   "execution_count": 4,
   "metadata": {},
   "outputs": [
    {
     "data": {
      "text/plain": [
       "Text(0.5, 427.9555555555555, 'Predicted label')"
      ]
     },
     "execution_count": 4,
     "metadata": {},
     "output_type": "execute_result"
    },
    {
     "data": {
      "image/png": "[encoded data removed]",
      "text/plain": [
       "<Figure size 640x480 with 2 Axes>"
      ]
     },
     "metadata": {},
     "output_type": "display_data"
    }
   ],
   "source": [
    "# Make plot for confusion matrix\n",
    "import numpy as np\n",
    "import matplotlib.pyplot as plt\n",
    "import seaborn as sns\n",
    "\n",
    "class_names=[0,1] # name  of classes\n",
    "fig, ax = plt.subplots()\n",
    "tick_marks = np.arange(len(class_names))\n",
    "plt.xticks(tick_marks, class_names)\n",
    "plt.yticks(tick_marks, class_names)\n",
    "# create heatmap\n",
    "sns.heatmap(pd.DataFrame(cnf_matrix), annot=True, cmap=\"YlGnBu\" ,fmt='g')\n",
    "ax.xaxis.set_label_position(\"top\")\n",
    "plt.tight_layout()\n",
    "plt.title('Confusion matrix', y=1.1)\n",
    "plt.ylabel('Actual label')\n",
    "plt.xlabel('Predicted label')"
   ]
  },
  {
   "cell_type": "code",
   "execution_count": 5,
   "metadata": {},
   "outputs": [
    {
     "name": "stdout",
     "output_type": "stream",
     "text": [
      "                  precision    recall  f1-score   support\n",
      "\n",
      "without diabetes       0.79      0.90      0.84        99\n",
      "   with diabetes       0.76      0.56      0.65        55\n",
      "\n",
      "        accuracy                           0.78       154\n",
      "       macro avg       0.77      0.73      0.74       154\n",
      "    weighted avg       0.78      0.78      0.77       154\n",
      "\n"
     ]
    }
   ],
   "source": [
    "# Find accuracy of our model\n",
    "from sklearn.metrics import classification_report\n",
    "\n",
    "target_names = ['without diabetes', 'with diabetes']\n",
    "\n",
    "output_report = classification_report(y_test, y_pred, target_names = target_names, output_dict=True)\n",
    "print(output_report['accuracy'])"
   ]
  },
  {
   "cell_type": "markdown",
   "metadata": {},
   "source": [
    "The accuracy of our model for predicting if someone does NOT have diabetes is 84%, but only 65% for predicting if someone DOES have diabetes, which isn't so good!\n",
    "We now need to whittle down the features, and combinations of features, to see which is the best combination at predicting diabetes."
   ]
  },
  {
   "cell_type": "code",
   "execution_count": 7,
   "metadata": {},
   "outputs": [
    {
     "name": "stdout",
     "output_type": "stream",
     "text": [
      "[('Pregnancies',), ('Glucose',), ('BloodPressure',), ('SkinThickness',), ('Insulin',), ('BMI',), ('DiabetesPedigreeFunction',), ('Age',), ('Pregnancies', 'Glucose'), ('Pregnancies', 'BloodPressure'), ('Pregnancies', 'SkinThickness'), ('Pregnancies', 'Insulin'), ('Pregnancies', 'BMI'), ('Pregnancies', 'DiabetesPedigreeFunction'), ('Pregnancies', 'Age'), ('Glucose', 'BloodPressure'), ('Glucose', 'SkinThickness'), ('Glucose', 'Insulin'), ('Glucose', 'BMI'), ('Glucose', 'DiabetesPedigreeFunction'), ('Glucose', 'Age'), ('BloodPressure', 'SkinThickness'), ('BloodPressure', 'Insulin'), ('BloodPressure', 'BMI'), ('BloodPressure', 'DiabetesPedigreeFunction'), ('BloodPressure', 'Age'), ('SkinThickness', 'Insulin'), ('SkinThickness', 'BMI'), ('SkinThickness', 'DiabetesPedigreeFunction'), ('SkinThickness', 'Age'), ('Insulin', 'BMI'), ('Insulin', 'DiabetesPedigreeFunction'), ('Insulin', 'Age'), ('BMI', 'DiabetesPedigreeFunction'), ('BMI', 'Age'), ('DiabetesPedigreeFunction', 'Age'), ('Pregnancies', 'Glucose', 'BloodPressure'), ('Pregnancies', 'Glucose', 'SkinThickness'), ('Pregnancies', 'Glucose', 'Insulin'), ('Pregnancies', 'Glucose', 'BMI'), ('Pregnancies', 'Glucose', 'DiabetesPedigreeFunction'), ('Pregnancies', 'Glucose', 'Age'), ('Pregnancies', 'BloodPressure', 'SkinThickness'), ('Pregnancies', 'BloodPressure', 'Insulin'), ('Pregnancies', 'BloodPressure', 'BMI'), ('Pregnancies', 'BloodPressure', 'DiabetesPedigreeFunction'), ('Pregnancies', 'BloodPressure', 'Age'), ('Pregnancies', 'SkinThickness', 'Insulin'), ('Pregnancies', 'SkinThickness', 'BMI'), ('Pregnancies', 'SkinThickness', 'DiabetesPedigreeFunction'), ('Pregnancies', 'SkinThickness', 'Age'), ('Pregnancies', 'Insulin', 'BMI'), ('Pregnancies', 'Insulin', 'DiabetesPedigreeFunction'), ('Pregnancies', 'Insulin', 'Age'), ('Pregnancies', 'BMI', 'DiabetesPedigreeFunction'), ('Pregnancies', 'BMI', 'Age'), ('Pregnancies', 'DiabetesPedigreeFunction', 'Age'), ('Glucose', 'BloodPressure', 'SkinThickness'), ('Glucose', 'BloodPressure', 'Insulin'), ('Glucose', 'BloodPressure', 'BMI'), ('Glucose', 'BloodPressure', 'DiabetesPedigreeFunction'), ('Glucose', 'BloodPressure', 'Age'), ('Glucose', 'SkinThickness', 'Insulin'), ('Glucose', 'SkinThickness', 'BMI'), ('Glucose', 'SkinThickness', 'DiabetesPedigreeFunction'), ('Glucose', 'SkinThickness', 'Age'), ('Glucose', 'Insulin', 'BMI'), ('Glucose', 'Insulin', 'DiabetesPedigreeFunction'), ('Glucose', 'Insulin', 'Age'), ('Glucose', 'BMI', 'DiabetesPedigreeFunction'), ('Glucose', 'BMI', 'Age'), ('Glucose', 'DiabetesPedigreeFunction', 'Age'), ('BloodPressure', 'SkinThickness', 'Insulin'), ('BloodPressure', 'SkinThickness', 'BMI'), ('BloodPressure', 'SkinThickness', 'DiabetesPedigreeFunction'), ('BloodPressure', 'SkinThickness', 'Age'), ('BloodPressure', 'Insulin', 'BMI'), ('BloodPressure', 'Insulin', 'DiabetesPedigreeFunction'), ('BloodPressure', 'Insulin', 'Age'), ('BloodPressure', 'BMI', 'DiabetesPedigreeFunction'), ('BloodPressure', 'BMI', 'Age'), ('BloodPressure', 'DiabetesPedigreeFunction', 'Age'), ('SkinThickness', 'Insulin', 'BMI'), ('SkinThickness', 'Insulin', 'DiabetesPedigreeFunction'), ('SkinThickness', 'Insulin', 'Age'), ('SkinThickness', 'BMI', 'DiabetesPedigreeFunction'), ('SkinThickness', 'BMI', 'Age'), ('SkinThickness', 'DiabetesPedigreeFunction', 'Age'), ('Insulin', 'BMI', 'DiabetesPedigreeFunction'), ('Insulin', 'BMI', 'Age'), ('Insulin', 'DiabetesPedigreeFunction', 'Age'), ('BMI', 'DiabetesPedigreeFunction', 'Age'), ('Pregnancies', 'Glucose', 'BloodPressure', 'SkinThickness'), ('Pregnancies', 'Glucose', 'BloodPressure', 'Insulin'), ('Pregnancies', 'Glucose', 'BloodPressure', 'BMI'), ('Pregnancies', 'Glucose', 'BloodPressure', 'DiabetesPedigreeFunction'), ('Pregnancies', 'Glucose', 'BloodPressure', 'Age'), ('Pregnancies', 'Glucose', 'SkinThickness', 'Insulin'), ('Pregnancies', 'Glucose', 'SkinThickness', 'BMI'), ('Pregnancies', 'Glucose', 'SkinThickness', 'DiabetesPedigreeFunction'), ('Pregnancies', 'Glucose', 'SkinThickness', 'Age'), ('Pregnancies', 'Glucose', 'Insulin', 'BMI'), ('Pregnancies', 'Glucose', 'Insulin', 'DiabetesPedigreeFunction'), ('Pregnancies', 'Glucose', 'Insulin', 'Age'), ('Pregnancies', 'Glucose', 'BMI', 'DiabetesPedigreeFunction'), ('Pregnancies', 'Glucose', 'BMI', 'Age'), ('Pregnancies', 'Glucose', 'DiabetesPedigreeFunction', 'Age'), ('Pregnancies', 'BloodPressure', 'SkinThickness', 'Insulin'), ('Pregnancies', 'BloodPressure', 'SkinThickness', 'BMI'), ('Pregnancies', 'BloodPressure', 'SkinThickness', 'DiabetesPedigreeFunction'), ('Pregnancies', 'BloodPressure', 'SkinThickness', 'Age'), ('Pregnancies', 'BloodPressure', 'Insulin', 'BMI'), ('Pregnancies', 'BloodPressure', 'Insulin', 'DiabetesPedigreeFunction'), ('Pregnancies', 'BloodPressure', 'Insulin', 'Age'), ('Pregnancies', 'BloodPressure', 'BMI', 'DiabetesPedigreeFunction'), ('Pregnancies', 'BloodPressure', 'BMI', 'Age'), ('Pregnancies', 'BloodPressure', 'DiabetesPedigreeFunction', 'Age'), ('Pregnancies', 'SkinThickness', 'Insulin', 'BMI'), ('Pregnancies', 'SkinThickness', 'Insulin', 'DiabetesPedigreeFunction'), ('Pregnancies', 'SkinThickness', 'Insulin', 'Age'), ('Pregnancies', 'SkinThickness', 'BMI', 'DiabetesPedigreeFunction'), ('Pregnancies', 'SkinThickness', 'BMI', 'Age'), ('Pregnancies', 'SkinThickness', 'DiabetesPedigreeFunction', 'Age'), ('Pregnancies', 'Insulin', 'BMI', 'DiabetesPedigreeFunction'), ('Pregnancies', 'Insulin', 'BMI', 'Age'), ('Pregnancies', 'Insulin', 'DiabetesPedigreeFunction', 'Age'), ('Pregnancies', 'BMI', 'DiabetesPedigreeFunction', 'Age'), ('Glucose', 'BloodPressure', 'SkinThickness', 'Insulin'), ('Glucose', 'BloodPressure', 'SkinThickness', 'BMI'), ('Glucose', 'BloodPressure', 'SkinThickness', 'DiabetesPedigreeFunction'), ('Glucose', 'BloodPressure', 'SkinThickness', 'Age'), ('Glucose', 'BloodPressure', 'Insulin', 'BMI'), ('Glucose', 'BloodPressure', 'Insulin', 'DiabetesPedigreeFunction'), ('Glucose', 'BloodPressure', 'Insulin', 'Age'), ('Glucose', 'BloodPressure', 'BMI', 'DiabetesPedigreeFunction'), ('Glucose', 'BloodPressure', 'BMI', 'Age'), ('Glucose', 'BloodPressure', 'DiabetesPedigreeFunction', 'Age'), ('Glucose', 'SkinThickness', 'Insulin', 'BMI'), ('Glucose', 'SkinThickness', 'Insulin', 'DiabetesPedigreeFunction'), ('Glucose', 'SkinThickness', 'Insulin', 'Age'), ('Glucose', 'SkinThickness', 'BMI', 'DiabetesPedigreeFunction'), ('Glucose', 'SkinThickness', 'BMI', 'Age'), ('Glucose', 'SkinThickness', 'DiabetesPedigreeFunction', 'Age'), ('Glucose', 'Insulin', 'BMI', 'DiabetesPedigreeFunction'), ('Glucose', 'Insulin', 'BMI', 'Age'), ('Glucose', 'Insulin', 'DiabetesPedigreeFunction', 'Age'), ('Glucose', 'BMI', 'DiabetesPedigreeFunction', 'Age'), ('BloodPressure', 'SkinThickness', 'Insulin', 'BMI'), ('BloodPressure', 'SkinThickness', 'Insulin', 'DiabetesPedigreeFunction'), ('BloodPressure', 'SkinThickness', 'Insulin', 'Age'), ('BloodPressure', 'SkinThickness', 'BMI', 'DiabetesPedigreeFunction'), ('BloodPressure', 'SkinThickness', 'BMI', 'Age'), ('BloodPressure', 'SkinThickness', 'DiabetesPedigreeFunction', 'Age'), ('BloodPressure', 'Insulin', 'BMI', 'DiabetesPedigreeFunction'), ('BloodPressure', 'Insulin', 'BMI', 'Age'), ('BloodPressure', 'Insulin', 'DiabetesPedigreeFunction', 'Age'), ('BloodPressure', 'BMI', 'DiabetesPedigreeFunction', 'Age'), ('SkinThickness', 'Insulin', 'BMI', 'DiabetesPedigreeFunction'), ('SkinThickness', 'Insulin', 'BMI', 'Age'), ('SkinThickness', 'Insulin', 'DiabetesPedigreeFunction', 'Age'), ('SkinThickness', 'BMI', 'DiabetesPedigreeFunction', 'Age'), ('Insulin', 'BMI', 'DiabetesPedigreeFunction', 'Age'), ('Pregnancies', 'Glucose', 'BloodPressure', 'SkinThickness', 'Insulin'), ('Pregnancies', 'Glucose', 'BloodPressure', 'SkinThickness', 'BMI'), ('Pregnancies', 'Glucose', 'BloodPressure', 'SkinThickness', 'DiabetesPedigreeFunction'), ('Pregnancies', 'Glucose', 'BloodPressure', 'SkinThickness', 'Age'), ('Pregnancies', 'Glucose', 'BloodPressure', 'Insulin', 'BMI'), ('Pregnancies', 'Glucose', 'BloodPressure', 'Insulin', 'DiabetesPedigreeFunction'), ('Pregnancies', 'Glucose', 'BloodPressure', 'Insulin', 'Age'), ('Pregnancies', 'Glucose', 'BloodPressure', 'BMI', 'DiabetesPedigreeFunction'), ('Pregnancies', 'Glucose', 'BloodPressure', 'BMI', 'Age'), ('Pregnancies', 'Glucose', 'BloodPressure', 'DiabetesPedigreeFunction', 'Age'), ('Pregnancies', 'Glucose', 'SkinThickness', 'Insulin', 'BMI'), ('Pregnancies', 'Glucose', 'SkinThickness', 'Insulin', 'DiabetesPedigreeFunction'), ('Pregnancies', 'Glucose', 'SkinThickness', 'Insulin', 'Age'), ('Pregnancies', 'Glucose', 'SkinThickness', 'BMI', 'DiabetesPedigreeFunction'), ('Pregnancies', 'Glucose', 'SkinThickness', 'BMI', 'Age'), ('Pregnancies', 'Glucose', 'SkinThickness', 'DiabetesPedigreeFunction', 'Age'), ('Pregnancies', 'Glucose', 'Insulin', 'BMI', 'DiabetesPedigreeFunction'), ('Pregnancies', 'Glucose', 'Insulin', 'BMI', 'Age'), ('Pregnancies', 'Glucose', 'Insulin', 'DiabetesPedigreeFunction', 'Age'), ('Pregnancies', 'Glucose', 'BMI', 'DiabetesPedigreeFunction', 'Age'), ('Pregnancies', 'BloodPressure', 'SkinThickness', 'Insulin', 'BMI'), ('Pregnancies', 'BloodPressure', 'SkinThickness', 'Insulin', 'DiabetesPedigreeFunction'), ('Pregnancies', 'BloodPressure', 'SkinThickness', 'Insulin', 'Age'), ('Pregnancies', 'BloodPressure', 'SkinThickness', 'BMI', 'DiabetesPedigreeFunction'), ('Pregnancies', 'BloodPressure', 'SkinThickness', 'BMI', 'Age'), ('Pregnancies', 'BloodPressure', 'SkinThickness', 'DiabetesPedigreeFunction', 'Age'), ('Pregnancies', 'BloodPressure', 'Insulin', 'BMI', 'DiabetesPedigreeFunction'), ('Pregnancies', 'BloodPressure', 'Insulin', 'BMI', 'Age'), ('Pregnancies', 'BloodPressure', 'Insulin', 'DiabetesPedigreeFunction', 'Age'), ('Pregnancies', 'BloodPressure', 'BMI', 'DiabetesPedigreeFunction', 'Age'), ('Pregnancies', 'SkinThickness', 'Insulin', 'BMI', 'DiabetesPedigreeFunction'), ('Pregnancies', 'SkinThickness', 'Insulin', 'BMI', 'Age'), ('Pregnancies', 'SkinThickness', 'Insulin', 'DiabetesPedigreeFunction', 'Age'), ('Pregnancies', 'SkinThickness', 'BMI', 'DiabetesPedigreeFunction', 'Age'), ('Pregnancies', 'Insulin', 'BMI', 'DiabetesPedigreeFunction', 'Age'), ('Glucose', 'BloodPressure', 'SkinThickness', 'Insulin', 'BMI'), ('Glucose', 'BloodPressure', 'SkinThickness', 'Insulin', 'DiabetesPedigreeFunction'), ('Glucose', 'BloodPressure', 'SkinThickness', 'Insulin', 'Age'), ('Glucose', 'BloodPressure', 'SkinThickness', 'BMI', 'DiabetesPedigreeFunction'), ('Glucose', 'BloodPressure', 'SkinThickness', 'BMI', 'Age'), ('Glucose', 'BloodPressure', 'SkinThickness', 'DiabetesPedigreeFunction', 'Age'), ('Glucose', 'BloodPressure', 'Insulin', 'BMI', 'DiabetesPedigreeFunction'), ('Glucose', 'BloodPressure', 'Insulin', 'BMI', 'Age'), ('Glucose', 'BloodPressure', 'Insulin', 'DiabetesPedigreeFunction', 'Age'), ('Glucose', 'BloodPressure', 'BMI', 'DiabetesPedigreeFunction', 'Age'), ('Glucose', 'SkinThickness', 'Insulin', 'BMI', 'DiabetesPedigreeFunction'), ('Glucose', 'SkinThickness', 'Insulin', 'BMI', 'Age'), ('Glucose', 'SkinThickness', 'Insulin', 'DiabetesPedigreeFunction', 'Age'), ('Glucose', 'SkinThickness', 'BMI', 'DiabetesPedigreeFunction', 'Age'), ('Glucose', 'Insulin', 'BMI', 'DiabetesPedigreeFunction', 'Age'), ('BloodPressure', 'SkinThickness', 'Insulin', 'BMI', 'DiabetesPedigreeFunction'), ('BloodPressure', 'SkinThickness', 'Insulin', 'BMI', 'Age'), ('BloodPressure', 'SkinThickness', 'Insulin', 'DiabetesPedigreeFunction', 'Age'), ('BloodPressure', 'SkinThickness', 'BMI', 'DiabetesPedigreeFunction', 'Age'), ('BloodPressure', 'Insulin', 'BMI', 'DiabetesPedigreeFunction', 'Age'), ('SkinThickness', 'Insulin', 'BMI', 'DiabetesPedigreeFunction', 'Age'), ('Pregnancies', 'Glucose', 'BloodPressure', 'SkinThickness', 'Insulin', 'BMI'), ('Pregnancies', 'Glucose', 'BloodPressure', 'SkinThickness', 'Insulin', 'DiabetesPedigreeFunction'), ('Pregnancies', 'Glucose', 'BloodPressure', 'SkinThickness', 'Insulin', 'Age'), ('Pregnancies', 'Glucose', 'BloodPressure', 'SkinThickness', 'BMI', 'DiabetesPedigreeFunction'), ('Pregnancies', 'Glucose', 'BloodPressure', 'SkinThickness', 'BMI', 'Age'), ('Pregnancies', 'Glucose', 'BloodPressure', 'SkinThickness', 'DiabetesPedigreeFunction', 'Age'), ('Pregnancies', 'Glucose', 'BloodPressure', 'Insulin', 'BMI', 'DiabetesPedigreeFunction'), ('Pregnancies', 'Glucose', 'BloodPressure', 'Insulin', 'BMI', 'Age'), ('Pregnancies', 'Glucose', 'BloodPressure', 'Insulin', 'DiabetesPedigreeFunction', 'Age'), ('Pregnancies', 'Glucose', 'BloodPressure', 'BMI', 'DiabetesPedigreeFunction', 'Age'), ('Pregnancies', 'Glucose', 'SkinThickness', 'Insulin', 'BMI', 'DiabetesPedigreeFunction'), ('Pregnancies', 'Glucose', 'SkinThickness', 'Insulin', 'BMI', 'Age'), ('Pregnancies', 'Glucose', 'SkinThickness', 'Insulin', 'DiabetesPedigreeFunction', 'Age'), ('Pregnancies', 'Glucose', 'SkinThickness', 'BMI', 'DiabetesPedigreeFunction', 'Age'), ('Pregnancies', 'Glucose', 'Insulin', 'BMI', 'DiabetesPedigreeFunction', 'Age'), ('Pregnancies', 'BloodPressure', 'SkinThickness', 'Insulin', 'BMI', 'DiabetesPedigreeFunction'), ('Pregnancies', 'BloodPressure', 'SkinThickness', 'Insulin', 'BMI', 'Age'), ('Pregnancies', 'BloodPressure', 'SkinThickness', 'Insulin', 'DiabetesPedigreeFunction', 'Age'), ('Pregnancies', 'BloodPressure', 'SkinThickness', 'BMI', 'DiabetesPedigreeFunction', 'Age'), ('Pregnancies', 'BloodPressure', 'Insulin', 'BMI', 'DiabetesPedigreeFunction', 'Age'), ('Pregnancies', 'SkinThickness', 'Insulin', 'BMI', 'DiabetesPedigreeFunction', 'Age'), ('Glucose', 'BloodPressure', 'SkinThickness', 'Insulin', 'BMI', 'DiabetesPedigreeFunction'), ('Glucose', 'BloodPressure', 'SkinThickness', 'Insulin', 'BMI', 'Age'), ('Glucose', 'BloodPressure', 'SkinThickness', 'Insulin', 'DiabetesPedigreeFunction', 'Age'), ('Glucose', 'BloodPressure', 'SkinThickness', 'BMI', 'DiabetesPedigreeFunction', 'Age'), ('Glucose', 'BloodPressure', 'Insulin', 'BMI', 'DiabetesPedigreeFunction', 'Age'), ('Glucose', 'SkinThickness', 'Insulin', 'BMI', 'DiabetesPedigreeFunction', 'Age'), ('BloodPressure', 'SkinThickness', 'Insulin', 'BMI', 'DiabetesPedigreeFunction', 'Age'), ('Pregnancies', 'Glucose', 'BloodPressure', 'SkinThickness', 'Insulin', 'BMI', 'DiabetesPedigreeFunction'), ('Pregnancies', 'Glucose', 'BloodPressure', 'SkinThickness', 'Insulin', 'BMI', 'Age'), ('Pregnancies', 'Glucose', 'BloodPressure', 'SkinThickness', 'Insulin', 'DiabetesPedigreeFunction', 'Age'), ('Pregnancies', 'Glucose', 'BloodPressure', 'SkinThickness', 'BMI', 'DiabetesPedigreeFunction', 'Age'), ('Pregnancies', 'Glucose', 'BloodPressure', 'Insulin', 'BMI', 'DiabetesPedigreeFunction', 'Age'), ('Pregnancies', 'Glucose', 'SkinThickness', 'Insulin', 'BMI', 'DiabetesPedigreeFunction', 'Age'), ('Pregnancies', 'BloodPressure', 'SkinThickness', 'Insulin', 'BMI', 'DiabetesPedigreeFunction', 'Age'), ('Glucose', 'BloodPressure', 'SkinThickness', 'Insulin', 'BMI', 'DiabetesPedigreeFunction', 'Age'), ('Pregnancies', 'Glucose', 'BloodPressure', 'SkinThickness', 'Insulin', 'BMI', 'DiabetesPedigreeFunction', 'Age')]\n"
     ]
    }
   ],
   "source": [
    "import itertools\n",
    "\n",
    "combinations = []\n",
    "\n",
    "# From the list of features, give me every combination of length x. We make a for loop to run this for every x from 1 to x\n",
    "# There are 8 features in our list, so we use 1 to 9 in our loop\n",
    "for i in range(1, 9):\n",
    "    combs = itertools.combinations(features, i)\n",
    "    combinations.extend(combs) # Add combs to the list 'combinations'\n",
    "print(combinations)"
   ]
  },
  {
   "cell_type": "code",
   "execution_count": 11,
   "metadata": {},
   "outputs": [
    {
     "name": "stderr",
     "output_type": "stream",
     "text": [
      "/home/codespace/.local/lib/python3.10/site-packages/sklearn/metrics/_classification.py:1469: UndefinedMetricWarning: Precision and F-score are ill-defined and being set to 0.0 in labels with no predicted samples. Use `zero_division` parameter to control this behavior.\n",
      "  _warn_prf(average, modifier, msg_start, len(result))\n",
      "/home/codespace/.local/lib/python3.10/site-packages/sklearn/metrics/_classification.py:1469: UndefinedMetricWarning: Precision and F-score are ill-defined and being set to 0.0 in labels with no predicted samples. Use `zero_division` parameter to control this behavior.\n",
      "  _warn_prf(average, modifier, msg_start, len(result))\n",
      "/home/codespace/.local/lib/python3.10/site-packages/sklearn/metrics/_classification.py:1469: UndefinedMetricWarning: Precision and F-score are ill-defined and being set to 0.0 in labels with no predicted samples. Use `zero_division` parameter to control this behavior.\n",
      "  _warn_prf(average, modifier, msg_start, len(result))\n",
      "/home/codespace/.local/lib/python3.10/site-packages/sklearn/metrics/_classification.py:1469: UndefinedMetricWarning: Precision and F-score are ill-defined and being set to 0.0 in labels with no predicted samples. Use `zero_division` parameter to control this behavior.\n",
      "  _warn_prf(average, modifier, msg_start, len(result))\n",
      "/home/codespace/.local/lib/python3.10/site-packages/sklearn/metrics/_classification.py:1469: UndefinedMetricWarning: Precision and F-score are ill-defined and being set to 0.0 in labels with no predicted samples. Use `zero_division` parameter to control this behavior.\n",
      "  _warn_prf(average, modifier, msg_start, len(result))\n",
      "/home/codespace/.local/lib/python3.10/site-packages/sklearn/metrics/_classification.py:1469: UndefinedMetricWarning: Precision and F-score are ill-defined and being set to 0.0 in labels with no predicted samples. Use `zero_division` parameter to control this behavior.\n",
      "  _warn_prf(average, modifier, msg_start, len(result))\n",
      "/home/codespace/.local/lib/python3.10/site-packages/sklearn/metrics/_classification.py:1469: UndefinedMetricWarning: Precision and F-score are ill-defined and being set to 0.0 in labels with no predicted samples. Use `zero_division` parameter to control this behavior.\n",
      "  _warn_prf(average, modifier, msg_start, len(result))\n",
      "/home/codespace/.local/lib/python3.10/site-packages/sklearn/metrics/_classification.py:1469: UndefinedMetricWarning: Precision and F-score are ill-defined and being set to 0.0 in labels with no predicted samples. Use `zero_division` parameter to control this behavior.\n",
      "  _warn_prf(average, modifier, msg_start, len(result))\n",
      "/home/codespace/.local/lib/python3.10/site-packages/sklearn/metrics/_classification.py:1469: UndefinedMetricWarning: Precision and F-score are ill-defined and being set to 0.0 in labels with no predicted samples. Use `zero_division` parameter to control this behavior.\n",
      "  _warn_prf(average, modifier, msg_start, len(result))\n",
      "/home/codespace/.local/lib/python3.10/site-packages/sklearn/linear_model/_logistic.py:460: ConvergenceWarning: lbfgs failed to converge (status=1):\n",
      "STOP: TOTAL NO. of ITERATIONS REACHED LIMIT.\n",
      "\n",
      "Increase the number of iterations (max_iter) or scale the data as shown in:\n",
      "    https://scikit-learn.org/stable/modules/preprocessing.html\n",
      "Please also refer to the documentation for alternative solver options:\n",
      "    https://scikit-learn.org/stable/modules/linear_model.html#logistic-regression\n",
      "  n_iter_i = _check_optimize_result(\n",
      "/home/codespace/.local/lib/python3.10/site-packages/sklearn/linear_model/_logistic.py:460: ConvergenceWarning: lbfgs failed to converge (status=1):\n",
      "STOP: TOTAL NO. of ITERATIONS REACHED LIMIT.\n",
      "\n",
      "Increase the number of iterations (max_iter) or scale the data as shown in:\n",
      "    https://scikit-learn.org/stable/modules/preprocessing.html\n",
      "Please also refer to the documentation for alternative solver options:\n",
      "    https://scikit-learn.org/stable/modules/linear_model.html#logistic-regression\n",
      "  n_iter_i = _check_optimize_result(\n",
      "/home/codespace/.local/lib/python3.10/site-packages/sklearn/linear_model/_logistic.py:460: ConvergenceWarning: lbfgs failed to converge (status=1):\n",
      "STOP: TOTAL NO. of ITERATIONS REACHED LIMIT.\n",
      "\n",
      "Increase the number of iterations (max_iter) or scale the data as shown in:\n",
      "    https://scikit-learn.org/stable/modules/preprocessing.html\n",
      "Please also refer to the documentation for alternative solver options:\n",
      "    https://scikit-learn.org/stable/modules/linear_model.html#logistic-regression\n",
      "  n_iter_i = _check_optimize_result(\n"
     ]
    }
   ],
   "source": [
    "accuracy = 0\n",
    "best_X = 0\n",
    "\n",
    "for feature_set in combinations:\n",
    "    X = df[list(feature_set)]\n",
    "    y = df['Outcome']\n",
    "    X_train, X_test, y_train, y_test = train_test_split(X, y, test_size=0.2, random_state=1)\n",
    "    lr = LogisticRegression(random_state=1)\n",
    "    lr.fit(X_train, y_train)\n",
    "    y_pred = lr.predict(X_test)\n",
    "    output_report = classification_report(y_test, y_pred, target_names = target_names, output_dict=True)\n",
    "    if output_report['accuracy'] > accuracy:\n",
    "        accuracy = output_report['accuracy']\n",
    "        best_X = list(feature_set)\n",
    "        lr_best = lr\n"
   ]
  },
  {
   "cell_type": "code",
   "execution_count": 12,
   "metadata": {},
   "outputs": [
    {
     "name": "stdout",
     "output_type": "stream",
     "text": [
      "['Glucose', 'BMI', 'DiabetesPedigreeFunction'] 0.7922077922077922\n"
     ]
    },
    {
     "ename": "ValueError",
     "evalue": "The feature names should match those that were passed during fit.\nFeature names unseen at fit time:\n- Age\n- BloodPressure\n- Insulin\n- Pregnancies\n- SkinThickness\n",
     "output_type": "error",
     "traceback": [
      "\u001b[0;31m---------------------------------------------------------------------------\u001b[0m",
      "\u001b[0;31mValueError\u001b[0m                                Traceback (most recent call last)",
      "Cell \u001b[0;32mIn[12], line 4\u001b[0m\n\u001b[1;32m      1\u001b[0m plt\u001b[38;5;241m.\u001b[39mclf()\n\u001b[1;32m      2\u001b[0m \u001b[38;5;28mprint\u001b[39m(best_X, accuracy)\n\u001b[0;32m----> 4\u001b[0m y_pred \u001b[38;5;241m=\u001b[39m \u001b[43mlr_best\u001b[49m\u001b[38;5;241;43m.\u001b[39;49m\u001b[43mpredict\u001b[49m\u001b[43m(\u001b[49m\u001b[43mX_test\u001b[49m\u001b[43m)\u001b[49m\n\u001b[1;32m      5\u001b[0m cnf_matrix \u001b[38;5;241m=\u001b[39m metrics\u001b[38;5;241m.\u001b[39mconfusion_matrix(y_test, y_pred)\n\u001b[1;32m      7\u001b[0m class_names\u001b[38;5;241m=\u001b[39m[\u001b[38;5;241m0\u001b[39m,\u001b[38;5;241m1\u001b[39m] \u001b[38;5;66;03m# name  of classes\u001b[39;00m\n",
      "File \u001b[0;32m~/.local/lib/python3.10/site-packages/sklearn/linear_model/_base.py:451\u001b[0m, in \u001b[0;36mLinearClassifierMixin.predict\u001b[0;34m(self, X)\u001b[0m\n\u001b[1;32m    437\u001b[0m \u001b[38;5;250m\u001b[39m\u001b[38;5;124;03m\"\"\"\u001b[39;00m\n\u001b[1;32m    438\u001b[0m \u001b[38;5;124;03mPredict class labels for samples in X.\u001b[39;00m\n\u001b[1;32m    439\u001b[0m \n\u001b[0;32m   (...)\u001b[0m\n\u001b[1;32m    448\u001b[0m \u001b[38;5;124;03m    Vector containing the class labels for each sample.\u001b[39;00m\n\u001b[1;32m    449\u001b[0m \u001b[38;5;124;03m\"\"\"\u001b[39;00m\n\u001b[1;32m    450\u001b[0m xp, _ \u001b[38;5;241m=\u001b[39m get_namespace(X)\n\u001b[0;32m--> 451\u001b[0m scores \u001b[38;5;241m=\u001b[39m \u001b[38;5;28;43mself\u001b[39;49m\u001b[38;5;241;43m.\u001b[39;49m\u001b[43mdecision_function\u001b[49m\u001b[43m(\u001b[49m\u001b[43mX\u001b[49m\u001b[43m)\u001b[49m\n\u001b[1;32m    452\u001b[0m \u001b[38;5;28;01mif\u001b[39;00m \u001b[38;5;28mlen\u001b[39m(scores\u001b[38;5;241m.\u001b[39mshape) \u001b[38;5;241m==\u001b[39m \u001b[38;5;241m1\u001b[39m:\n\u001b[1;32m    453\u001b[0m     indices \u001b[38;5;241m=\u001b[39m xp\u001b[38;5;241m.\u001b[39mastype(scores \u001b[38;5;241m>\u001b[39m \u001b[38;5;241m0\u001b[39m, \u001b[38;5;28mint\u001b[39m)\n",
      "File \u001b[0;32m~/.local/lib/python3.10/site-packages/sklearn/linear_model/_base.py:432\u001b[0m, in \u001b[0;36mLinearClassifierMixin.decision_function\u001b[0;34m(self, X)\u001b[0m\n\u001b[1;32m    429\u001b[0m check_is_fitted(\u001b[38;5;28mself\u001b[39m)\n\u001b[1;32m    430\u001b[0m xp, _ \u001b[38;5;241m=\u001b[39m get_namespace(X)\n\u001b[0;32m--> 432\u001b[0m X \u001b[38;5;241m=\u001b[39m \u001b[38;5;28;43mself\u001b[39;49m\u001b[38;5;241;43m.\u001b[39;49m\u001b[43m_validate_data\u001b[49m\u001b[43m(\u001b[49m\u001b[43mX\u001b[49m\u001b[43m,\u001b[49m\u001b[43m \u001b[49m\u001b[43maccept_sparse\u001b[49m\u001b[38;5;241;43m=\u001b[39;49m\u001b[38;5;124;43m\"\u001b[39;49m\u001b[38;5;124;43mcsr\u001b[39;49m\u001b[38;5;124;43m\"\u001b[39;49m\u001b[43m,\u001b[49m\u001b[43m \u001b[49m\u001b[43mreset\u001b[49m\u001b[38;5;241;43m=\u001b[39;49m\u001b[38;5;28;43;01mFalse\u001b[39;49;00m\u001b[43m)\u001b[49m\n\u001b[1;32m    433\u001b[0m scores \u001b[38;5;241m=\u001b[39m safe_sparse_dot(X, \u001b[38;5;28mself\u001b[39m\u001b[38;5;241m.\u001b[39mcoef_\u001b[38;5;241m.\u001b[39mT, dense_output\u001b[38;5;241m=\u001b[39m\u001b[38;5;28;01mTrue\u001b[39;00m) \u001b[38;5;241m+\u001b[39m \u001b[38;5;28mself\u001b[39m\u001b[38;5;241m.\u001b[39mintercept_\n\u001b[1;32m    434\u001b[0m \u001b[38;5;28;01mreturn\u001b[39;00m xp\u001b[38;5;241m.\u001b[39mreshape(scores, (\u001b[38;5;241m-\u001b[39m\u001b[38;5;241m1\u001b[39m,)) \u001b[38;5;28;01mif\u001b[39;00m scores\u001b[38;5;241m.\u001b[39mshape[\u001b[38;5;241m1\u001b[39m] \u001b[38;5;241m==\u001b[39m \u001b[38;5;241m1\u001b[39m \u001b[38;5;28;01melse\u001b[39;00m scores\n",
      "File \u001b[0;32m~/.local/lib/python3.10/site-packages/sklearn/base.py:580\u001b[0m, in \u001b[0;36mBaseEstimator._validate_data\u001b[0;34m(self, X, y, reset, validate_separately, cast_to_ndarray, **check_params)\u001b[0m\n\u001b[1;32m    509\u001b[0m \u001b[38;5;28;01mdef\u001b[39;00m \u001b[38;5;21m_validate_data\u001b[39m(\n\u001b[1;32m    510\u001b[0m     \u001b[38;5;28mself\u001b[39m,\n\u001b[1;32m    511\u001b[0m     X\u001b[38;5;241m=\u001b[39m\u001b[38;5;124m\"\u001b[39m\u001b[38;5;124mno_validation\u001b[39m\u001b[38;5;124m\"\u001b[39m,\n\u001b[0;32m   (...)\u001b[0m\n\u001b[1;32m    516\u001b[0m     \u001b[38;5;241m*\u001b[39m\u001b[38;5;241m*\u001b[39mcheck_params,\n\u001b[1;32m    517\u001b[0m ):\n\u001b[1;32m    518\u001b[0m \u001b[38;5;250m    \u001b[39m\u001b[38;5;124;03m\"\"\"Validate input data and set or check the `n_features_in_` attribute.\u001b[39;00m\n\u001b[1;32m    519\u001b[0m \n\u001b[1;32m    520\u001b[0m \u001b[38;5;124;03m    Parameters\u001b[39;00m\n\u001b[0;32m   (...)\u001b[0m\n\u001b[1;32m    578\u001b[0m \u001b[38;5;124;03m        validated.\u001b[39;00m\n\u001b[1;32m    579\u001b[0m \u001b[38;5;124;03m    \"\"\"\u001b[39;00m\n\u001b[0;32m--> 580\u001b[0m     \u001b[38;5;28;43mself\u001b[39;49m\u001b[38;5;241;43m.\u001b[39;49m\u001b[43m_check_feature_names\u001b[49m\u001b[43m(\u001b[49m\u001b[43mX\u001b[49m\u001b[43m,\u001b[49m\u001b[43m \u001b[49m\u001b[43mreset\u001b[49m\u001b[38;5;241;43m=\u001b[39;49m\u001b[43mreset\u001b[49m\u001b[43m)\u001b[49m\n\u001b[1;32m    582\u001b[0m     \u001b[38;5;28;01mif\u001b[39;00m y \u001b[38;5;129;01mis\u001b[39;00m \u001b[38;5;28;01mNone\u001b[39;00m \u001b[38;5;129;01mand\u001b[39;00m \u001b[38;5;28mself\u001b[39m\u001b[38;5;241m.\u001b[39m_get_tags()[\u001b[38;5;124m\"\u001b[39m\u001b[38;5;124mrequires_y\u001b[39m\u001b[38;5;124m\"\u001b[39m]:\n\u001b[1;32m    583\u001b[0m         \u001b[38;5;28;01mraise\u001b[39;00m \u001b[38;5;167;01mValueError\u001b[39;00m(\n\u001b[1;32m    584\u001b[0m             \u001b[38;5;124mf\u001b[39m\u001b[38;5;124m\"\u001b[39m\u001b[38;5;124mThis \u001b[39m\u001b[38;5;132;01m{\u001b[39;00m\u001b[38;5;28mself\u001b[39m\u001b[38;5;241m.\u001b[39m\u001b[38;5;18m__class__\u001b[39m\u001b[38;5;241m.\u001b[39m\u001b[38;5;18m__name__\u001b[39m\u001b[38;5;132;01m}\u001b[39;00m\u001b[38;5;124m estimator \u001b[39m\u001b[38;5;124m\"\u001b[39m\n\u001b[1;32m    585\u001b[0m             \u001b[38;5;124m\"\u001b[39m\u001b[38;5;124mrequires y to be passed, but the target y is None.\u001b[39m\u001b[38;5;124m\"\u001b[39m\n\u001b[1;32m    586\u001b[0m         )\n",
      "File \u001b[0;32m~/.local/lib/python3.10/site-packages/sklearn/base.py:507\u001b[0m, in \u001b[0;36mBaseEstimator._check_feature_names\u001b[0;34m(self, X, reset)\u001b[0m\n\u001b[1;32m    502\u001b[0m \u001b[38;5;28;01mif\u001b[39;00m \u001b[38;5;129;01mnot\u001b[39;00m missing_names \u001b[38;5;129;01mand\u001b[39;00m \u001b[38;5;129;01mnot\u001b[39;00m unexpected_names:\n\u001b[1;32m    503\u001b[0m     message \u001b[38;5;241m+\u001b[39m\u001b[38;5;241m=\u001b[39m (\n\u001b[1;32m    504\u001b[0m         \u001b[38;5;124m\"\u001b[39m\u001b[38;5;124mFeature names must be in the same order as they were in fit.\u001b[39m\u001b[38;5;130;01m\\n\u001b[39;00m\u001b[38;5;124m\"\u001b[39m\n\u001b[1;32m    505\u001b[0m     )\n\u001b[0;32m--> 507\u001b[0m \u001b[38;5;28;01mraise\u001b[39;00m \u001b[38;5;167;01mValueError\u001b[39;00m(message)\n",
      "\u001b[0;31mValueError\u001b[0m: The feature names should match those that were passed during fit.\nFeature names unseen at fit time:\n- Age\n- BloodPressure\n- Insulin\n- Pregnancies\n- SkinThickness\n"
     ]
    },
    {
     "data": {
      "text/plain": [
       "<Figure size 640x480 with 0 Axes>"
      ]
     },
     "metadata": {},
     "output_type": "display_data"
    }
   ],
   "source": [
    "plt.clf()\n",
    "print(best_X, accuracy)\n",
    "\n",
    "y_pred = lr_best.predict(X_test)\n",
    "cnf_matrix = metrics.confusion_matrix(y_test, y_pred)\n",
    "\n",
    "class_names=[0,1] # name  of classes\n",
    "fig, ax = plt.subplots()\n",
    "tick_marks = np.arange(len(class_names))\n",
    "plt.xticks(tick_marks, class_names)\n",
    "plt.yticks(tick_marks, class_names)\n",
    "sns.heatmap(pd.DataFrame(cnf_matrix), annot=True, cmap=\"YlGnBu\" ,fmt='g')\n",
    "ax.xaxis.set_label_position(\"top\")\n",
    "plt.tight_layout()\n",
    "plt.title('Confusion matrix', y=1.1)\n",
    "plt.ylabel('Actual label')\n",
    "plt.xlabel('Predicted label')"
   ]
  }
 ],
 "metadata": {
  "kernelspec": {
   "display_name": "Python 3",
   "language": "python",
   "name": "python3"
  },
  "language_info": {
   "codemirror_mode": {
    "name": "ipython",
    "version": 3
   },
   "file_extension": ".py",
   "mimetype": "text/x-python",
   "name": "python",
   "nbconvert_exporter": "python",
   "pygments_lexer": "ipython3",
   "version": "3.10.8"
  }
 },
 "nbformat": 4,
 "nbformat_minor": 2
}
