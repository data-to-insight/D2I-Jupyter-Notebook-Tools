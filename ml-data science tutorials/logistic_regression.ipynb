{
 "cells": [
  {
   "cell_type": "code",
   "execution_count": 7,
   "metadata": {},
   "outputs": [
    {
     "data": {
      "text/html": [
       "<div>\n",
       "<style scoped>\n",
       "    .dataframe tbody tr th:only-of-type {\n",
       "        vertical-align: middle;\n",
       "    }\n",
       "\n",
       "    .dataframe tbody tr th {\n",
       "        vertical-align: top;\n",
       "    }\n",
       "\n",
       "    .dataframe thead th {\n",
       "        text-align: right;\n",
       "    }\n",
       "</style>\n",
       "<table border=\"1\" class=\"dataframe\">\n",
       "  <thead>\n",
       "    <tr style=\"text-align: right;\">\n",
       "      <th></th>\n",
       "      <th>Pregnancies</th>\n",
       "      <th>Glucose</th>\n",
       "      <th>BloodPressure</th>\n",
       "      <th>SkinThickness</th>\n",
       "      <th>Insulin</th>\n",
       "      <th>BMI</th>\n",
       "      <th>DiabetesPedigreeFunction</th>\n",
       "      <th>Age</th>\n",
       "      <th>Outcome</th>\n",
       "    </tr>\n",
       "  </thead>\n",
       "  <tbody>\n",
       "    <tr>\n",
       "      <th>0</th>\n",
       "      <td>6</td>\n",
       "      <td>148</td>\n",
       "      <td>72</td>\n",
       "      <td>35</td>\n",
       "      <td>0</td>\n",
       "      <td>33.6</td>\n",
       "      <td>0.627</td>\n",
       "      <td>50</td>\n",
       "      <td>1</td>\n",
       "    </tr>\n",
       "    <tr>\n",
       "      <th>1</th>\n",
       "      <td>1</td>\n",
       "      <td>85</td>\n",
       "      <td>66</td>\n",
       "      <td>29</td>\n",
       "      <td>0</td>\n",
       "      <td>26.6</td>\n",
       "      <td>0.351</td>\n",
       "      <td>31</td>\n",
       "      <td>0</td>\n",
       "    </tr>\n",
       "    <tr>\n",
       "      <th>2</th>\n",
       "      <td>8</td>\n",
       "      <td>183</td>\n",
       "      <td>64</td>\n",
       "      <td>0</td>\n",
       "      <td>0</td>\n",
       "      <td>23.3</td>\n",
       "      <td>0.672</td>\n",
       "      <td>32</td>\n",
       "      <td>1</td>\n",
       "    </tr>\n",
       "    <tr>\n",
       "      <th>3</th>\n",
       "      <td>1</td>\n",
       "      <td>89</td>\n",
       "      <td>66</td>\n",
       "      <td>23</td>\n",
       "      <td>94</td>\n",
       "      <td>28.1</td>\n",
       "      <td>0.167</td>\n",
       "      <td>21</td>\n",
       "      <td>0</td>\n",
       "    </tr>\n",
       "    <tr>\n",
       "      <th>4</th>\n",
       "      <td>0</td>\n",
       "      <td>137</td>\n",
       "      <td>40</td>\n",
       "      <td>35</td>\n",
       "      <td>168</td>\n",
       "      <td>43.1</td>\n",
       "      <td>2.288</td>\n",
       "      <td>33</td>\n",
       "      <td>1</td>\n",
       "    </tr>\n",
       "    <tr>\n",
       "      <th>...</th>\n",
       "      <td>...</td>\n",
       "      <td>...</td>\n",
       "      <td>...</td>\n",
       "      <td>...</td>\n",
       "      <td>...</td>\n",
       "      <td>...</td>\n",
       "      <td>...</td>\n",
       "      <td>...</td>\n",
       "      <td>...</td>\n",
       "    </tr>\n",
       "    <tr>\n",
       "      <th>763</th>\n",
       "      <td>10</td>\n",
       "      <td>101</td>\n",
       "      <td>76</td>\n",
       "      <td>48</td>\n",
       "      <td>180</td>\n",
       "      <td>32.9</td>\n",
       "      <td>0.171</td>\n",
       "      <td>63</td>\n",
       "      <td>0</td>\n",
       "    </tr>\n",
       "    <tr>\n",
       "      <th>764</th>\n",
       "      <td>2</td>\n",
       "      <td>122</td>\n",
       "      <td>70</td>\n",
       "      <td>27</td>\n",
       "      <td>0</td>\n",
       "      <td>36.8</td>\n",
       "      <td>0.340</td>\n",
       "      <td>27</td>\n",
       "      <td>0</td>\n",
       "    </tr>\n",
       "    <tr>\n",
       "      <th>765</th>\n",
       "      <td>5</td>\n",
       "      <td>121</td>\n",
       "      <td>72</td>\n",
       "      <td>23</td>\n",
       "      <td>112</td>\n",
       "      <td>26.2</td>\n",
       "      <td>0.245</td>\n",
       "      <td>30</td>\n",
       "      <td>0</td>\n",
       "    </tr>\n",
       "    <tr>\n",
       "      <th>766</th>\n",
       "      <td>1</td>\n",
       "      <td>126</td>\n",
       "      <td>60</td>\n",
       "      <td>0</td>\n",
       "      <td>0</td>\n",
       "      <td>30.1</td>\n",
       "      <td>0.349</td>\n",
       "      <td>47</td>\n",
       "      <td>1</td>\n",
       "    </tr>\n",
       "    <tr>\n",
       "      <th>767</th>\n",
       "      <td>1</td>\n",
       "      <td>93</td>\n",
       "      <td>70</td>\n",
       "      <td>31</td>\n",
       "      <td>0</td>\n",
       "      <td>30.4</td>\n",
       "      <td>0.315</td>\n",
       "      <td>23</td>\n",
       "      <td>0</td>\n",
       "    </tr>\n",
       "  </tbody>\n",
       "</table>\n",
       "<p>768 rows × 9 columns</p>\n",
       "</div>"
      ],
      "text/plain": [
       "     Pregnancies  Glucose  BloodPressure  SkinThickness  Insulin   BMI  \\\n",
       "0              6      148             72             35        0  33.6   \n",
       "1              1       85             66             29        0  26.6   \n",
       "2              8      183             64              0        0  23.3   \n",
       "3              1       89             66             23       94  28.1   \n",
       "4              0      137             40             35      168  43.1   \n",
       "..           ...      ...            ...            ...      ...   ...   \n",
       "763           10      101             76             48      180  32.9   \n",
       "764            2      122             70             27        0  36.8   \n",
       "765            5      121             72             23      112  26.2   \n",
       "766            1      126             60              0        0  30.1   \n",
       "767            1       93             70             31        0  30.4   \n",
       "\n",
       "     DiabetesPedigreeFunction  Age  Outcome  \n",
       "0                       0.627   50        1  \n",
       "1                       0.351   31        0  \n",
       "2                       0.672   32        1  \n",
       "3                       0.167   21        0  \n",
       "4                       2.288   33        1  \n",
       "..                        ...  ...      ...  \n",
       "763                     0.171   63        0  \n",
       "764                     0.340   27        0  \n",
       "765                     0.245   30        0  \n",
       "766                     0.349   47        1  \n",
       "767                     0.315   23        0  \n",
       "\n",
       "[768 rows x 9 columns]"
      ]
     },
     "execution_count": 7,
     "metadata": {},
     "output_type": "execute_result"
    }
   ],
   "source": [
    "import pandas as pd\n",
    "import numpy as np\n",
    "from sklearn.model_selection import train_test_split\n",
    "from sklearn.linear_model import LogisticRegression\n",
    "from sklearn import metrics\n",
    "\n",
    "df = pd.read_csv('/workspaces/D2I-Jupyter-Notebook-Tools/ml-data science tutorials/data/diabetes.csv')\n",
    "\n",
    "features = ['Pregnancies',\n",
    "            'Glucose', \n",
    "            'BloodPressure',\n",
    "            'SkinThickness',\n",
    "            'Insulin',\t\n",
    "            'BMI',\n",
    "            'DiabetesPedigreeFunction',\n",
    "            'Age']\n",
    "\n",
    "df"
   ]
  },
  {
   "cell_type": "code",
   "execution_count": 8,
   "metadata": {},
   "outputs": [
    {
     "name": "stderr",
     "output_type": "stream",
     "text": [
      "/home/codespace/.python/current/lib/python3.10/site-packages/sklearn/linear_model/_logistic.py:458: ConvergenceWarning: lbfgs failed to converge (status=1):\n",
      "STOP: TOTAL NO. of ITERATIONS REACHED LIMIT.\n",
      "\n",
      "Increase the number of iterations (max_iter) or scale the data as shown in:\n",
      "    https://scikit-learn.org/stable/modules/preprocessing.html\n",
      "Please also refer to the documentation for alternative solver options:\n",
      "    https://scikit-learn.org/stable/modules/linear_model.html#logistic-regression\n",
      "  n_iter_i = _check_optimize_result(\n"
     ]
    },
    {
     "data": {
      "text/plain": [
       "array([[117,   9],\n",
       "       [ 33,  33]])"
      ]
     },
     "execution_count": 8,
     "metadata": {},
     "output_type": "execute_result"
    }
   ],
   "source": [
    "X = df[features]\n",
    "y = df.Outcome\n",
    "X_train, X_test, y_train, y_test = train_test_split(X, y, test_size=0.25, random_state=11)\n",
    "\n",
    "lr = LogisticRegression(random_state=1)\n",
    "\n",
    "lr.fit(X_train, y_train)\n",
    "y_pred = lr.predict(X_test)\n",
    "\n",
    "cnf_matrix = metrics.confusion_matrix(y_test, y_pred)\n",
    "cnf_matrix"
   ]
  },
  {
   "cell_type": "code",
   "execution_count": 10,
   "metadata": {},
   "outputs": [
    {
     "data": {
      "text/plain": [
       "Text(0.5, 427.9555555555555, 'Predicted label')"
      ]
     },
     "execution_count": 10,
     "metadata": {},
     "output_type": "execute_result"
    },
    {
     "data": {
      "image/png": "[encoded data removed]",
      "text/plain": [
       "<Figure size 640x480 with 2 Axes>"
      ]
     },
     "metadata": {},
     "output_type": "display_data"
    }
   ],
   "source": [
    "# import required modules\n",
    "import numpy as np\n",
    "import matplotlib.pyplot as plt\n",
    "import seaborn as sns\n",
    "\n",
    "class_names=[0,1] # name  of classes\n",
    "fig, ax = plt.subplots()\n",
    "tick_marks = np.arange(len(class_names))\n",
    "plt.xticks(tick_marks, class_names)\n",
    "plt.yticks(tick_marks, class_names)\n",
    "# create heatmap\n",
    "sns.heatmap(pd.DataFrame(cnf_matrix), annot=True, cmap=\"YlGnBu\" ,fmt='g')\n",
    "ax.xaxis.set_label_position(\"top\")\n",
    "plt.tight_layout()\n",
    "plt.title('Confusion matrix', y=1.1)\n",
    "plt.ylabel('Actual label')\n",
    "plt.xlabel('Predicted label')\n"
   ]
  },
  {
   "cell_type": "code",
   "execution_count": 24,
   "metadata": {},
   "outputs": [
    {
     "name": "stdout",
     "output_type": "stream",
     "text": [
      "{'without diabetes': {'precision': 0.78, 'recall': 0.9285714285714286, 'f1-score': 0.8478260869565217, 'support': 126}, 'with diabetes': {'precision': 0.7857142857142857, 'recall': 0.5, 'f1-score': 0.6111111111111112, 'support': 66}, 'accuracy': 0.78125, 'macro avg': {'precision': 0.7828571428571429, 'recall': 0.7142857142857143, 'f1-score': 0.7294685990338164, 'support': 192}, 'weighted avg': {'precision': 0.7819642857142858, 'recall': 0.78125, 'f1-score': 0.7664553140096618, 'support': 192}}\n",
      "0.78125\n"
     ]
    }
   ],
   "source": [
    "from sklearn.metrics import classification_report\n",
    "target_names = ['without diabetes', 'with diabetes']\n",
    "output_report = classification_report(y_test, y_pred, target_names=target_names, output_dict=True)\n",
    "print(output_report)\n",
    "print(output_report['accuracy'])"
   ]
  },
  {
   "cell_type": "code",
   "execution_count": 13,
   "metadata": {},
   "outputs": [
    {
     "data": {
      "image/png": "[encoded data removed]",
      "text/plain": [
       "<Figure size 640x480 with 1 Axes>"
      ]
     },
     "metadata": {},
     "output_type": "display_data"
    }
   ],
   "source": [
    "y_pred_proba = lr.predict_proba(X_test)[::,1]\n",
    "fpr, tpr, _ = metrics.roc_curve(y_test,  y_pred_proba)\n",
    "auc = metrics.roc_auc_score(y_test, y_pred_proba)\n",
    "plt.plot(fpr,tpr,label=\"data 1, auc=\"+str(auc))\n",
    "plt.legend(loc=4)\n",
    "plt.show()"
   ]
  },
  {
   "cell_type": "code",
   "execution_count": 34,
   "metadata": {},
   "outputs": [
    {
     "name": "stdout",
     "output_type": "stream",
     "text": [
      "[('Pregnancies',), ('Glucose',), ('BloodPressure',), ('SkinThickness',), ('Insulin',), ('BMI',), ('DiabetesPedigreeFunction',), ('Age',), ('Pregnancies', 'Glucose'), ('Pregnancies', 'BloodPressure'), ('Pregnancies', 'SkinThickness'), ('Pregnancies', 'Insulin'), ('Pregnancies', 'BMI'), ('Pregnancies', 'DiabetesPedigreeFunction'), ('Pregnancies', 'Age'), ('Glucose', 'BloodPressure'), ('Glucose', 'SkinThickness'), ('Glucose', 'Insulin'), ('Glucose', 'BMI'), ('Glucose', 'DiabetesPedigreeFunction'), ('Glucose', 'Age'), ('BloodPressure', 'SkinThickness'), ('BloodPressure', 'Insulin'), ('BloodPressure', 'BMI'), ('BloodPressure', 'DiabetesPedigreeFunction'), ('BloodPressure', 'Age'), ('SkinThickness', 'Insulin'), ('SkinThickness', 'BMI'), ('SkinThickness', 'DiabetesPedigreeFunction'), ('SkinThickness', 'Age'), ('Insulin', 'BMI'), ('Insulin', 'DiabetesPedigreeFunction'), ('Insulin', 'Age'), ('BMI', 'DiabetesPedigreeFunction'), ('BMI', 'Age'), ('DiabetesPedigreeFunction', 'Age'), ('Pregnancies', 'Glucose', 'BloodPressure'), ('Pregnancies', 'Glucose', 'SkinThickness'), ('Pregnancies', 'Glucose', 'Insulin'), ('Pregnancies', 'Glucose', 'BMI'), ('Pregnancies', 'Glucose', 'DiabetesPedigreeFunction'), ('Pregnancies', 'Glucose', 'Age'), ('Pregnancies', 'BloodPressure', 'SkinThickness'), ('Pregnancies', 'BloodPressure', 'Insulin'), ('Pregnancies', 'BloodPressure', 'BMI'), ('Pregnancies', 'BloodPressure', 'DiabetesPedigreeFunction'), ('Pregnancies', 'BloodPressure', 'Age'), ('Pregnancies', 'SkinThickness', 'Insulin'), ('Pregnancies', 'SkinThickness', 'BMI'), ('Pregnancies', 'SkinThickness', 'DiabetesPedigreeFunction'), ('Pregnancies', 'SkinThickness', 'Age'), ('Pregnancies', 'Insulin', 'BMI'), ('Pregnancies', 'Insulin', 'DiabetesPedigreeFunction'), ('Pregnancies', 'Insulin', 'Age'), ('Pregnancies', 'BMI', 'DiabetesPedigreeFunction'), ('Pregnancies', 'BMI', 'Age'), ('Pregnancies', 'DiabetesPedigreeFunction', 'Age'), ('Glucose', 'BloodPressure', 'SkinThickness'), ('Glucose', 'BloodPressure', 'Insulin'), ('Glucose', 'BloodPressure', 'BMI'), ('Glucose', 'BloodPressure', 'DiabetesPedigreeFunction'), ('Glucose', 'BloodPressure', 'Age'), ('Glucose', 'SkinThickness', 'Insulin'), ('Glucose', 'SkinThickness', 'BMI'), ('Glucose', 'SkinThickness', 'DiabetesPedigreeFunction'), ('Glucose', 'SkinThickness', 'Age'), ('Glucose', 'Insulin', 'BMI'), ('Glucose', 'Insulin', 'DiabetesPedigreeFunction'), ('Glucose', 'Insulin', 'Age'), ('Glucose', 'BMI', 'DiabetesPedigreeFunction'), ('Glucose', 'BMI', 'Age'), ('Glucose', 'DiabetesPedigreeFunction', 'Age'), ('BloodPressure', 'SkinThickness', 'Insulin'), ('BloodPressure', 'SkinThickness', 'BMI'), ('BloodPressure', 'SkinThickness', 'DiabetesPedigreeFunction'), ('BloodPressure', 'SkinThickness', 'Age'), ('BloodPressure', 'Insulin', 'BMI'), ('BloodPressure', 'Insulin', 'DiabetesPedigreeFunction'), ('BloodPressure', 'Insulin', 'Age'), ('BloodPressure', 'BMI', 'DiabetesPedigreeFunction'), ('BloodPressure', 'BMI', 'Age'), ('BloodPressure', 'DiabetesPedigreeFunction', 'Age'), ('SkinThickness', 'Insulin', 'BMI'), ('SkinThickness', 'Insulin', 'DiabetesPedigreeFunction'), ('SkinThickness', 'Insulin', 'Age'), ('SkinThickness', 'BMI', 'DiabetesPedigreeFunction'), ('SkinThickness', 'BMI', 'Age'), ('SkinThickness', 'DiabetesPedigreeFunction', 'Age'), ('Insulin', 'BMI', 'DiabetesPedigreeFunction'), ('Insulin', 'BMI', 'Age'), ('Insulin', 'DiabetesPedigreeFunction', 'Age'), ('BMI', 'DiabetesPedigreeFunction', 'Age'), ('Pregnancies', 'Glucose', 'BloodPressure', 'SkinThickness'), ('Pregnancies', 'Glucose', 'BloodPressure', 'Insulin'), ('Pregnancies', 'Glucose', 'BloodPressure', 'BMI'), ('Pregnancies', 'Glucose', 'BloodPressure', 'DiabetesPedigreeFunction'), ('Pregnancies', 'Glucose', 'BloodPressure', 'Age'), ('Pregnancies', 'Glucose', 'SkinThickness', 'Insulin'), ('Pregnancies', 'Glucose', 'SkinThickness', 'BMI'), ('Pregnancies', 'Glucose', 'SkinThickness', 'DiabetesPedigreeFunction'), ('Pregnancies', 'Glucose', 'SkinThickness', 'Age'), ('Pregnancies', 'Glucose', 'Insulin', 'BMI'), ('Pregnancies', 'Glucose', 'Insulin', 'DiabetesPedigreeFunction'), ('Pregnancies', 'Glucose', 'Insulin', 'Age'), ('Pregnancies', 'Glucose', 'BMI', 'DiabetesPedigreeFunction'), ('Pregnancies', 'Glucose', 'BMI', 'Age'), ('Pregnancies', 'Glucose', 'DiabetesPedigreeFunction', 'Age'), ('Pregnancies', 'BloodPressure', 'SkinThickness', 'Insulin'), ('Pregnancies', 'BloodPressure', 'SkinThickness', 'BMI'), ('Pregnancies', 'BloodPressure', 'SkinThickness', 'DiabetesPedigreeFunction'), ('Pregnancies', 'BloodPressure', 'SkinThickness', 'Age'), ('Pregnancies', 'BloodPressure', 'Insulin', 'BMI'), ('Pregnancies', 'BloodPressure', 'Insulin', 'DiabetesPedigreeFunction'), ('Pregnancies', 'BloodPressure', 'Insulin', 'Age'), ('Pregnancies', 'BloodPressure', 'BMI', 'DiabetesPedigreeFunction'), ('Pregnancies', 'BloodPressure', 'BMI', 'Age'), ('Pregnancies', 'BloodPressure', 'DiabetesPedigreeFunction', 'Age'), ('Pregnancies', 'SkinThickness', 'Insulin', 'BMI'), ('Pregnancies', 'SkinThickness', 'Insulin', 'DiabetesPedigreeFunction'), ('Pregnancies', 'SkinThickness', 'Insulin', 'Age'), ('Pregnancies', 'SkinThickness', 'BMI', 'DiabetesPedigreeFunction'), ('Pregnancies', 'SkinThickness', 'BMI', 'Age'), ('Pregnancies', 'SkinThickness', 'DiabetesPedigreeFunction', 'Age'), ('Pregnancies', 'Insulin', 'BMI', 'DiabetesPedigreeFunction'), ('Pregnancies', 'Insulin', 'BMI', 'Age'), ('Pregnancies', 'Insulin', 'DiabetesPedigreeFunction', 'Age'), ('Pregnancies', 'BMI', 'DiabetesPedigreeFunction', 'Age'), ('Glucose', 'BloodPressure', 'SkinThickness', 'Insulin'), ('Glucose', 'BloodPressure', 'SkinThickness', 'BMI'), ('Glucose', 'BloodPressure', 'SkinThickness', 'DiabetesPedigreeFunction'), ('Glucose', 'BloodPressure', 'SkinThickness', 'Age'), ('Glucose', 'BloodPressure', 'Insulin', 'BMI'), ('Glucose', 'BloodPressure', 'Insulin', 'DiabetesPedigreeFunction'), ('Glucose', 'BloodPressure', 'Insulin', 'Age'), ('Glucose', 'BloodPressure', 'BMI', 'DiabetesPedigreeFunction'), ('Glucose', 'BloodPressure', 'BMI', 'Age'), ('Glucose', 'BloodPressure', 'DiabetesPedigreeFunction', 'Age'), ('Glucose', 'SkinThickness', 'Insulin', 'BMI'), ('Glucose', 'SkinThickness', 'Insulin', 'DiabetesPedigreeFunction'), ('Glucose', 'SkinThickness', 'Insulin', 'Age'), ('Glucose', 'SkinThickness', 'BMI', 'DiabetesPedigreeFunction'), ('Glucose', 'SkinThickness', 'BMI', 'Age'), ('Glucose', 'SkinThickness', 'DiabetesPedigreeFunction', 'Age'), ('Glucose', 'Insulin', 'BMI', 'DiabetesPedigreeFunction'), ('Glucose', 'Insulin', 'BMI', 'Age'), ('Glucose', 'Insulin', 'DiabetesPedigreeFunction', 'Age'), ('Glucose', 'BMI', 'DiabetesPedigreeFunction', 'Age'), ('BloodPressure', 'SkinThickness', 'Insulin', 'BMI'), ('BloodPressure', 'SkinThickness', 'Insulin', 'DiabetesPedigreeFunction'), ('BloodPressure', 'SkinThickness', 'Insulin', 'Age'), ('BloodPressure', 'SkinThickness', 'BMI', 'DiabetesPedigreeFunction'), ('BloodPressure', 'SkinThickness', 'BMI', 'Age'), ('BloodPressure', 'SkinThickness', 'DiabetesPedigreeFunction', 'Age'), ('BloodPressure', 'Insulin', 'BMI', 'DiabetesPedigreeFunction'), ('BloodPressure', 'Insulin', 'BMI', 'Age'), ('BloodPressure', 'Insulin', 'DiabetesPedigreeFunction', 'Age'), ('BloodPressure', 'BMI', 'DiabetesPedigreeFunction', 'Age'), ('SkinThickness', 'Insulin', 'BMI', 'DiabetesPedigreeFunction'), ('SkinThickness', 'Insulin', 'BMI', 'Age'), ('SkinThickness', 'Insulin', 'DiabetesPedigreeFunction', 'Age'), ('SkinThickness', 'BMI', 'DiabetesPedigreeFunction', 'Age'), ('Insulin', 'BMI', 'DiabetesPedigreeFunction', 'Age'), ('Pregnancies', 'Glucose', 'BloodPressure', 'SkinThickness', 'Insulin'), ('Pregnancies', 'Glucose', 'BloodPressure', 'SkinThickness', 'BMI'), ('Pregnancies', 'Glucose', 'BloodPressure', 'SkinThickness', 'DiabetesPedigreeFunction'), ('Pregnancies', 'Glucose', 'BloodPressure', 'SkinThickness', 'Age'), ('Pregnancies', 'Glucose', 'BloodPressure', 'Insulin', 'BMI'), ('Pregnancies', 'Glucose', 'BloodPressure', 'Insulin', 'DiabetesPedigreeFunction'), ('Pregnancies', 'Glucose', 'BloodPressure', 'Insulin', 'Age'), ('Pregnancies', 'Glucose', 'BloodPressure', 'BMI', 'DiabetesPedigreeFunction'), ('Pregnancies', 'Glucose', 'BloodPressure', 'BMI', 'Age'), ('Pregnancies', 'Glucose', 'BloodPressure', 'DiabetesPedigreeFunction', 'Age'), ('Pregnancies', 'Glucose', 'SkinThickness', 'Insulin', 'BMI'), ('Pregnancies', 'Glucose', 'SkinThickness', 'Insulin', 'DiabetesPedigreeFunction'), ('Pregnancies', 'Glucose', 'SkinThickness', 'Insulin', 'Age'), ('Pregnancies', 'Glucose', 'SkinThickness', 'BMI', 'DiabetesPedigreeFunction'), ('Pregnancies', 'Glucose', 'SkinThickness', 'BMI', 'Age'), ('Pregnancies', 'Glucose', 'SkinThickness', 'DiabetesPedigreeFunction', 'Age'), ('Pregnancies', 'Glucose', 'Insulin', 'BMI', 'DiabetesPedigreeFunction'), ('Pregnancies', 'Glucose', 'Insulin', 'BMI', 'Age'), ('Pregnancies', 'Glucose', 'Insulin', 'DiabetesPedigreeFunction', 'Age'), ('Pregnancies', 'Glucose', 'BMI', 'DiabetesPedigreeFunction', 'Age'), ('Pregnancies', 'BloodPressure', 'SkinThickness', 'Insulin', 'BMI'), ('Pregnancies', 'BloodPressure', 'SkinThickness', 'Insulin', 'DiabetesPedigreeFunction'), ('Pregnancies', 'BloodPressure', 'SkinThickness', 'Insulin', 'Age'), ('Pregnancies', 'BloodPressure', 'SkinThickness', 'BMI', 'DiabetesPedigreeFunction'), ('Pregnancies', 'BloodPressure', 'SkinThickness', 'BMI', 'Age'), ('Pregnancies', 'BloodPressure', 'SkinThickness', 'DiabetesPedigreeFunction', 'Age'), ('Pregnancies', 'BloodPressure', 'Insulin', 'BMI', 'DiabetesPedigreeFunction'), ('Pregnancies', 'BloodPressure', 'Insulin', 'BMI', 'Age'), ('Pregnancies', 'BloodPressure', 'Insulin', 'DiabetesPedigreeFunction', 'Age'), ('Pregnancies', 'BloodPressure', 'BMI', 'DiabetesPedigreeFunction', 'Age'), ('Pregnancies', 'SkinThickness', 'Insulin', 'BMI', 'DiabetesPedigreeFunction'), ('Pregnancies', 'SkinThickness', 'Insulin', 'BMI', 'Age'), ('Pregnancies', 'SkinThickness', 'Insulin', 'DiabetesPedigreeFunction', 'Age'), ('Pregnancies', 'SkinThickness', 'BMI', 'DiabetesPedigreeFunction', 'Age'), ('Pregnancies', 'Insulin', 'BMI', 'DiabetesPedigreeFunction', 'Age'), ('Glucose', 'BloodPressure', 'SkinThickness', 'Insulin', 'BMI'), ('Glucose', 'BloodPressure', 'SkinThickness', 'Insulin', 'DiabetesPedigreeFunction'), ('Glucose', 'BloodPressure', 'SkinThickness', 'Insulin', 'Age'), ('Glucose', 'BloodPressure', 'SkinThickness', 'BMI', 'DiabetesPedigreeFunction'), ('Glucose', 'BloodPressure', 'SkinThickness', 'BMI', 'Age'), ('Glucose', 'BloodPressure', 'SkinThickness', 'DiabetesPedigreeFunction', 'Age'), ('Glucose', 'BloodPressure', 'Insulin', 'BMI', 'DiabetesPedigreeFunction'), ('Glucose', 'BloodPressure', 'Insulin', 'BMI', 'Age'), ('Glucose', 'BloodPressure', 'Insulin', 'DiabetesPedigreeFunction', 'Age'), ('Glucose', 'BloodPressure', 'BMI', 'DiabetesPedigreeFunction', 'Age'), ('Glucose', 'SkinThickness', 'Insulin', 'BMI', 'DiabetesPedigreeFunction'), ('Glucose', 'SkinThickness', 'Insulin', 'BMI', 'Age'), ('Glucose', 'SkinThickness', 'Insulin', 'DiabetesPedigreeFunction', 'Age'), ('Glucose', 'SkinThickness', 'BMI', 'DiabetesPedigreeFunction', 'Age'), ('Glucose', 'Insulin', 'BMI', 'DiabetesPedigreeFunction', 'Age'), ('BloodPressure', 'SkinThickness', 'Insulin', 'BMI', 'DiabetesPedigreeFunction'), ('BloodPressure', 'SkinThickness', 'Insulin', 'BMI', 'Age'), ('BloodPressure', 'SkinThickness', 'Insulin', 'DiabetesPedigreeFunction', 'Age'), ('BloodPressure', 'SkinThickness', 'BMI', 'DiabetesPedigreeFunction', 'Age'), ('BloodPressure', 'Insulin', 'BMI', 'DiabetesPedigreeFunction', 'Age'), ('SkinThickness', 'Insulin', 'BMI', 'DiabetesPedigreeFunction', 'Age'), ('Pregnancies', 'Glucose', 'BloodPressure', 'SkinThickness', 'Insulin', 'BMI'), ('Pregnancies', 'Glucose', 'BloodPressure', 'SkinThickness', 'Insulin', 'DiabetesPedigreeFunction'), ('Pregnancies', 'Glucose', 'BloodPressure', 'SkinThickness', 'Insulin', 'Age'), ('Pregnancies', 'Glucose', 'BloodPressure', 'SkinThickness', 'BMI', 'DiabetesPedigreeFunction'), ('Pregnancies', 'Glucose', 'BloodPressure', 'SkinThickness', 'BMI', 'Age'), ('Pregnancies', 'Glucose', 'BloodPressure', 'SkinThickness', 'DiabetesPedigreeFunction', 'Age'), ('Pregnancies', 'Glucose', 'BloodPressure', 'Insulin', 'BMI', 'DiabetesPedigreeFunction'), ('Pregnancies', 'Glucose', 'BloodPressure', 'Insulin', 'BMI', 'Age'), ('Pregnancies', 'Glucose', 'BloodPressure', 'Insulin', 'DiabetesPedigreeFunction', 'Age'), ('Pregnancies', 'Glucose', 'BloodPressure', 'BMI', 'DiabetesPedigreeFunction', 'Age'), ('Pregnancies', 'Glucose', 'SkinThickness', 'Insulin', 'BMI', 'DiabetesPedigreeFunction'), ('Pregnancies', 'Glucose', 'SkinThickness', 'Insulin', 'BMI', 'Age'), ('Pregnancies', 'Glucose', 'SkinThickness', 'Insulin', 'DiabetesPedigreeFunction', 'Age'), ('Pregnancies', 'Glucose', 'SkinThickness', 'BMI', 'DiabetesPedigreeFunction', 'Age'), ('Pregnancies', 'Glucose', 'Insulin', 'BMI', 'DiabetesPedigreeFunction', 'Age'), ('Pregnancies', 'BloodPressure', 'SkinThickness', 'Insulin', 'BMI', 'DiabetesPedigreeFunction'), ('Pregnancies', 'BloodPressure', 'SkinThickness', 'Insulin', 'BMI', 'Age'), ('Pregnancies', 'BloodPressure', 'SkinThickness', 'Insulin', 'DiabetesPedigreeFunction', 'Age'), ('Pregnancies', 'BloodPressure', 'SkinThickness', 'BMI', 'DiabetesPedigreeFunction', 'Age'), ('Pregnancies', 'BloodPressure', 'Insulin', 'BMI', 'DiabetesPedigreeFunction', 'Age'), ('Pregnancies', 'SkinThickness', 'Insulin', 'BMI', 'DiabetesPedigreeFunction', 'Age'), ('Glucose', 'BloodPressure', 'SkinThickness', 'Insulin', 'BMI', 'DiabetesPedigreeFunction'), ('Glucose', 'BloodPressure', 'SkinThickness', 'Insulin', 'BMI', 'Age'), ('Glucose', 'BloodPressure', 'SkinThickness', 'Insulin', 'DiabetesPedigreeFunction', 'Age'), ('Glucose', 'BloodPressure', 'SkinThickness', 'BMI', 'DiabetesPedigreeFunction', 'Age'), ('Glucose', 'BloodPressure', 'Insulin', 'BMI', 'DiabetesPedigreeFunction', 'Age'), ('Glucose', 'SkinThickness', 'Insulin', 'BMI', 'DiabetesPedigreeFunction', 'Age'), ('BloodPressure', 'SkinThickness', 'Insulin', 'BMI', 'DiabetesPedigreeFunction', 'Age'), ('Pregnancies', 'Glucose', 'BloodPressure', 'SkinThickness', 'Insulin', 'BMI', 'DiabetesPedigreeFunction'), ('Pregnancies', 'Glucose', 'BloodPressure', 'SkinThickness', 'Insulin', 'BMI', 'Age'), ('Pregnancies', 'Glucose', 'BloodPressure', 'SkinThickness', 'Insulin', 'DiabetesPedigreeFunction', 'Age'), ('Pregnancies', 'Glucose', 'BloodPressure', 'SkinThickness', 'BMI', 'DiabetesPedigreeFunction', 'Age'), ('Pregnancies', 'Glucose', 'BloodPressure', 'Insulin', 'BMI', 'DiabetesPedigreeFunction', 'Age'), ('Pregnancies', 'Glucose', 'SkinThickness', 'Insulin', 'BMI', 'DiabetesPedigreeFunction', 'Age'), ('Pregnancies', 'BloodPressure', 'SkinThickness', 'Insulin', 'BMI', 'DiabetesPedigreeFunction', 'Age'), ('Glucose', 'BloodPressure', 'SkinThickness', 'Insulin', 'BMI', 'DiabetesPedigreeFunction', 'Age'), ('Pregnancies', 'Glucose', 'BloodPressure', 'SkinThickness', 'Insulin', 'BMI', 'DiabetesPedigreeFunction', 'Age')]\n"
     ]
    },
    {
     "name": "stderr",
     "output_type": "stream",
     "text": [
      "/home/codespace/.python/current/lib/python3.10/site-packages/sklearn/metrics/_classification.py:1344: UndefinedMetricWarning: Precision and F-score are ill-defined and being set to 0.0 in labels with no predicted samples. Use `zero_division` parameter to control this behavior.\n",
      "  _warn_prf(average, modifier, msg_start, len(result))\n",
      "/home/codespace/.python/current/lib/python3.10/site-packages/sklearn/metrics/_classification.py:1344: UndefinedMetricWarning: Precision and F-score are ill-defined and being set to 0.0 in labels with no predicted samples. Use `zero_division` parameter to control this behavior.\n",
      "  _warn_prf(average, modifier, msg_start, len(result))\n",
      "/home/codespace/.python/current/lib/python3.10/site-packages/sklearn/metrics/_classification.py:1344: UndefinedMetricWarning: Precision and F-score are ill-defined and being set to 0.0 in labels with no predicted samples. Use `zero_division` parameter to control this behavior.\n",
      "  _warn_prf(average, modifier, msg_start, len(result))\n",
      "/home/codespace/.python/current/lib/python3.10/site-packages/sklearn/metrics/_classification.py:1344: UndefinedMetricWarning: Precision and F-score are ill-defined and being set to 0.0 in labels with no predicted samples. Use `zero_division` parameter to control this behavior.\n",
      "  _warn_prf(average, modifier, msg_start, len(result))\n",
      "/home/codespace/.python/current/lib/python3.10/site-packages/sklearn/metrics/_classification.py:1344: UndefinedMetricWarning: Precision and F-score are ill-defined and being set to 0.0 in labels with no predicted samples. Use `zero_division` parameter to control this behavior.\n",
      "  _warn_prf(average, modifier, msg_start, len(result))\n",
      "/home/codespace/.python/current/lib/python3.10/site-packages/sklearn/metrics/_classification.py:1344: UndefinedMetricWarning: Precision and F-score are ill-defined and being set to 0.0 in labels with no predicted samples. Use `zero_division` parameter to control this behavior.\n",
      "  _warn_prf(average, modifier, msg_start, len(result))\n",
      "/home/codespace/.python/current/lib/python3.10/site-packages/sklearn/metrics/_classification.py:1344: UndefinedMetricWarning: Precision and F-score are ill-defined and being set to 0.0 in labels with no predicted samples. Use `zero_division` parameter to control this behavior.\n",
      "  _warn_prf(average, modifier, msg_start, len(result))\n",
      "/home/codespace/.python/current/lib/python3.10/site-packages/sklearn/metrics/_classification.py:1344: UndefinedMetricWarning: Precision and F-score are ill-defined and being set to 0.0 in labels with no predicted samples. Use `zero_division` parameter to control this behavior.\n",
      "  _warn_prf(average, modifier, msg_start, len(result))\n",
      "/home/codespace/.python/current/lib/python3.10/site-packages/sklearn/metrics/_classification.py:1344: UndefinedMetricWarning: Precision and F-score are ill-defined and being set to 0.0 in labels with no predicted samples. Use `zero_division` parameter to control this behavior.\n",
      "  _warn_prf(average, modifier, msg_start, len(result))\n",
      "/home/codespace/.python/current/lib/python3.10/site-packages/sklearn/linear_model/_logistic.py:458: ConvergenceWarning: lbfgs failed to converge (status=1):\n",
      "STOP: TOTAL NO. of ITERATIONS REACHED LIMIT.\n",
      "\n",
      "Increase the number of iterations (max_iter) or scale the data as shown in:\n",
      "    https://scikit-learn.org/stable/modules/preprocessing.html\n",
      "Please also refer to the documentation for alternative solver options:\n",
      "    https://scikit-learn.org/stable/modules/linear_model.html#logistic-regression\n",
      "  n_iter_i = _check_optimize_result(\n"
     ]
    },
    {
     "name": "stdout",
     "output_type": "stream",
     "text": [
      "['Pregnancies', 'Glucose', 'BloodPressure', 'SkinThickness', 'Insulin', 'BMI', 'DiabetesPedigreeFunction', 'Age']\n"
     ]
    },
    {
     "name": "stderr",
     "output_type": "stream",
     "text": [
      "/home/codespace/.python/current/lib/python3.10/site-packages/sklearn/linear_model/_logistic.py:458: ConvergenceWarning: lbfgs failed to converge (status=1):\n",
      "STOP: TOTAL NO. of ITERATIONS REACHED LIMIT.\n",
      "\n",
      "Increase the number of iterations (max_iter) or scale the data as shown in:\n",
      "    https://scikit-learn.org/stable/modules/preprocessing.html\n",
      "Please also refer to the documentation for alternative solver options:\n",
      "    https://scikit-learn.org/stable/modules/linear_model.html#logistic-regression\n",
      "  n_iter_i = _check_optimize_result(\n",
      "/home/codespace/.python/current/lib/python3.10/site-packages/sklearn/linear_model/_logistic.py:458: ConvergenceWarning: lbfgs failed to converge (status=1):\n",
      "STOP: TOTAL NO. of ITERATIONS REACHED LIMIT.\n",
      "\n",
      "Increase the number of iterations (max_iter) or scale the data as shown in:\n",
      "    https://scikit-learn.org/stable/modules/preprocessing.html\n",
      "Please also refer to the documentation for alternative solver options:\n",
      "    https://scikit-learn.org/stable/modules/linear_model.html#logistic-regression\n",
      "  n_iter_i = _check_optimize_result(\n",
      "/home/codespace/.python/current/lib/python3.10/site-packages/sklearn/linear_model/_logistic.py:458: ConvergenceWarning: lbfgs failed to converge (status=1):\n",
      "STOP: TOTAL NO. of ITERATIONS REACHED LIMIT.\n",
      "\n",
      "Increase the number of iterations (max_iter) or scale the data as shown in:\n",
      "    https://scikit-learn.org/stable/modules/preprocessing.html\n",
      "Please also refer to the documentation for alternative solver options:\n",
      "    https://scikit-learn.org/stable/modules/linear_model.html#logistic-regression\n",
      "  n_iter_i = _check_optimize_result(\n",
      "/home/codespace/.python/current/lib/python3.10/site-packages/sklearn/linear_model/_logistic.py:458: ConvergenceWarning: lbfgs failed to converge (status=1):\n",
      "STOP: TOTAL NO. of ITERATIONS REACHED LIMIT.\n",
      "\n",
      "Increase the number of iterations (max_iter) or scale the data as shown in:\n",
      "    https://scikit-learn.org/stable/modules/preprocessing.html\n",
      "Please also refer to the documentation for alternative solver options:\n",
      "    https://scikit-learn.org/stable/modules/linear_model.html#logistic-regression\n",
      "  n_iter_i = _check_optimize_result(\n"
     ]
    }
   ],
   "source": [
    "import itertools\n",
    "\n",
    "combinations = []\n",
    "\n",
    "for i in range(1, 9):\n",
    "    combs_at_i = list(itertools.combinations(features, i))\n",
    "    combinations.extend(combs_at_i)\n",
    "\n",
    "print(combinations)\n",
    "\n",
    "accuracy = 0\n",
    "best_X = 0\n",
    "\n",
    "for feature_set in combinations:\n",
    "    X = df[list(feature_set)]\n",
    "    y = df.Outcome\n",
    "    X_train, X_test, y_train, y_test = train_test_split(X, y, test_size=0.25, random_state=11)\n",
    "\n",
    "    lr_iterated = LogisticRegression(random_state=1)\n",
    "\n",
    "    lr_iterated.fit(X_train, y_train)\n",
    "    y_pred = lr_iterated.predict(X_test)\n",
    "\n",
    "    output_report = classification_report(y_test, y_pred, target_names=target_names, output_dict=True)\n",
    "\n",
    "    acc = output_report['accuracy']\n",
    "    if acc > accuracy:\n",
    "        accuracy = acc\n",
    "        best_X = list(feature_set)\n",
    "\n",
    "print(best_X)"
   ]
  }
 ],
 "metadata": {
  "kernelspec": {
   "display_name": "Python 3",
   "language": "python",
   "name": "python3"
  },
  "language_info": {
   "codemirror_mode": {
    "name": "ipython",
    "version": 3
   },
   "file_extension": ".py",
   "mimetype": "text/x-python",
   "name": "python",
   "nbconvert_exporter": "python",
   "pygments_lexer": "ipython3",
   "version": "3.10.8"
  }
 },
 "nbformat": 4,
 "nbformat_minor": 2
}
