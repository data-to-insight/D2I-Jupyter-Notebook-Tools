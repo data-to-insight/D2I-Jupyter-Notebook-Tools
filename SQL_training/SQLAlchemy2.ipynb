{
 "cells": [
  {
   "cell_type": "code",
   "execution_count": 1,
   "metadata": {},
   "outputs": [
    {
     "data": {
      "text/plain": [
       "['address',\n",
       " 'address_status',\n",
       " 'author',\n",
       " 'book',\n",
       " 'book_author',\n",
       " 'book_language',\n",
       " 'country',\n",
       " 'cust_order',\n",
       " 'customer',\n",
       " 'customer_address',\n",
       " 'order_history',\n",
       " 'order_line',\n",
       " 'order_status',\n",
       " 'publisher',\n",
       " 'shipping_method']"
      ]
     },
     "execution_count": 1,
     "metadata": {},
     "output_type": "execute_result"
    }
   ],
   "source": [
    "# The task is to use SQLAlchemy and pandas and, any way you want, find out: The name of the author who has the most books in the database, and what those books are\n",
    "# A stretch task is to find out how many orders have been placed which contain books by that author.\n",
    "# Remember to pip install sqlalchemy\n",
    "from sqlalchemy import create_engine, inspect\n",
    "\n",
    "engine = create_engine(\"sqlite+pysqlite:////workspaces/D2I-Jupyter-Notebook-Tools/SQL_training/gravity.db\")\n",
    "\n",
    "connection = engine.connect()\n",
    "inspection = inspect(engine)\n",
    "inspection.get_table_names()\n"
   ]
  },
  {
   "cell_type": "code",
   "execution_count": 21,
   "metadata": {},
   "outputs": [
    {
     "name": "stdout",
     "output_type": "stream",
     "text": [
      "['book_id', 'title', 'isbn13', 'language_id', 'num_pages', 'publication_date', 'publisher_id']\n",
      "['book_id', 'author_id']\n",
      "['author_id', 'author_name']\n"
     ]
    },
    {
     "data": {
      "text/plain": [
       "author_name\n",
       "Stephen King         70\n",
       "Sandra Brown         46\n",
       "P.G. Wodehouse       45\n",
       "Mercedes Lackey      43\n",
       "Orson Scott Card     40\n",
       "                     ..\n",
       "J.R. Hyland           1\n",
       "J.P. Seaton           1\n",
       "J.M.D. Meiklejohn     1\n",
       "J.M. Synge            1\n",
       "趙丕慧                   1\n",
       "Name: count, Length: 9094, dtype: int64"
      ]
     },
     "execution_count": 21,
     "metadata": {},
     "output_type": "execute_result"
    }
   ],
   "source": [
    "from sqlalchemy import MetaData, Table, select\n",
    "import pandas as pd\n",
    "\n",
    "metadata = MetaData()\n",
    "\n",
    "book = Table('book', metadata, autoload_with=engine)\n",
    "print(book.c.keys())\n",
    "\n",
    "book_author = Table('book_author', metadata, autoload_with=engine)\n",
    "print(book_author.c.keys())\n",
    "\n",
    "author = Table('author', metadata, autoload_with=engine)\n",
    "print(author.c.keys())\n",
    "\n",
    "with engine.connect() as con:\n",
    "    stmt = select(author.columns.author_name, book.columns.title).select_from(\n",
    "        book_author.join(book, book_author.columns.book_id == book.columns.book_id)).join(author, book_author.columns.author_id == author.columns.author_id)\n",
    "    results = con.execute(stmt).fetchall()\n",
    "\n",
    "df = pd.DataFrame(results)\n",
    "df_count = df.value_counts('author_name')\n",
    "df_count\n"
   ]
  }
 ],
 "metadata": {
  "kernelspec": {
   "display_name": "Python 3",
   "language": "python",
   "name": "python3"
  },
  "language_info": {
   "codemirror_mode": {
    "name": "ipython",
    "version": 3
   },
   "file_extension": ".py",
   "mimetype": "text/x-python",
   "name": "python",
   "nbconvert_exporter": "python",
   "pygments_lexer": "ipython3",
   "version": "3.10.8"
  }
 },
 "nbformat": 4,
 "nbformat_minor": 2
}
