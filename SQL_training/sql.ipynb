{
 "cells": [
  {
   "cell_type": "code",
   "execution_count": 66,
   "metadata": {},
   "outputs": [
    {
     "name": "stdout",
     "output_type": "stream",
     "text": [
      "2023-09-21 13:40:40,286 INFO sqlalchemy.engine.Engine BEGIN (implicit)\n",
      "2023-09-21 13:40:40,287 INFO sqlalchemy.engine.Engine SELECT name FROM sqlite_master WHERE type='table' AND name NOT LIKE 'sqlite~_%' ESCAPE '~' ORDER BY name\n",
      "2023-09-21 13:40:40,288 INFO sqlalchemy.engine.Engine [raw sql] ()\n",
      "2023-09-21 13:40:40,290 INFO sqlalchemy.engine.Engine ROLLBACK\n"
     ]
    },
    {
     "data": {
      "text/plain": [
       "['albums',\n",
       " 'artists',\n",
       " 'customers',\n",
       " 'employees',\n",
       " 'genres',\n",
       " 'invoice_items',\n",
       " 'invoices',\n",
       " 'media_types',\n",
       " 'playlist_track',\n",
       " 'playlists',\n",
       " 'tracks']"
      ]
     },
     "execution_count": 66,
     "metadata": {},
     "output_type": "execute_result"
    }
   ],
   "source": [
    "from sqlalchemy import create_engine, inspect\n",
    "engine = create_engine(\"sqlite+pysqlite:////workspaces/D2I-Jupyter-Notebook-Tools/SQL_training/chinook.db\", echo=True)\n",
    "\n",
    "connection = engine.connect()\n",
    "inspection = inspect(engine)\n",
    "inspection.get_table_names()\n"
   ]
  },
  {
   "cell_type": "code",
   "execution_count": null,
   "metadata": {},
   "outputs": [],
   "source": []
  },
  {
   "cell_type": "code",
   "execution_count": 67,
   "metadata": {},
   "outputs": [
    {
     "name": "stdout",
     "output_type": "stream",
     "text": [
      "2023-09-21 13:40:40,333 INFO sqlalchemy.engine.Engine BEGIN (implicit)\n",
      "2023-09-21 13:40:40,335 INFO sqlalchemy.engine.Engine PRAGMA main.table_xinfo(\"artists\")\n",
      "2023-09-21 13:40:40,337 INFO sqlalchemy.engine.Engine [raw sql] ()\n",
      "2023-09-21 13:40:40,338 INFO sqlalchemy.engine.Engine SELECT sql FROM  (SELECT * FROM sqlite_master UNION ALL   SELECT * FROM sqlite_temp_master) WHERE name = ? AND type in ('table', 'view')\n",
      "2023-09-21 13:40:40,338 INFO sqlalchemy.engine.Engine [raw sql] ('artists',)\n",
      "2023-09-21 13:40:40,340 INFO sqlalchemy.engine.Engine PRAGMA main.foreign_key_list(\"artists\")\n",
      "2023-09-21 13:40:40,340 INFO sqlalchemy.engine.Engine [raw sql] ()\n",
      "2023-09-21 13:40:40,341 INFO sqlalchemy.engine.Engine PRAGMA temp.foreign_key_list(\"artists\")\n",
      "2023-09-21 13:40:40,342 INFO sqlalchemy.engine.Engine [raw sql] ()\n",
      "2023-09-21 13:40:40,343 INFO sqlalchemy.engine.Engine SELECT sql FROM  (SELECT * FROM sqlite_master UNION ALL   SELECT * FROM sqlite_temp_master) WHERE name = ? AND type in ('table', 'view')\n",
      "2023-09-21 13:40:40,343 INFO sqlalchemy.engine.Engine [raw sql] ('artists',)\n",
      "2023-09-21 13:40:40,345 INFO sqlalchemy.engine.Engine PRAGMA main.index_list(\"artists\")\n",
      "2023-09-21 13:40:40,345 INFO sqlalchemy.engine.Engine [raw sql] ()\n",
      "2023-09-21 13:40:40,346 INFO sqlalchemy.engine.Engine PRAGMA temp.index_list(\"artists\")\n",
      "2023-09-21 13:40:40,347 INFO sqlalchemy.engine.Engine [raw sql] ()\n",
      "2023-09-21 13:40:40,348 INFO sqlalchemy.engine.Engine PRAGMA main.table_info(\"artists\")\n",
      "2023-09-21 13:40:40,351 INFO sqlalchemy.engine.Engine [raw sql] ()\n",
      "2023-09-21 13:40:40,351 INFO sqlalchemy.engine.Engine PRAGMA main.index_list(\"artists\")\n",
      "2023-09-21 13:40:40,352 INFO sqlalchemy.engine.Engine [raw sql] ()\n",
      "2023-09-21 13:40:40,353 INFO sqlalchemy.engine.Engine PRAGMA temp.index_list(\"artists\")\n",
      "2023-09-21 13:40:40,353 INFO sqlalchemy.engine.Engine [raw sql] ()\n",
      "2023-09-21 13:40:40,354 INFO sqlalchemy.engine.Engine PRAGMA main.table_info(\"artists\")\n",
      "2023-09-21 13:40:40,355 INFO sqlalchemy.engine.Engine [raw sql] ()\n",
      "2023-09-21 13:40:40,356 INFO sqlalchemy.engine.Engine SELECT sql FROM  (SELECT * FROM sqlite_master UNION ALL   SELECT * FROM sqlite_temp_master) WHERE name = ? AND type in ('table', 'view')\n",
      "2023-09-21 13:40:40,356 INFO sqlalchemy.engine.Engine [raw sql] ('artists',)\n",
      "2023-09-21 13:40:40,357 INFO sqlalchemy.engine.Engine ROLLBACK\n",
      "Table('artists', MetaData(), Column('ArtistId', INTEGER(), table=<artists>, primary_key=True, nullable=False), Column('Name', NVARCHAR(length=120), table=<artists>), schema=None)\n"
     ]
    }
   ],
   "source": [
    "from sqlalchemy import MetaData, Table\n",
    "\n",
    "metadata = MetaData()\n",
    "\n",
    "artists = Table('artists', metadata, autoload_with=engine)\n",
    "\n",
    "# print(track.name)\n",
    "\n",
    "# print(tracks.c.keys())\n",
    "\n",
    "print(repr(artists)) # table definition\n"
   ]
  },
  {
   "cell_type": "code",
   "execution_count": 68,
   "metadata": {},
   "outputs": [],
   "source": [
    "# from sqlalchemy import text\n",
    "\n",
    "# with connection as con:\n",
    "#     stmt = \"SELECT * FROM tracks\"\n",
    "#     results_proxy = con.execute(text(stmt))\n",
    "#     results = results_proxy.fetchall()\n",
    "\n",
    "# first_row = results[0]\n",
    "\n",
    "# # print(first_row) # print entire first row\n",
    "\n",
    "# # print(first_row.Name) # print Name column from first row\n",
    "\n",
    "# # unpack multiple rows - column Name\n",
    "# multiple_rows = results[:10]\n",
    "# for row in multiple_rows:\n",
    "#     print(row.Name)\n"
   ]
  },
  {
   "cell_type": "code",
   "execution_count": 69,
   "metadata": {},
   "outputs": [],
   "source": [
    "# with connection as con:\n",
    "#     stmt = \"SELECT * FROM artists\"\n",
    "#     results_proxy = con.execute(text(stmt))\n",
    "#     results = results_proxy.fetchall()\n",
    "\n",
    "# first_row = results[0]\n",
    "\n",
    "# print(first_row) # print entire first row"
   ]
  },
  {
   "cell_type": "code",
   "execution_count": 71,
   "metadata": {},
   "outputs": [
    {
     "name": "stdout",
     "output_type": "stream",
     "text": [
      "2023-09-21 13:40:47,841 INFO sqlalchemy.engine.Engine BEGIN (implicit)\n",
      "2023-09-21 13:40:47,842 INFO sqlalchemy.engine.Engine SELECT artists.\"ArtistId\", artists.\"Name\" \n",
      "FROM artists\n",
      "2023-09-21 13:40:47,843 INFO sqlalchemy.engine.Engine [cached since 7.388s ago] ()\n",
      "2023-09-21 13:40:47,844 INFO sqlalchemy.engine.Engine ROLLBACK\n",
      "[(1, 'AC/DC'), (2, 'Accept'), (3, 'Aerosmith'), (4, 'Alanis Morissette'), (5, 'Alice In Chains'), (6, 'Antônio Carlos Jobim'), (7, 'Apocalyptica'), (8, 'Audioslave'), (9, 'BackBeat'), (10, 'Billy Cobham')]\n"
     ]
    }
   ],
   "source": [
    "from sqlalchemy import select\n",
    "\n",
    "with engine.connect() as con:\n",
    "    stmt = select(artists)\n",
    "    results_proxy = con.execute(stmt)\n",
    "    results = results_proxy.fetchmany(size=10)\n",
    "print(results)"
   ]
  },
  {
   "cell_type": "code",
   "execution_count": 76,
   "metadata": {},
   "outputs": [
    {
     "name": "stdout",
     "output_type": "stream",
     "text": [
      "2023-09-21 13:49:27,293 INFO sqlalchemy.engine.Engine BEGIN (implicit)\n",
      "2023-09-21 13:49:27,294 INFO sqlalchemy.engine.Engine SELECT artists.\"ArtistId\", artists.\"Name\" \n",
      "FROM artists \n",
      "WHERE artists.\"ArtistId\" = ? OR artists.\"Name\" = ?\n",
      "2023-09-21 13:49:27,295 INFO sqlalchemy.engine.Engine [cached since 10.94s ago] (1, 'Alice In Chains')\n",
      "2023-09-21 13:49:27,297 INFO sqlalchemy.engine.Engine ROLLBACK\n",
      "[(1, 'AC/DC'), (5, 'Alice In Chains')]\n"
     ]
    }
   ],
   "source": [
    "from sqlalchemy import or_\n",
    "\n",
    "with engine.connect() as con:\n",
    "    stmt = select(artists)\n",
    "    stmt = stmt.where(or_(artists.columns.ArtistId == 1,\n",
    "                          artists.columns.Name == 'Alice In Chains' ))\n",
    "    results = con.execute(stmt).fetchall()\n",
    "print(results)"
   ]
  },
  {
   "cell_type": "code",
   "execution_count": 81,
   "metadata": {},
   "outputs": [
    {
     "name": "stdout",
     "output_type": "stream",
     "text": [
      "2023-09-21 13:54:48,219 INFO sqlalchemy.engine.Engine BEGIN (implicit)\n",
      "2023-09-21 13:54:48,220 INFO sqlalchemy.engine.Engine SELECT artists.\"ArtistId\", artists.\"Name\" \n",
      "FROM artists ORDER BY artists.\"Name\" DESC\n",
      "2023-09-21 13:54:48,221 INFO sqlalchemy.engine.Engine [cached since 92.82s ago] ()\n",
      "2023-09-21 13:54:48,223 INFO sqlalchemy.engine.Engine ROLLBACK\n",
      "[(155, 'Zeca Pagodinho'), (168, \"Youssou N'Dour\"), (212, 'Yo-Yo Ma'), (255, 'Yehudi Menuhin'), (181, 'Xis'), (211, 'Wilhelm Kempff'), (154, 'Whitesnake'), (73, 'Vinícius E Qurteto Em Cy'), (74, 'Vinícius E Odette Lara'), (71, 'Vinícius De Moraes & Baden Powell'), (72, 'Vinícius De Moraes'), (75, 'Vinicius, Toquinho & Quarteto Em Cy'), (153, 'Velvet Revolver'), (21, 'Various Artists'), (152, 'Van Halen'), (151, 'UB40'), (150, 'U2'), (70, 'Toquinho & Vinícius'), (231, 'Ton Koopman'), (146, 'Titãs'), (145, 'Tim Maia'), (144, 'The Who'), (143, 'The Tea Party'), (142, 'The Rolling Stones'), (174, 'The Postal Service'), (200, 'The Posies'), (141, 'The Police'), (156, 'The Office'), (247, \"The King's Singers\"), (176, 'The Flaming Lips'), (140, 'The Doors'), (139, 'The Cult'), (138, 'The Clash'), (137, 'The Black Crowes'), (259, 'The 12 Cellists of The Berlin Philharmonic'), (136, 'Terry Bozzio, Tony Levin & Steve Stevens'), (204, 'Temple of the Dog'), (135, 'System Of A Down'), (134, 'Stone Temple Pilots'), (133, 'Stevie Ray Vaughan & Double Trouble'), (195, 'Stereo Maracana'), (53, 'Spyro Gyra'), (132, 'Soundgarden'), (172, 'Snow Patrol'), (131, 'Smashing Pumpkins'), (130, 'Skank'), (249, 'Sir Georg Solti, Sumi Jo & Wiener Philharmoniker'), (221, 'Sir Georg Solti & Wiener Philharmoniker'), (129, 'Simply Red'), (193, 'Seu Jorge'), (232, 'Sergei Prokofiev & Yuri Temirkanov'), (179, 'Scorpions'), (213, 'Scholars Baroque Ensemble'), (64, 'Santana Feat. The Project G&B'), (62, 'Santana Feat. Rob Thomas'), (65, 'Santana Feat. Maná'), (63, 'Santana Feat. Lauryn Hill & Cee-Lo'), (61, 'Santana Feat. Everlast'), (67, 'Santana Feat. Eric Clapton'), (66, 'Santana Feat. Eagle-Eye Cherry'), (60, 'Santana Feat. Dave Matthews'), (59, 'Santana'), (45, 'Sandra De Sá'), (194, 'Sabotage E Instituto'), (128, 'Rush'), (217, 'Royal Philharmonic Orchestra & Sir Thomas Beecham'), (261, 'Roger Norrington, London Classical Players'), (184, 'Rodox'), (207, 'Richard Marlow & The Choir of Trinity College, Cambridge'), (178, 'Regina Spektor'), (127, 'Red Hot Chili Peppers'), (126, 'Raul Seixas'), (125, 'Raimundos'), (122, 'R.E.M. Feat. Kate Pearson'), (123, 'R.E.M. Feat. KRS-One'), (124, 'R.E.M.'), (51, 'Queen'), (121, 'Planet Hemp'), (120, 'Pink Floyd'), (275, 'Philip Glass Ensemble'), (256, 'Philharmonia Orchestra & Sir Neville Marriner'), (119, 'Peter Tosh'), (186, 'Pedro Luís E A Parede'), (35, 'Pedro Luís & A Parede'), (118, 'Pearl Jam'), (117, \"Paul D'Ianno\"), (116, 'Passengers'), (115, 'Page & Plant'), (114, 'Ozzy Osbourne'), (254, 'Otto Klemperer & Philharmonia Orchestra'), (189, 'Otto'), (113, 'Os Paralamas Do Sucesso'), (57, 'Os Mutantes'), (40, 'Os Cariocas'), (218, 'Orchestre Révolutionnaire et Romantique & John Eliot Gardiner'), (234, 'Orchestra of The Age of Enlightenment'), (112, 'Olodum'), (111, 'O Terço'), (36, 'O Rappa'), (110, 'Nirvana'), (203, 'Nicolaus Esterhazy Sinfonia'), (32, 'Ney Matogrosso'), (182, 'Nega Gizza'), (191, 'Nação Zumbi'), (274, 'Nash Ensemble'), (34, 'Nando Reis'), (109, 'Mötley Crüe'), (108, 'Mônica Marianno'), (188, 'Mundo Livre S/A'), (107, 'Motörhead & Girlschool'), (106, 'Motörhead'), (25, 'Milton Nascimento & Bebeto'), (42, 'Milton Nascimento'), (68, 'Miles Davis'), (269, 'Michele Campanella'), (245, 'Michael Tilson Thomas & San Francisco Symphony'), (50, 'Metallica'), (105, 'Men At Work'), (271, 'Mela Tenenbaum, Pro Musica Prague & Richard Kapp'), (238, 'Maurizio Pollini'), (173, 'Matisyahu'), (104, 'Marvin Gaye'), (266, 'Martin Roscoe'), (103, 'Marisa Monte'), (102, 'Marillion'), (24, 'Marcos Valle'), (101, 'Lulu Santos'), (33, 'Luiz Melodia'), (227, 'Luciano Pavarotti'), (201, 'Luciana Souza/Romero Lubambo'), (149, 'Lost'), (162, 'Los Lonely Boys'), (187, 'Los Hermanos'), (223, 'London Symphony Orchestra & Sir Charles Mackerras'), (258, 'Les Arts Florissants & William Christie'), (228, 'Leonard Bernstein & New York Philharmonic'), (100, 'Lenny Kravitz'), (99, 'Legião Urbana'), (22, 'Led Zeppelin'), (52, 'Kiss'), (44, 'Kid Abelha'), (264, \"Kent Nagano and Orchestre de l'Opéra de Lyon\"), (199, 'Karsh Kale'), (265, 'Julian Bream'), (98, 'Judas Priest'), (97, 'João Suplicy'), (28, 'João Gilberto'), (96, 'Jota Quest'), (30, 'Jorge Vercilo'), (46, 'Jorge Ben'), (95, 'Joe Satriani'), (94, 'Jimi Hendrix'), (92, 'Jamiroquai'), (236, 'James Levine'), (91, 'James Brown'), (175, 'Jaguares'), (165, 'Jackson Browne'), (177, \"Jack's Mannequin & Mick Fleetwood\"), (170, 'Jack Johnson'), (93, 'JET'), (268, 'Itzhak Perlman'), (90, 'Iron Maiden'), (190, 'Instituto'), (89, 'Incognito'), (180, 'House Of Pain'), (210, 'Hilary Hahn, Jeffrey Kahane, Los Angeles Chamber Orchestra & Margaret Batjer'), (148, 'Heroes'), (47, 'Hermeto Pascoal'), (225, 'Herbert Von Karajan, Mirella Freni & Wiener Philharmoniker'), (198, 'Habib Koité and Bamada'), (267, 'Göteborgs Symfoniker & Neeme Järvi'), (183, 'Gustavo & Andres Veiga & Salazar'), (240, 'Gustav Mahler'), (88, \"Guns N' Roses\"), (54, 'Green Day'), (56, 'Gonzaguinha'), (87, 'Godsmack'), (27, 'Gilberto Gil'), (270, 'Gerald Moore'), (69, 'Gene Krupa'), (86, 'Funk Como Le Gusta'), (251, 'Fretwork'), (23, 'Frank Zappa & Captain Beefheart'), (85, 'Frank Sinatra'), (84, 'Foo Fighters'), (39, 'Fernanda Porto'), (241, 'Felix Schmidt, London Symphony Orchestra & Rafael Frühbeck de Burgos'), (83, 'Falamansa'), (82, 'Faith No More'), (226, 'Eugene Ormandy'), (81, 'Eric Clapton'), (263, 'Equale Brass Ensemble, John Eliot Gardiner & Munich Monteverdi Orchestra and Choir'), (208, 'English Concert & Trevor Pinnock'), (272, 'Emerson String Quartet'), (235, 'Emanuel Ax, Eugene Ormandy & Philadelphia Orchestra'), (41, 'Elis Regina'), (49, 'Edson, DJ Marky & DJ Patife Featuring Fernanda Porto'), (242, 'Edo de Waart & San Francisco Symphony'), (37, 'Ed Motta'), (157, 'Dread Zeppelin'), (80, 'Djavan'), (164, 'Dhani Harrison & Jakob Dylan'), (79, 'Dennis Chambers'), (78, 'Def Leppard'), (58, 'Deep Purple'), (55, 'David Coverdale'), (192, 'DJ Dolores & Orchestra Santa Massa'), (77, 'Cássia Eller'), (76, 'Creedence Clearwater Revival'), (163, 'Corinne Bailey Rae'), (20, 'Cláudio Zoli'), (19, 'Cidade Negra'), (250, \"Christopher O'Riley\"), (160, 'Christina Aguilera featuring BigElf'), (205, 'Chris Cornell'), (246, 'Chor der Wiener Staatsoper, Herbert Von Karajan & Wiener Philharmoniker'), (244, 'Choir Of Westminster Abbey & Simon Preston'), (18, 'Chico Science & Nação Zumbi'), (17, 'Chico Buarque'), (233, 'Chicago Symphony Orchestra & Fritz Reiner'), (220, 'Chicago Symphony Chorus, Chicago Symphony Orchestra & Sir Georg Solti'), (185, 'Charlie Brown Jr.'), (262, \"Charles Dutoit & L'Orchestre Symphonique de Montréal\"), (253, 'Calexico'), (196, 'Cake'), (16, 'Caetano Veloso'), (273, 'C. Monteverdi, Nigel Rogers - Chiaroscuro; London Baroque; London Cornett & Sackbu'), (15, 'Buddy Guy'), (14, 'Bruce Dickinson'), (219, 'Britten Sinfonia, Ivor Bolton & Lesley Garrett'), (229, 'Boston Symphony Orchestra & Seiji Ozawa'), (13, 'Body Count'), (12, 'Black Sabbath'), (11, 'Black Label Society'), (169, 'Black Eyed Peas'), (10, 'Billy Cobham'), (167, 'Big & Rich'), (216, 'Berliner Philharmoniker, Claudio Abbado & Sabine Meyer'), (248, 'Berliner Philharmoniker & Herbert Von Karajan'), (237, 'Berliner Philharmoniker & Hans Rosbaud'), (171, 'Ben Harper'), (29, 'Bebel Gilberto'), (158, 'Battlestar Galactica (Classic)'), (147, 'Battlestar Galactica'), (48, 'Barão Vermelho'), (224, 'Barry Wordsworth & BBC Concert Orchestra'), (38, 'Banda Black Rio'), (9, 'BackBeat'), (31, 'Baby Consuelo'), (26, 'Azymuth'), (166, 'Avril Lavigne'), (8, 'Audioslave'), (159, 'Aquaman'), (7, 'Apocalyptica'), (6, 'Antônio Carlos Jobim'), (243, 'Antal Doráti & London Symphony Orchestra'), (209, 'Anne-Sophie Mutter, Herbert Von Karajan & Wiener Philharmoniker'), (252, 'Amy Winehouse'), (5, 'Alice In Chains'), (206, 'Alberto Turco & Nova Schola Gregoriana'), (4, 'Alanis Morissette'), (197, 'Aisha Duo'), (161, \"Aerosmith & Sierra Leone's Refugee Allstars\"), (3, 'Aerosmith'), (260, 'Adrian Leaper & Doreen de Feis'), (2, 'Accept'), (239, 'Academy of St. Martin in the Fields, Sir Neville Marriner & William Bennett'), (257, 'Academy of St. Martin in the Fields, Sir Neville Marriner & Thurston Dart'), (222, 'Academy of St. Martin in the Fields, John Birch, Sir Neville Marriner & Sylvia McNair'), (215, 'Academy of St. Martin in the Fields Chamber Ensemble & Sir Neville Marriner'), (214, 'Academy of St. Martin in the Fields & Sir Neville Marriner'), (202, 'Aaron Goldberg'), (230, 'Aaron Copland & London Symphony Orchestra'), (1, 'AC/DC'), (43, 'A Cor Do Som')]\n"
     ]
    }
   ],
   "source": [
    "with engine.connect() as con:\n",
    "    stmt = select(artists).order_by(artists.columns.Name.desc())\n",
    "    results = con.execute(stmt).fetchall()\n",
    "print(results)"
   ]
  },
  {
   "cell_type": "code",
   "execution_count": 83,
   "metadata": {},
   "outputs": [
    {
     "name": "stdout",
     "output_type": "stream",
     "text": [
      "2023-09-21 13:58:45,664 INFO sqlalchemy.engine.Engine BEGIN (implicit)\n",
      "2023-09-21 13:58:45,666 INFO sqlalchemy.engine.Engine SELECT sum(artists.\"ArtistId\") AS sum_1 \n",
      "FROM artists\n",
      "2023-09-21 13:58:45,667 INFO sqlalchemy.engine.Engine [generated in 0.00253s] ()\n",
      "2023-09-21 13:58:45,668 INFO sqlalchemy.engine.Engine ROLLBACK\n",
      "37950\n"
     ]
    }
   ],
   "source": [
    "from sqlalchemy import func\n",
    "\n",
    "with engine.connect() as con:\n",
    "    stmt = select(func.sum(artists.columns.ArtistId))\n",
    "    results = con.execute(stmt).scalar()\n",
    "print(results)\n"
   ]
  }
 ],
 "metadata": {
  "kernelspec": {
   "display_name": "Python 3",
   "language": "python",
   "name": "python3"
  },
  "language_info": {
   "codemirror_mode": {
    "name": "ipython",
    "version": 3
   },
   "file_extension": ".py",
   "mimetype": "text/x-python",
   "name": "python",
   "nbconvert_exporter": "python",
   "pygments_lexer": "ipython3",
   "version": "3.10.8"
  },
  "orig_nbformat": 4
 },
 "nbformat": 4,
 "nbformat_minor": 2
}
