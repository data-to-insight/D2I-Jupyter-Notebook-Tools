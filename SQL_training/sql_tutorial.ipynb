{
 "cells": [
  {
   "cell_type": "code",
   "execution_count": 32,
   "metadata": {},
   "outputs": [
    {
     "name": "stdout",
     "output_type": "stream",
     "text": [
      "2023-09-21 13:35:22,801 INFO sqlalchemy.engine.Engine BEGIN (implicit)\n",
      "2023-09-21 13:35:22,802 INFO sqlalchemy.engine.Engine SELECT name FROM sqlite_master WHERE type='table' AND name NOT LIKE 'sqlite~_%' ESCAPE '~' ORDER BY name\n",
      "2023-09-21 13:35:22,803 INFO sqlalchemy.engine.Engine [raw sql] ()\n",
      "2023-09-21 13:35:22,805 INFO sqlalchemy.engine.Engine ROLLBACK\n"
     ]
    },
    {
     "data": {
      "text/plain": [
       "['albums',\n",
       " 'artists',\n",
       " 'customers',\n",
       " 'employees',\n",
       " 'genres',\n",
       " 'invoice_items',\n",
       " 'invoices',\n",
       " 'media_types',\n",
       " 'playlist_track',\n",
       " 'playlists',\n",
       " 'tracks']"
      ]
     },
     "execution_count": 32,
     "metadata": {},
     "output_type": "execute_result"
    }
   ],
   "source": [
    "from sqlalchemy import create_engine, inspect\n",
    "engine = create_engine('sqlite+pysqlite://///workspaces/D2I-Jupyter-Notebook-Tools/SQL_training/chinook.db', echo=True)\n",
    "\n",
    "connection = engine.connect()\n",
    "inspection = inspect(engine)\n",
    "inspection.get_table_names()"
   ]
  },
  {
   "cell_type": "code",
   "execution_count": 29,
   "metadata": {},
   "outputs": [
    {
     "name": "stdout",
     "output_type": "stream",
     "text": [
      "2023-09-21 13:35:15,648 INFO sqlalchemy.engine.Engine BEGIN (implicit)\n",
      "2023-09-21 13:35:15,649 INFO sqlalchemy.engine.Engine PRAGMA main.table_xinfo(\"tracks\")\n",
      "2023-09-21 13:35:15,650 INFO sqlalchemy.engine.Engine [raw sql] ()\n",
      "2023-09-21 13:35:15,651 INFO sqlalchemy.engine.Engine SELECT sql FROM  (SELECT * FROM sqlite_master UNION ALL   SELECT * FROM sqlite_temp_master) WHERE name = ? AND type in ('table', 'view')\n",
      "2023-09-21 13:35:15,652 INFO sqlalchemy.engine.Engine [raw sql] ('tracks',)\n",
      "2023-09-21 13:35:15,653 INFO sqlalchemy.engine.Engine PRAGMA main.foreign_key_list(\"tracks\")\n",
      "2023-09-21 13:35:15,653 INFO sqlalchemy.engine.Engine [raw sql] ()\n",
      "2023-09-21 13:35:15,655 INFO sqlalchemy.engine.Engine SELECT sql FROM  (SELECT * FROM sqlite_master UNION ALL   SELECT * FROM sqlite_temp_master) WHERE name = ? AND type in ('table', 'view')\n",
      "2023-09-21 13:35:15,655 INFO sqlalchemy.engine.Engine [raw sql] ('tracks',)\n",
      "2023-09-21 13:35:15,656 INFO sqlalchemy.engine.Engine PRAGMA main.index_list(\"tracks\")\n",
      "2023-09-21 13:35:15,656 INFO sqlalchemy.engine.Engine [raw sql] ()\n",
      "2023-09-21 13:35:15,657 INFO sqlalchemy.engine.Engine PRAGMA main.index_info(\"IFK_TrackMediaTypeId\")\n",
      "2023-09-21 13:35:15,658 INFO sqlalchemy.engine.Engine [raw sql] ()\n",
      "2023-09-21 13:35:15,659 INFO sqlalchemy.engine.Engine PRAGMA main.index_info(\"IFK_TrackGenreId\")\n",
      "2023-09-21 13:35:15,659 INFO sqlalchemy.engine.Engine [raw sql] ()\n",
      "2023-09-21 13:35:15,660 INFO sqlalchemy.engine.Engine PRAGMA main.index_info(\"IFK_TrackAlbumId\")\n",
      "2023-09-21 13:35:15,662 INFO sqlalchemy.engine.Engine [raw sql] ()\n",
      "2023-09-21 13:35:15,663 INFO sqlalchemy.engine.Engine PRAGMA main.index_list(\"tracks\")\n",
      "2023-09-21 13:35:15,664 INFO sqlalchemy.engine.Engine [raw sql] ()\n",
      "2023-09-21 13:35:15,665 INFO sqlalchemy.engine.Engine PRAGMA main.index_info(\"IFK_TrackMediaTypeId\")\n",
      "2023-09-21 13:35:15,666 INFO sqlalchemy.engine.Engine [raw sql] ()\n",
      "2023-09-21 13:35:15,667 INFO sqlalchemy.engine.Engine PRAGMA main.index_info(\"IFK_TrackGenreId\")\n",
      "2023-09-21 13:35:15,667 INFO sqlalchemy.engine.Engine [raw sql] ()\n",
      "2023-09-21 13:35:15,668 INFO sqlalchemy.engine.Engine PRAGMA main.index_info(\"IFK_TrackAlbumId\")\n",
      "2023-09-21 13:35:15,669 INFO sqlalchemy.engine.Engine [raw sql] ()\n",
      "2023-09-21 13:35:15,673 INFO sqlalchemy.engine.Engine SELECT sql FROM  (SELECT * FROM sqlite_master UNION ALL   SELECT * FROM sqlite_temp_master) WHERE name = ? AND type in ('table', 'view')\n",
      "2023-09-21 13:35:15,673 INFO sqlalchemy.engine.Engine [raw sql] ('tracks',)\n",
      "2023-09-21 13:35:15,678 INFO sqlalchemy.engine.Engine PRAGMA main.table_xinfo(\"media_types\")\n",
      "2023-09-21 13:35:15,679 INFO sqlalchemy.engine.Engine [raw sql] ()\n",
      "2023-09-21 13:35:15,681 INFO sqlalchemy.engine.Engine SELECT sql FROM  (SELECT * FROM sqlite_master UNION ALL   SELECT * FROM sqlite_temp_master) WHERE name = ? AND type in ('table', 'view')\n",
      "2023-09-21 13:35:15,681 INFO sqlalchemy.engine.Engine [raw sql] ('media_types',)\n",
      "2023-09-21 13:35:15,682 INFO sqlalchemy.engine.Engine PRAGMA main.foreign_key_list(\"media_types\")\n",
      "2023-09-21 13:35:15,683 INFO sqlalchemy.engine.Engine [raw sql] ()\n",
      "2023-09-21 13:35:15,684 INFO sqlalchemy.engine.Engine PRAGMA temp.foreign_key_list(\"media_types\")\n",
      "2023-09-21 13:35:15,684 INFO sqlalchemy.engine.Engine [raw sql] ()\n",
      "2023-09-21 13:35:15,685 INFO sqlalchemy.engine.Engine SELECT sql FROM  (SELECT * FROM sqlite_master UNION ALL   SELECT * FROM sqlite_temp_master) WHERE name = ? AND type in ('table', 'view')\n",
      "2023-09-21 13:35:15,686 INFO sqlalchemy.engine.Engine [raw sql] ('media_types',)\n",
      "2023-09-21 13:35:15,686 INFO sqlalchemy.engine.Engine PRAGMA main.index_list(\"media_types\")\n",
      "2023-09-21 13:35:15,687 INFO sqlalchemy.engine.Engine [raw sql] ()\n",
      "2023-09-21 13:35:15,689 INFO sqlalchemy.engine.Engine PRAGMA temp.index_list(\"media_types\")\n",
      "2023-09-21 13:35:15,690 INFO sqlalchemy.engine.Engine [raw sql] ()\n",
      "2023-09-21 13:35:15,691 INFO sqlalchemy.engine.Engine PRAGMA main.table_info(\"media_types\")\n",
      "2023-09-21 13:35:15,693 INFO sqlalchemy.engine.Engine [raw sql] ()\n",
      "2023-09-21 13:35:15,693 INFO sqlalchemy.engine.Engine PRAGMA main.index_list(\"media_types\")\n",
      "2023-09-21 13:35:15,694 INFO sqlalchemy.engine.Engine [raw sql] ()\n",
      "2023-09-21 13:35:15,695 INFO sqlalchemy.engine.Engine PRAGMA temp.index_list(\"media_types\")\n",
      "2023-09-21 13:35:15,695 INFO sqlalchemy.engine.Engine [raw sql] ()\n",
      "2023-09-21 13:35:15,696 INFO sqlalchemy.engine.Engine PRAGMA main.table_info(\"media_types\")\n",
      "2023-09-21 13:35:15,697 INFO sqlalchemy.engine.Engine [raw sql] ()\n",
      "2023-09-21 13:35:15,698 INFO sqlalchemy.engine.Engine SELECT sql FROM  (SELECT * FROM sqlite_master UNION ALL   SELECT * FROM sqlite_temp_master) WHERE name = ? AND type in ('table', 'view')\n",
      "2023-09-21 13:35:15,698 INFO sqlalchemy.engine.Engine [raw sql] ('media_types',)\n",
      "2023-09-21 13:35:15,700 INFO sqlalchemy.engine.Engine PRAGMA main.table_xinfo(\"genres\")\n",
      "2023-09-21 13:35:15,701 INFO sqlalchemy.engine.Engine [raw sql] ()\n",
      "2023-09-21 13:35:15,702 INFO sqlalchemy.engine.Engine SELECT sql FROM  (SELECT * FROM sqlite_master UNION ALL   SELECT * FROM sqlite_temp_master) WHERE name = ? AND type in ('table', 'view')\n",
      "2023-09-21 13:35:15,704 INFO sqlalchemy.engine.Engine [raw sql] ('genres',)\n",
      "2023-09-21 13:35:15,705 INFO sqlalchemy.engine.Engine PRAGMA main.foreign_key_list(\"genres\")\n",
      "2023-09-21 13:35:15,705 INFO sqlalchemy.engine.Engine [raw sql] ()\n",
      "2023-09-21 13:35:15,706 INFO sqlalchemy.engine.Engine PRAGMA temp.foreign_key_list(\"genres\")\n",
      "2023-09-21 13:35:15,707 INFO sqlalchemy.engine.Engine [raw sql] ()\n",
      "2023-09-21 13:35:15,707 INFO sqlalchemy.engine.Engine SELECT sql FROM  (SELECT * FROM sqlite_master UNION ALL   SELECT * FROM sqlite_temp_master) WHERE name = ? AND type in ('table', 'view')\n",
      "2023-09-21 13:35:15,708 INFO sqlalchemy.engine.Engine [raw sql] ('genres',)\n",
      "2023-09-21 13:35:15,709 INFO sqlalchemy.engine.Engine PRAGMA main.index_list(\"genres\")\n",
      "2023-09-21 13:35:15,710 INFO sqlalchemy.engine.Engine [raw sql] ()\n",
      "2023-09-21 13:35:15,710 INFO sqlalchemy.engine.Engine PRAGMA temp.index_list(\"genres\")\n",
      "2023-09-21 13:35:15,711 INFO sqlalchemy.engine.Engine [raw sql] ()\n",
      "2023-09-21 13:35:15,712 INFO sqlalchemy.engine.Engine PRAGMA main.table_info(\"genres\")\n",
      "2023-09-21 13:35:15,712 INFO sqlalchemy.engine.Engine [raw sql] ()\n",
      "2023-09-21 13:35:15,713 INFO sqlalchemy.engine.Engine PRAGMA main.index_list(\"genres\")\n",
      "2023-09-21 13:35:15,714 INFO sqlalchemy.engine.Engine [raw sql] ()\n",
      "2023-09-21 13:35:15,715 INFO sqlalchemy.engine.Engine PRAGMA temp.index_list(\"genres\")\n",
      "2023-09-21 13:35:15,715 INFO sqlalchemy.engine.Engine [raw sql] ()\n",
      "2023-09-21 13:35:15,716 INFO sqlalchemy.engine.Engine PRAGMA main.table_info(\"genres\")\n",
      "2023-09-21 13:35:15,717 INFO sqlalchemy.engine.Engine [raw sql] ()\n",
      "2023-09-21 13:35:15,718 INFO sqlalchemy.engine.Engine SELECT sql FROM  (SELECT * FROM sqlite_master UNION ALL   SELECT * FROM sqlite_temp_master) WHERE name = ? AND type in ('table', 'view')\n",
      "2023-09-21 13:35:15,718 INFO sqlalchemy.engine.Engine [raw sql] ('genres',)\n",
      "2023-09-21 13:35:15,720 INFO sqlalchemy.engine.Engine PRAGMA main.table_xinfo(\"albums\")\n",
      "2023-09-21 13:35:15,721 INFO sqlalchemy.engine.Engine [raw sql] ()\n",
      "2023-09-21 13:35:15,724 INFO sqlalchemy.engine.Engine SELECT sql FROM  (SELECT * FROM sqlite_master UNION ALL   SELECT * FROM sqlite_temp_master) WHERE name = ? AND type in ('table', 'view')\n",
      "2023-09-21 13:35:15,725 INFO sqlalchemy.engine.Engine [raw sql] ('albums',)\n",
      "2023-09-21 13:35:15,726 INFO sqlalchemy.engine.Engine PRAGMA main.foreign_key_list(\"albums\")\n",
      "2023-09-21 13:35:15,727 INFO sqlalchemy.engine.Engine [raw sql] ()\n",
      "2023-09-21 13:35:15,727 INFO sqlalchemy.engine.Engine SELECT sql FROM  (SELECT * FROM sqlite_master UNION ALL   SELECT * FROM sqlite_temp_master) WHERE name = ? AND type in ('table', 'view')\n",
      "2023-09-21 13:35:15,728 INFO sqlalchemy.engine.Engine [raw sql] ('albums',)\n",
      "2023-09-21 13:35:15,733 INFO sqlalchemy.engine.Engine PRAGMA main.index_list(\"albums\")\n",
      "2023-09-21 13:35:15,733 INFO sqlalchemy.engine.Engine [raw sql] ()\n",
      "2023-09-21 13:35:15,736 INFO sqlalchemy.engine.Engine PRAGMA main.index_info(\"IFK_AlbumArtistId\")\n",
      "2023-09-21 13:35:15,736 INFO sqlalchemy.engine.Engine [raw sql] ()\n",
      "2023-09-21 13:35:15,739 INFO sqlalchemy.engine.Engine PRAGMA main.index_list(\"albums\")\n",
      "2023-09-21 13:35:15,739 INFO sqlalchemy.engine.Engine [raw sql] ()\n",
      "2023-09-21 13:35:15,741 INFO sqlalchemy.engine.Engine PRAGMA main.index_info(\"IFK_AlbumArtistId\")\n",
      "2023-09-21 13:35:15,741 INFO sqlalchemy.engine.Engine [raw sql] ()\n",
      "2023-09-21 13:35:15,742 INFO sqlalchemy.engine.Engine SELECT sql FROM  (SELECT * FROM sqlite_master UNION ALL   SELECT * FROM sqlite_temp_master) WHERE name = ? AND type in ('table', 'view')\n",
      "2023-09-21 13:35:15,743 INFO sqlalchemy.engine.Engine [raw sql] ('albums',)\n",
      "2023-09-21 13:35:15,746 INFO sqlalchemy.engine.Engine PRAGMA main.table_xinfo(\"artists\")\n",
      "2023-09-21 13:35:15,747 INFO sqlalchemy.engine.Engine [raw sql] ()\n",
      "2023-09-21 13:35:15,749 INFO sqlalchemy.engine.Engine SELECT sql FROM  (SELECT * FROM sqlite_master UNION ALL   SELECT * FROM sqlite_temp_master) WHERE name = ? AND type in ('table', 'view')\n",
      "2023-09-21 13:35:15,750 INFO sqlalchemy.engine.Engine [raw sql] ('artists',)\n",
      "2023-09-21 13:35:15,751 INFO sqlalchemy.engine.Engine PRAGMA main.foreign_key_list(\"artists\")\n"
     ]
    },
    {
     "name": "stdout",
     "output_type": "stream",
     "text": [
      "2023-09-21 13:35:15,752 INFO sqlalchemy.engine.Engine [raw sql] ()\n",
      "2023-09-21 13:35:15,753 INFO sqlalchemy.engine.Engine PRAGMA temp.foreign_key_list(\"artists\")\n",
      "2023-09-21 13:35:15,754 INFO sqlalchemy.engine.Engine [raw sql] ()\n",
      "2023-09-21 13:35:15,755 INFO sqlalchemy.engine.Engine SELECT sql FROM  (SELECT * FROM sqlite_master UNION ALL   SELECT * FROM sqlite_temp_master) WHERE name = ? AND type in ('table', 'view')\n",
      "2023-09-21 13:35:15,755 INFO sqlalchemy.engine.Engine [raw sql] ('artists',)\n",
      "2023-09-21 13:35:15,757 INFO sqlalchemy.engine.Engine PRAGMA main.index_list(\"artists\")\n",
      "2023-09-21 13:35:15,758 INFO sqlalchemy.engine.Engine [raw sql] ()\n",
      "2023-09-21 13:35:15,759 INFO sqlalchemy.engine.Engine PRAGMA temp.index_list(\"artists\")\n",
      "2023-09-21 13:35:15,760 INFO sqlalchemy.engine.Engine [raw sql] ()\n",
      "2023-09-21 13:35:15,761 INFO sqlalchemy.engine.Engine PRAGMA main.table_info(\"artists\")\n",
      "2023-09-21 13:35:15,762 INFO sqlalchemy.engine.Engine [raw sql] ()\n",
      "2023-09-21 13:35:15,763 INFO sqlalchemy.engine.Engine PRAGMA main.index_list(\"artists\")\n",
      "2023-09-21 13:35:15,764 INFO sqlalchemy.engine.Engine [raw sql] ()\n",
      "2023-09-21 13:35:15,765 INFO sqlalchemy.engine.Engine PRAGMA temp.index_list(\"artists\")\n",
      "2023-09-21 13:35:15,766 INFO sqlalchemy.engine.Engine [raw sql] ()\n",
      "2023-09-21 13:35:15,767 INFO sqlalchemy.engine.Engine PRAGMA main.table_info(\"artists\")\n",
      "2023-09-21 13:35:15,768 INFO sqlalchemy.engine.Engine [raw sql] ()\n",
      "2023-09-21 13:35:15,769 INFO sqlalchemy.engine.Engine SELECT sql FROM  (SELECT * FROM sqlite_master UNION ALL   SELECT * FROM sqlite_temp_master) WHERE name = ? AND type in ('table', 'view')\n",
      "2023-09-21 13:35:15,770 INFO sqlalchemy.engine.Engine [raw sql] ('artists',)\n",
      "2023-09-21 13:35:15,773 INFO sqlalchemy.engine.Engine ROLLBACK\n",
      "['TrackId', 'Name', 'AlbumId', 'MediaTypeId', 'GenreId', 'Composer', 'Milliseconds', 'Bytes', 'UnitPrice']\n"
     ]
    }
   ],
   "source": [
    "from sqlalchemy import MetaData, Table \n",
    "\n",
    "metadata = MetaData()\n",
    "\n",
    "tracks = Table('tracks', metadata, autoload_with=engine)\n",
    "\n",
    "#print(tracks.name)\n",
    "\n",
    "print(tracks.c.keys())\n",
    "\n",
    "#print(repr(tracks))"
   ]
  },
  {
   "cell_type": "code",
   "execution_count": 33,
   "metadata": {},
   "outputs": [
    {
     "name": "stdout",
     "output_type": "stream",
     "text": [
      "2023-09-21 13:35:27,464 INFO sqlalchemy.engine.Engine BEGIN (implicit)\n",
      "2023-09-21 13:35:27,466 INFO sqlalchemy.engine.Engine SELECT * FROM tracks\n",
      "2023-09-21 13:35:27,468 INFO sqlalchemy.engine.Engine [generated in 0.00476s] ()\n",
      "2023-09-21 13:35:27,482 INFO sqlalchemy.engine.Engine ROLLBACK\n",
      "For Those About To Rock (We Salute You)\n",
      "Balls to the Wall\n",
      "Fast As a Shark\n",
      "Restless and Wild\n",
      "Princess of the Dawn\n",
      "Put The Finger On You\n",
      "Let's Get It Up\n",
      "Inject The Venom\n",
      "Snowballed\n",
      "Evil Walks\n"
     ]
    }
   ],
   "source": [
    "from sqlalchemy import text \n",
    "\n",
    "with connection as con:\n",
    "    stmt = 'SELECT * FROM tracks'\n",
    "    results_proxy = con.execute(text(stmt))\n",
    "    results = results_proxy.fetchall()\n",
    "\n",
    "first_row = results[:10]\n",
    "for row in first_row:\n",
    "    print(row.Name)\n"
   ]
  },
  {
   "cell_type": "code",
   "execution_count": 38,
   "metadata": {},
   "outputs": [
    {
     "name": "stdout",
     "output_type": "stream",
     "text": [
      "2023-09-21 13:37:27,936 INFO sqlalchemy.engine.Engine BEGIN (implicit)\n",
      "2023-09-21 13:37:27,938 INFO sqlalchemy.engine.Engine SELECT tracks.\"TrackId\", tracks.\"Name\", tracks.\"AlbumId\", tracks.\"MediaTypeId\", tracks.\"GenreId\", tracks.\"Composer\", tracks.\"Milliseconds\", tracks.\"Bytes\", tracks.\"UnitPrice\" \n",
      "FROM tracks\n",
      "2023-09-21 13:37:27,939 INFO sqlalchemy.engine.Engine [cached since 96.86s ago] ()\n",
      "2023-09-21 13:37:27,940 INFO sqlalchemy.engine.Engine ROLLBACK\n",
      "[(1, 'For Those About To Rock (We Salute You)', 1, 1, 1, 'Angus Young, Malcolm Young, Brian Johnson', 343719, 11170334, Decimal('0.99')), (2, 'Balls to the Wall', 2, 2, 1, None, 342562, 5510424, Decimal('0.99')), (3, 'Fast As a Shark', 3, 2, 1, 'F. Baltes, S. Kaufman, U. Dirkscneider & W. Hoffman', 230619, 3990994, Decimal('0.99')), (4, 'Restless and Wild', 3, 2, 1, 'F. Baltes, R.A. Smith-Diesel, S. Kaufman, U. Dirkscneider & W. Hoffman', 252051, 4331779, Decimal('0.99')), (5, 'Princess of the Dawn', 3, 2, 1, 'Deaffy & R.A. Smith-Diesel', 375418, 6290521, Decimal('0.99')), (6, 'Put The Finger On You', 1, 1, 1, 'Angus Young, Malcolm Young, Brian Johnson', 205662, 6713451, Decimal('0.99')), (7, \"Let's Get It Up\", 1, 1, 1, 'Angus Young, Malcolm Young, Brian Johnson', 233926, 7636561, Decimal('0.99')), (8, 'Inject The Venom', 1, 1, 1, 'Angus Young, Malcolm Young, Brian Johnson', 210834, 6852860, Decimal('0.99')), (9, 'Snowballed', 1, 1, 1, 'Angus Young, Malcolm Young, Brian Johnson', 203102, 6599424, Decimal('0.99')), (10, 'Evil Walks', 1, 1, 1, 'Angus Young, Malcolm Young, Brian Johnson', 263497, 8611245, Decimal('0.99'))]\n",
      "SELECT tracks.\"TrackId\", tracks.\"Name\", tracks.\"AlbumId\", tracks.\"MediaTypeId\", tracks.\"GenreId\", tracks.\"Composer\", tracks.\"Milliseconds\", tracks.\"Bytes\", tracks.\"UnitPrice\" \n",
      "FROM tracks\n"
     ]
    }
   ],
   "source": [
    "from sqlalchemy import select\n",
    "\n",
    "with engine.connect() as con:\n",
    "    stmt = select(tracks)\n",
    "    results_proxy = con.execute(stmt)\n",
    "    results = results_proxy.fetchmany(size=10)\n",
    "print(results)\n",
    "\n",
    "print(stmt)"
   ]
  },
  {
   "cell_type": "code",
   "execution_count": 40,
   "metadata": {},
   "outputs": [
    {
     "name": "stdout",
     "output_type": "stream",
     "text": [
      "2023-09-21 13:47:35,970 INFO sqlalchemy.engine.Engine BEGIN (implicit)\n",
      "2023-09-21 13:47:35,972 INFO sqlalchemy.engine.Engine SELECT tracks.\"TrackId\", tracks.\"Name\", tracks.\"AlbumId\", tracks.\"MediaTypeId\", tracks.\"GenreId\", tracks.\"Composer\", tracks.\"Milliseconds\", tracks.\"Bytes\", tracks.\"UnitPrice\" \n",
      "FROM tracks \n",
      "WHERE tracks.\"AlbumId\" = ? OR tracks.\"AlbumId\" = ?\n",
      "2023-09-21 13:47:35,974 INFO sqlalchemy.engine.Engine [generated in 0.00326s] (1, 2)\n",
      "2023-09-21 13:47:35,975 INFO sqlalchemy.engine.Engine ROLLBACK\n",
      "[(1, 'For Those About To Rock (We Salute You)', 1, 1, 1, 'Angus Young, Malcolm Young, Brian Johnson', 343719, 11170334, Decimal('0.99')), (6, 'Put The Finger On You', 1, 1, 1, 'Angus Young, Malcolm Young, Brian Johnson', 205662, 6713451, Decimal('0.99')), (7, \"Let's Get It Up\", 1, 1, 1, 'Angus Young, Malcolm Young, Brian Johnson', 233926, 7636561, Decimal('0.99')), (8, 'Inject The Venom', 1, 1, 1, 'Angus Young, Malcolm Young, Brian Johnson', 210834, 6852860, Decimal('0.99')), (9, 'Snowballed', 1, 1, 1, 'Angus Young, Malcolm Young, Brian Johnson', 203102, 6599424, Decimal('0.99')), (10, 'Evil Walks', 1, 1, 1, 'Angus Young, Malcolm Young, Brian Johnson', 263497, 8611245, Decimal('0.99')), (11, 'C.O.D.', 1, 1, 1, 'Angus Young, Malcolm Young, Brian Johnson', 199836, 6566314, Decimal('0.99')), (12, 'Breaking The Rules', 1, 1, 1, 'Angus Young, Malcolm Young, Brian Johnson', 263288, 8596840, Decimal('0.99')), (13, 'Night Of The Long Knives', 1, 1, 1, 'Angus Young, Malcolm Young, Brian Johnson', 205688, 6706347, Decimal('0.99')), (14, 'Spellbound', 1, 1, 1, 'Angus Young, Malcolm Young, Brian Johnson', 270863, 8817038, Decimal('0.99')), (2, 'Balls to the Wall', 2, 2, 1, None, 342562, 5510424, Decimal('0.99'))]\n"
     ]
    }
   ],
   "source": [
    "from sqlalchemy import or_\n",
    "\n",
    "with engine.connect() as con:\n",
    "    stmt = select(tracks)\n",
    "    stmt = stmt.where(or_(tracks.columns.AlbumId == 1,\n",
    "                          tracks.columns.AlbumId == 2))\n",
    "    results = con.execute(stmt).fetchall()\n",
    "    \n",
    "print(results)\n"
   ]
  },
  {
   "cell_type": "code",
   "execution_count": 44,
   "metadata": {},
   "outputs": [
    {
     "name": "stdout",
     "output_type": "stream",
     "text": [
      "2023-09-21 13:52:49,657 INFO sqlalchemy.engine.Engine BEGIN (implicit)\n",
      "2023-09-21 13:52:49,658 INFO sqlalchemy.engine.Engine SELECT tracks.\"TrackId\", tracks.\"Name\", tracks.\"AlbumId\", tracks.\"MediaTypeId\", tracks.\"GenreId\", tracks.\"Composer\", tracks.\"Milliseconds\", tracks.\"Bytes\", tracks.\"UnitPrice\" \n",
      "FROM tracks ORDER BY tracks.\"Composer\" DESC\n",
      "2023-09-21 13:52:49,659 INFO sqlalchemy.engine.Engine [generated in 0.00217s] ()\n",
      "2023-09-21 13:52:49,662 INFO sqlalchemy.engine.Engine ROLLBACK\n",
      "[(817, 'Lick It Up', 66, 1, 1, 'roger glover', 240274, 7792604, Decimal('0.99')), (819, 'Talk About Love', 66, 1, 1, 'roger glover', 247823, 8072171, Decimal('0.99')), (820, 'Time To Kill', 66, 1, 1, 'roger glover', 351033, 11354742, Decimal('0.99')), (821, 'Ramshackle Man', 66, 1, 1, 'roger glover', 334445, 10874679, Decimal('0.99')), (822, 'A Twist In The Tail', 66, 1, 1, 'roger glover', 257462, 8413103, Decimal('0.99')), (824, 'Solitaire', 66, 1, 1, 'roger glover', 282226, 9157021, Decimal('0.99')), (825, \"One Man's Meat\", 66, 1, 1, 'roger glover', 278804, 9068960, Decimal('0.99')), (1055, 'Loves Been Good To Me', 83, 1, 12, 'rod mckuen', 203964, 6645365, Decimal('0.99')), (1041, 'For Once In My Life', 83, 1, 12, 'orlando murden/ronald miller', 171154, 5557537, Decimal('0.99')), (1052, 'The Lady Is A Tramp', 83, 1, 12, 'lorenz hart/richard rodgers', 184111, 5987372, Decimal('0.99'))]\n"
     ]
    }
   ],
   "source": [
    "with engine.connect() as con:\n",
    "    stmt = select(tracks).order_by(tracks.columns.Composer.desc())\n",
    "    results = con.execute(stmt).fetchmany(size=10)\n",
    "print(results)"
   ]
  },
  {
   "cell_type": "code",
   "execution_count": 46,
   "metadata": {},
   "outputs": [
    {
     "name": "stdout",
     "output_type": "stream",
     "text": [
      "2023-09-21 13:58:54,801 INFO sqlalchemy.engine.Engine BEGIN (implicit)\n",
      "2023-09-21 13:58:54,802 INFO sqlalchemy.engine.Engine SELECT sum(tracks.\"Milliseconds\") AS sum_1 \n",
      "FROM tracks\n",
      "2023-09-21 13:58:54,803 INFO sqlalchemy.engine.Engine [cached since 9.394s ago] ()\n",
      "2023-09-21 13:58:54,804 INFO sqlalchemy.engine.Engine ROLLBACK\n",
      "1378778040\n"
     ]
    }
   ],
   "source": [
    "from sqlalchemy import func\n",
    "\n",
    "with engine.connect() as con:\n",
    "    stmt = select(func.sum(tracks.columns.Milliseconds))\n",
    "    results = con.execute(stmt).scalar()\n",
    "print(results)\n"
   ]
  }
 ],
 "metadata": {
  "kernelspec": {
   "display_name": "Python 3",
   "language": "python",
   "name": "python3"
  },
  "language_info": {
   "codemirror_mode": {
    "name": "ipython",
    "version": 3
   },
   "file_extension": ".py",
   "mimetype": "text/x-python",
   "name": "python",
   "nbconvert_exporter": "python",
   "pygments_lexer": "ipython3",
   "version": "3.10.8"
  },
  "orig_nbformat": 4
 },
 "nbformat": 4,
 "nbformat_minor": 2
}
